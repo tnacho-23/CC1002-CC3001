{
  "cells": [
    {
      "cell_type": "markdown",
      "metadata": {
        "id": "TuBrFz2U_Hth"
      },
      "source": [
        "# CC3001 Otoño 2021 Tarea 5 - Ignacio Romero\n",
        "\n",
        "### Profesores\n",
        "Sección 1 Nelson Baloian/Patricio Poblete •\n",
        "Sección 2 Benjamín Bustos •\n",
        "Sección 3 Sebastián Ferrada\n"
      ]
    },
    {
      "cell_type": "markdown",
      "metadata": {
        "id": "vJsSzP2uyk39"
      },
      "source": [
        "# Heaps $k$-arios\n",
        "\n",
        "Un heap  $k$-ario es una generalización de los heaps binarios que vimos en cátedra. La diferencia es que un heap  $k$-ario con  $n$  elementos usa un árbol  $k$-ario balanceado perfecto representado en las  $n$  primeras posiciones de un arreglo. El siguiente es un ejemplo de un heap ternario ($k=3$, $n=9$):\n",
        "\n",
        "![3-heap](https://dcc.uchile.cl/ppoblete/cc3001/2023-2/3-heap.png)\n",
        "\n",
        "Las operaciones que deben implementar para este TDA son insertar un nuevo valor (``insert``) y extraer el máximo (``extract_max``).\n",
        "\n",
        "El objetivo de esta tarea es implementar heaps $k$-arios en forma de una clase de Python y luego utilizarla para ordenar un arreglo de datos."
      ]
    },
    {
      "cell_type": "markdown",
      "metadata": {
        "id": "8kY2A2e9yt7V"
      },
      "source": [
        "## Relación entre padre e hijos en un heap $k$-ario\n",
        "\n",
        "Recordemos que en un heap binario se tiene que\n",
        "\n",
        "$$\n",
        "\\begin{align}\n",
        "\\text{hijos del nodo }i &= \\{2i+1,2i+2\\} \\\\\n",
        "\\text{padre del nodo }j &= \\left\\lfloor \\frac{j-1}{2} \\right\\rfloor\n",
        "\\end{align}\n",
        "$$\n",
        "\n",
        "Escriba a continuación la relación análoga para un heap $k$-ario:\n",
        "\n",
        "$$\n",
        "\\begin{align}\n",
        "\\text{hijos del nodo }i &=   \\\\\n",
        "\\text{padre del nodo }j &=\n",
        "\\end{align}\n",
        "$$"
      ]
    },
    {
      "cell_type": "markdown",
      "metadata": {
        "id": "byFvKwG5Q7fP"
      },
      "source": [
        "## Implementación de la clase Heap\n",
        "\n",
        "El siguiente código implementa un heap binario. Usted debe modificarlo para que sea un heap $k$-ario, agregando el parámetro $k$ en ``__init__`` y utilizándolo en donde sea necesario."
      ]
    },
    {
      "cell_type": "code",
      "execution_count": 5,
      "metadata": {
        "id": "8FZLmJeVH96Q"
      },
      "outputs": [],
      "source": [
        "import numpy as np\n",
        "\n",
        "class Heap:\n",
        "    def __init__(self, k, maxn=100):\n",
        "        self.a = np.zeros(maxn)\n",
        "        self.n = 0\n",
        "        self.k = k\n",
        "\n",
        "    def trepar(self, j):\n",
        "        while j >= 1 and self.a[j] > self.a[(j-1)//self.k]:\n",
        "            (self.a[j], self.a[(j-1)//self.k]) = (self.a[(j-1)//self.k], self.a[j])\n",
        "            j = (j-1)//self.k\n",
        "\n",
        "    def hundir(self, j):\n",
        "        while self.k*j + 1 < self.n:\n",
        "            i = self.k*j + 1\n",
        "            max_child = i\n",
        "\n",
        "            for m in range(1, self.k):\n",
        "                if i + m < self.n and self.a[i + m] > self.a[max_child]:\n",
        "                    max_child = i + m\n",
        "\n",
        "            if self.a[j] >= self.a[max_child]:\n",
        "                break\n",
        "            (self.a[j], self.a[max_child]) = (self.a[max_child], self.a[j])\n",
        "            j = max_child\n",
        "\n",
        "    def insert(self, x):\n",
        "        assert self.n < len(self.a)\n",
        "        self.a[self.n] = x\n",
        "        self.trepar(self.n)\n",
        "        self.n += 1\n",
        "\n",
        "    def extract_max(self):\n",
        "        assert self.n > 0\n",
        "        x = self.a[0]\n",
        "        self.n -= 1\n",
        "        self.a[0] = self.a[self.n]\n",
        "        self.hundir(0)\n",
        "        return x\n"
      ]
    },
    {
      "cell_type": "markdown",
      "metadata": {
        "id": "-_xXYgvs_Htw"
      },
      "source": [
        "## Un algoritmo de ordenación basado en un heap $k$-ario\n",
        "\n",
        "El siguiente código (del apunte) ordena un arreglo dado usando un heap binario. Modifíquelo para que utilice un heap $k$-ario."
      ]
    },
    {
      "cell_type": "code",
      "execution_count": 10,
      "metadata": {
        "id": "U4ASHn-0RxtC"
      },
      "outputs": [],
      "source": [
        "def Heapsort(a, k):\n",
        "    n = len(a)\n",
        "    h = Heap(k, n)\n",
        "    \n",
        "    # Fase 1: insertamos los elementos en un heap\n",
        "    for i in range(0, n):\n",
        "        h.insert(a[i])\n",
        "    \n",
        "    # Fase 2: extraemos el máximo sucesivamente\n",
        "    for i in range(n-1, -1, -1):\n",
        "        a[i] = h.extract_max()"
      ]
    },
    {
      "cell_type": "markdown",
      "metadata": {
        "id": "s5-QiUcIpTWO"
      },
      "source": [
        "# Probando el programa\n",
        "\n",
        "En primer lugar vamos a definir una función para chequear que un arreglo está ordenado:"
      ]
    },
    {
      "cell_type": "code",
      "execution_count": 11,
      "metadata": {
        "id": "y98sq9T_STH7"
      },
      "outputs": [],
      "source": [
        "def chequea_orden(a):\n",
        "    print(\"Arreglo de tamaño\",len(a),\":\",\"Ordenado\" if np.all(a[:-1]<=a[1:]) else \"Desordenado\")"
      ]
    },
    {
      "cell_type": "markdown",
      "metadata": {
        "id": "sPVexn3drgN1"
      },
      "source": [
        "A continuación probamos este algoritmo, primero con un arreglo pequeño, y luego con uno más grande. El código que aparece a continuación funciona para un heap binario. Modifíquelo para que opere con un heap ternario:"
      ]
    },
    {
      "cell_type": "code",
      "execution_count": 12,
      "metadata": {
        "colab": {
          "base_uri": "https://localhost:8080/"
        },
        "id": "zcqR8NyESrvA",
        "outputId": "db04432a-ac0f-4731-a496-44c3d98faf63"
      },
      "outputs": [
        {
          "name": "stdout",
          "output_type": "stream",
          "text": [
            "[0.64329931 0.6352683  0.20254161 0.98987184 0.4373205  0.28021775\n",
            " 0.36718889 0.7775002  0.20093288 0.28124954 0.95737081 0.64549169]\n",
            "Arreglo de tamaño 12 : Desordenado\n",
            "[0.20093288 0.20254161 0.28021775 0.28124954 0.36718889 0.4373205\n",
            " 0.6352683  0.64329931 0.64549169 0.7775002  0.95737081 0.98987184]\n",
            "Arreglo de tamaño 12 : Ordenado\n",
            "Arreglo de tamaño 1000 : Desordenado\n",
            "Arreglo de tamaño 1000 : Ordenado\n"
          ]
        }
      ],
      "source": [
        "a = np.random.random(12)\n",
        "print(a)\n",
        "chequea_orden(a)\n",
        "Heapsort(a,3)\n",
        "print(a)\n",
        "chequea_orden(a)\n",
        "\n",
        "a = np.random.random(1000)\n",
        "chequea_orden(a)\n",
        "Heapsort(a,3)\n",
        "chequea_orden(a)"
      ]
    },
    {
      "cell_type": "markdown",
      "metadata": {
        "id": "KMubKFYXTPzw"
      },
      "source": [
        "A continuación ejecute las mismas pruebas usando un heap cuaternario:"
      ]
    },
    {
      "cell_type": "code",
      "execution_count": null,
      "metadata": {
        "id": "vo-YUbRXTc9v"
      },
      "outputs": [],
      "source": [
        "# Prueba de heap cuaternario"
      ]
    },
    {
      "cell_type": "markdown",
      "metadata": {
        "id": "v_UwExwo_HuW"
      },
      "source": [
        "## ¿Qué hay que entregar?\n",
        "\n",
        "Usted debe entregar este mismo archivo, modificado de acuerdo a lo que se pide. Documentar adecuadamente su código. Cite todas las fuentes de información utilizadas. **No olvide poner su nombre en el encabezamiento**."
      ]
    }
  ],
  "metadata": {
    "colab": {
      "provenance": []
    },
    "kernelspec": {
      "display_name": "Python 3",
      "name": "python3"
    },
    "language_info": {
      "codemirror_mode": {
        "name": "ipython",
        "version": 3
      },
      "file_extension": ".py",
      "mimetype": "text/x-python",
      "name": "python",
      "nbconvert_exporter": "python",
      "pygments_lexer": "ipython3",
      "version": "3.6.9"
    }
  },
  "nbformat": 4,
  "nbformat_minor": 0
}
