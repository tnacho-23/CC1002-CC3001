{
  "cells": [
    {
      "cell_type": "markdown",
      "metadata": {
        "id": "TuBrFz2U_Hth"
      },
      "source": [
        "# CC3001 Primavera 2023 Tarea 2 -- Ignacio Romero Aravena\n",
        "\n",
        "## Shellsort\n",
        "\n",
        "### Profesores\n",
        "Sección 1 Nelson Baloian/Patricio Poblete •\n",
        "Sección 2 Benjamín Bustos •\n",
        "Sección 3 Sebastián Ferrada\n"
      ]
    },
    {
      "cell_type": "markdown",
      "metadata": {
        "id": "HiNcDvrX_Htj"
      },
      "source": [
        "El objetivo de esta tarea es que usted implemente el algoritmo de ordenación Shellsort.\n",
        "\n",
        "Para describir cómo funciona Shellsort definamos un arreglo \"$d$-ordenado\" (donde $d$ es un entero mayor o igual a 1) como un arreglo en que cada elemento está ordenado respecto de sus vecinos que están a $d$ casilleros de distancia. Por ejemplo, en el siguiente diagrama se muestran un arreglo antes y después de ser \"3-ordenado\", destacando en distintos colores las subsecuencias que se forman al considerar elementos que están a distancia 3:\n",
        "\n",
        "Antes:\n",
        "\n",
        "![shellsort1](https://github.com/ppoblete/CC3001-2020-2-Tareas/blob/master/shellsort1.png?raw=1)\n",
        "\n",
        "Después:\n",
        "\n",
        "![shellsort2](https://github.com/ppoblete/CC3001-2020-2-Tareas/blob/master/shellsort2.png?raw=1)\n",
        "\n",
        "Noten que el caso particular de un arreglo \"1-ordenado\" (caso $d=1$) sería lo mismo que un arreglo ordenado.\n",
        "\n",
        "El algoritmo Shellsort consiste en hacer una secuencia de pasadas $d$-ordenando el arreglo, cada vez con un valor diferente de $d$, siendo la última siempre con $d=1$.\n",
        "\n",
        "Para hacer una pasada de Shellsort elegimos un valor de $d$ y luego aplicamos una versión modificada de ordenación por inserción. La modificación consiste en que la función ``insertar(a,k)`` compara con el elemento $d$ casilleros más atrás, en lugar de hacerlo con el que está uno más atrás.\n",
        "\n",
        "Para ordenar el arreglo completo, Shellsort hace una secuencia de pasadas, con un conjunto decreciente de valores $d_k,d_{k-1}, \\ldots,d_1$, con $d_1=1$. Esto último asegura que el arreglo quede finalmente ordenado, pero las pasadas anteriores contribuyen a acelerar el proceso, porque hay un teorema (que no les pedimos demostrar) que dice que si un arreglo que ya estaba $i$-ordenado se $j$-ordena, el arreglo resultante sigue estando $i$-ordenado. Esto es, una pasada no echa a perder lo que han hecho las anteriores."
      ]
    },
    {
      "cell_type": "markdown",
      "metadata": {
        "id": "uaJjQHQk_Htk"
      },
      "source": [
        "# Recuerdo de la ordenación por inserción\n",
        "\n",
        "Recuerde que la ordenación por inserción está implementada en el apunte de la manera siguiente:"
      ]
    },
    {
      "cell_type": "code",
      "execution_count": 1,
      "metadata": {
        "id": "pzCxbxct_Htl"
      },
      "outputs": [],
      "source": [
        "def ordena_insercion(a):\n",
        "    \"\"\"Ordena el arreglo a por inserción\"\"\"\n",
        "    n=len(a)\n",
        "    for k in range(0,n):\n",
        "        insertar(a,k)\n",
        "\n",
        "def insertar(a, k):\n",
        "    \"\"\"\n",
        "    Inserta a[k] entre los elementos anteriores\n",
        "    preservando el orden ascendente (versión 2)\n",
        "    \"\"\"\n",
        "    b=a[k] # b almacena transitoriamente al elemento a[k]\n",
        "    j=k # señala la posición del lugar \"vacío\"\n",
        "    while j>0 and b<a[j-1]:\n",
        "        a[j]=a[j-1]\n",
        "        j-=1\n",
        "    a[j]=b"
      ]
    },
    {
      "cell_type": "markdown",
      "metadata": {
        "id": "-_6T3EYX_Htq"
      },
      "source": [
        "Probemos esto para asegurarnos que funcione bien:"
      ]
    },
    {
      "cell_type": "code",
      "execution_count": 2,
      "metadata": {
        "colab": {
          "base_uri": "https://localhost:8080/"
        },
        "id": "rgNh6gp1_Htq",
        "outputId": "30f05a07-f5ed-4548-9f80-875a867860f1"
      },
      "outputs": [
        {
          "name": "stdout",
          "output_type": "stream",
          "text": [
            "[21 35 46 50 56 64 70 72 82 95]\n",
            "Arreglo 1-ordenado OK.\n"
          ]
        }
      ],
      "source": [
        "import numpy as np\n",
        "\n",
        "def verifica_d_ordenado(a,d):\n",
        "    for i in range(0,len(a)-d):\n",
        "        assert a[i]<=a[i+d]\n",
        "    print(\"Arreglo \"+str(d)+\"-ordenado OK.\")\n",
        "\n",
        "A = np.array([46,35,95,21,82,70,72,56,64,50])\n",
        "ordena_insercion(A)\n",
        "print(A)\n",
        "verifica_d_ordenado(A,1)"
      ]
    },
    {
      "cell_type": "markdown",
      "metadata": {
        "id": "-_xXYgvs_Htw"
      },
      "source": [
        "---\n",
        "# Lo que usted tiene que hacer:"
      ]
    },
    {
      "cell_type": "markdown",
      "metadata": {
        "id": "Dc6Hu4Oh_Htw"
      },
      "source": [
        "## 1) Programar una $d$-ordenación\n",
        "\n",
        "Modifique el código anterior para que $d$-ordene el arreglo, para un valor de $d$ dado. Para esto, escriba el código de la función ``d_insertar`` en el espacio provisto:"
      ]
    },
    {
      "cell_type": "code",
      "execution_count": 3,
      "metadata": {
        "id": "hm9LSyGD_Hty"
      },
      "outputs": [],
      "source": [
        "def d_ordena_insercion(a,d):\n",
        "    \"\"\"d-Ordena el arreglo a por inserción\"\"\"\n",
        "    n=len(a)\n",
        "    for k in range(0,n):\n",
        "        d_insertar(a,k,d)\n",
        "\n",
        "def d_insertar(a,k,d):\n",
        "    \"\"\"\n",
        "    Inserta a[k] entre los elementos anteriores a distancia d\n",
        "    preservando el orden ascendente (versión 2)\n",
        "    \"\"\"\n",
        "    b=a[k] # b almacena transitoriamente al elemento a[k]\n",
        "    j=k # señala la posición del lugar \"vacío\"\n",
        "    while j>d-1 and b<a[j-d]:\n",
        "        a[j]=a[j-d]\n",
        "        j-=d\n",
        "    a[j]=b"
      ]
    },
    {
      "cell_type": "markdown",
      "metadata": {
        "id": "i4BDEa33_Ht4"
      },
      "source": [
        "Pruebe aquí que su algoritmo $3$-ordena correctamente:"
      ]
    },
    {
      "cell_type": "code",
      "execution_count": 4,
      "metadata": {
        "id": "jdj2YkxJ_Ht5"
      },
      "outputs": [
        {
          "name": "stdout",
          "output_type": "stream",
          "text": [
            "[21 35 64 46 56 70 50 82 95 72]\n",
            "Arreglo 3-ordenado OK.\n"
          ]
        }
      ],
      "source": [
        "A = np.array([46,35,95,21,82,70,72,56,64,50])\n",
        "d_ordena_insercion(A,3)\n",
        "print(A)\n",
        "verifica_d_ordenado(A,3)"
      ]
    },
    {
      "cell_type": "markdown",
      "metadata": {
        "id": "AMroZLuc_HuD"
      },
      "source": [
        "## 2) Programar Shellsort\n",
        "\n",
        "Con esto ya estamos listos para programar Shellsort, haciendo una secuencia de pasadas, variando el valor de $d$ y terminando con $d=1$.Hay muchas formas conocidas de generar la secuencia de valores de $d$, con variados niveles de eficiencia. A continuación, programe Shellsort usando una secuencia decreciente de valores de la forma $d_k=2^k-1$, esto es: $\\ldots, 63, 31, 15, 7, 3, 1$. Se sabe que esta secuencia hace que Shellsort funcione en tiempo $\\Theta(n^{3/2})$. Su programa debe partir con el índice $k$ más grande tal que $d_k<n$."
      ]
    },
    {
      "cell_type": "code",
      "execution_count": 5,
      "metadata": {},
      "outputs": [],
      "source": [
        "def find_k(n):\n",
        "#Función generada con ChatGPT\n",
        "#Toma un entero n>0 y encuentra el valor de k más grande tal que d_k = (2**k)-1 < n\n",
        "    k = 0\n",
        "    while (2**k) - 1 < n:\n",
        "        k += 1\n",
        "    return k -1\n",
        "\n",
        "#Test\n",
        "assert(find_k(8)==3)\n",
        "assert(find_k(2)==1)\n",
        "assert(find_k(32)==5)\n",
        "assert(find_k(100)==6)"
      ]
    },
    {
      "cell_type": "code",
      "execution_count": 6,
      "metadata": {
        "id": "macdtYd8_HuE"
      },
      "outputs": [],
      "source": [
        "def Shellsort(a):\n",
        "    \"\"\"Ordena a usando Shell Sort, con la secuencia de valores …,63,31,15,7,3,1\"\"\"\n",
        "    n = len(a)\n",
        "    k = find_k(n)\n",
        "    for i in range(k,0,-1):\n",
        "        d_i = (2**i)-1\n",
        "        # print(d_i)\n",
        "        d_ordena_insercion(a,d_i)\n",
        "    return a"
      ]
    },
    {
      "cell_type": "markdown",
      "metadata": {
        "id": "E9jipDWZ_HuG"
      },
      "source": [
        "Pruebe aquí su algoritmo de la manera siguiente:"
      ]
    },
    {
      "cell_type": "code",
      "execution_count": 7,
      "metadata": {
        "id": "5fSJaYs9_HuH"
      },
      "outputs": [
        {
          "name": "stdout",
          "output_type": "stream",
          "text": [
            "[21 35 46 50 56 64 70 72 82 95]\n",
            "Arreglo 1-ordenado OK.\n"
          ]
        }
      ],
      "source": [
        "A = np.array([46,35,95,21,82,70,72,56,64,50])\n",
        "Shellsort(A)\n",
        "print(A)\n",
        "verifica_d_ordenado(A,1)"
      ]
    },
    {
      "cell_type": "markdown",
      "metadata": {
        "id": "Stky3Ts2_HuJ"
      },
      "source": [
        "En la siguiente celda agregue una prueba similar de ordenación de un arreglo de tamaño $1000$ generado al azar (sin imprimirlo):"
      ]
    },
    {
      "cell_type": "code",
      "execution_count": 8,
      "metadata": {
        "id": "sS7LH8wn_HuK"
      },
      "outputs": [
        {
          "name": "stdout",
          "output_type": "stream",
          "text": [
            "Arreglo 1-ordenado OK.\n"
          ]
        }
      ],
      "source": [
        "import random as rd\n",
        "B = np.zeros(1000)\n",
        "for j in range(1000):\n",
        "    B[j]=(rd.randint(0,100000))\n",
        "Shellsort(B)\n",
        "verifica_d_ordenado(B,1)"
      ]
    },
    {
      "cell_type": "markdown",
      "metadata": {
        "id": "X38mE4fQ_HuR"
      },
      "source": [
        "## 3) Probar con una secuencia diferente de valores $d_k$\n",
        "\n",
        "Finalmente, investigue respecto de otras maneras de generar la secuencia $d_k$, escoja una secuencia en particular, modifique su versión de Shellsort que la use y pruébela."
      ]
    },
    {
      "cell_type": "markdown",
      "metadata": {},
      "source": [
        "Se vio en un estudio empírico [[1]](https://users.dcc.uchile.cl/~bebustos/files/Bus99.pdf), donde se analiza el rendimiento de diferentes series, que la serie $h_i = \\frac{3^i - 1}{2} (... 9841, 3280, 1093, 364, 121, 40, 13, 4, 1)$ donde el paso mayor es el número de la serie tal que en donde el paso mayor es el número de la serie que se encuentra dos posiciones antes del más cercano a n, tiene el rendimiento más alto de las series analizadas.  \n",
        "\n",
        "Así, al implementar el algoritmo con esta serie, se tiene que:"
      ]
    },
    {
      "cell_type": "code",
      "execution_count": 9,
      "metadata": {},
      "outputs": [],
      "source": [
        "def find_i(n):\n",
        "    # Toma un entero n>0 y encuentra el tercer valor de i más grande tal que h_i = {(3**i)-1}/2} < n\n",
        "    # Para que se retorne siempre un número mayor o igual a 1, n>40. Es decir, como tiene que ser el tercer número más grande, si n<=40,\n",
        "    #nos saldríamos del rango para h_i, es decir, tendríamos h_i menores a 1\n",
        "    assert(n>40)\n",
        "    i = 0\n",
        "    while ((3**i)-1)/2 < n:\n",
        "        i += 1\n",
        "    return i - 4\n",
        "\n",
        "\n",
        "# Test\n",
        "assert(find_i(8000)==5)\n",
        "assert(find_i(10000)==6)\n",
        "assert(find_i(50)==1)\n",
        "assert(find_i(41)==1)\n",
        "\n",
        "\n"
      ]
    },
    {
      "cell_type": "code",
      "execution_count": 10,
      "metadata": {},
      "outputs": [],
      "source": [
        "def NewShellsort(a):\n",
        "    # len(a) > 40 por el contrato de find_i\n",
        "    assert(len(a)>40)\n",
        "    n = len(a)\n",
        "    k = find_i(n)\n",
        "    for i in range(k,0,-1):\n",
        "        d_i = int(((3**i)-1)/2)\n",
        "        # print(d_i)\n",
        "        d_ordena_insercion(a,d_i)\n",
        "    return a"
      ]
    },
    {
      "cell_type": "code",
      "execution_count": 11,
      "metadata": {},
      "outputs": [
        {
          "name": "stdout",
          "output_type": "stream",
          "text": [
            "Arreglo 1-ordenado OK.\n"
          ]
        }
      ],
      "source": [
        "C = np.zeros(1000)\n",
        "for j in range(1000):\n",
        "    C[j]=(rd.randint(0,100000))\n",
        "NewShellsort(C)\n",
        "verifica_d_ordenado(C,1)"
      ]
    },
    {
      "cell_type": "markdown",
      "metadata": {
        "id": "v_UwExwo_HuW"
      },
      "source": [
        "## ¿Qué hay que entregar?\n",
        "\n",
        "Usted debe entregar este mismo archivo, modificado de acuerdo a lo que se pide. Haga todos los cambios necesarios para explicar y documentar adecuadamente su código. Cite todas las fuentes de información utilizadas. **No olvide poner su nombre en el encabezamiento**."
      ]
    }
  ],
  "metadata": {
    "colab": {
      "provenance": []
    },
    "kernelspec": {
      "display_name": "Python 3",
      "language": "python",
      "name": "python3"
    },
    "language_info": {
      "codemirror_mode": {
        "name": "ipython",
        "version": 3
      },
      "file_extension": ".py",
      "mimetype": "text/x-python",
      "name": "python",
      "nbconvert_exporter": "python",
      "pygments_lexer": "ipython3",
      "version": "3.11.0"
    }
  },
  "nbformat": 4,
  "nbformat_minor": 0
}
