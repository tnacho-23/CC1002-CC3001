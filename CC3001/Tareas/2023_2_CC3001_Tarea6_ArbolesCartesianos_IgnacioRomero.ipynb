{
  "nbformat": 4,
  "nbformat_minor": 0,
  "metadata": {
    "colab": {
      "provenance": []
    },
    "kernelspec": {
      "display_name": "Python 3 (ipykernel)",
      "language": "python",
      "name": "python3"
    },
    "language_info": {
      "codemirror_mode": {
        "name": "ipython",
        "version": 3
      },
      "file_extension": ".py",
      "mimetype": "text/x-python",
      "name": "python",
      "nbconvert_exporter": "python",
      "pygments_lexer": "ipython3",
      "version": "3.9.6"
    }
  },
  "cells": [
    {
      "cell_type": "markdown",
      "metadata": {
        "id": "jbGTgr_lRz25"
      },
      "source": [
        "# CC3001 2023-2 - Tarea 6: Árboles Cartesianos\n",
        "### Profesores\n",
        "Sección 1 Nelson Baloian/Patricio Poblete •\n",
        "Sección 2 Benjamín Bustos •\n",
        "Sección 3 Sebastián Ferrada\n",
        "\n",
        "\n"
      ]
    },
    {
      "cell_type": "markdown",
      "metadata": {
        "id": "EDxe3m7-R8N0"
      },
      "source": [
        "En esta tarea usted debe implementar árboles cartesianos, con las operaciones de insertar y eliminar. Según las condiciones de su sección, pueden entregar un link a su tarea en `colab` o subir un archivo en el formato Jupyter NoteBook (`.ipynb`).\n",
        "\n",
        "Antes de probar su implementación, ejecute primero las siguientes líneas de código."
      ]
    },
    {
      "cell_type": "code",
      "metadata": {
        "colab": {
          "base_uri": "https://localhost:8080/"
        },
        "id": "3dtDidJvVnah",
        "outputId": "6f9a25fe-e031-4800-e470-122c1d9c2962"
      },
      "source": [
        "!pip install aed-utilities\n",
        "\n",
        "import aed_utilities as aed"
      ],
      "execution_count": null,
      "outputs": [
        {
          "output_type": "stream",
          "name": "stdout",
          "text": [
            "Collecting aed-utilities\n",
            "  Downloading aed_utilities-0.5.4.tar.gz (4.3 kB)\n",
            "Collecting validators\n",
            "  Downloading validators-0.18.2-py3-none-any.whl (19 kB)\n",
            "Requirement already satisfied: beautifulsoup4 in /usr/local/lib/python3.7/dist-packages (from aed-utilities) (4.6.3)\n",
            "Requirement already satisfied: six>=1.4.0 in /usr/local/lib/python3.7/dist-packages (from validators->aed-utilities) (1.15.0)\n",
            "Requirement already satisfied: decorator>=3.4.0 in /usr/local/lib/python3.7/dist-packages (from validators->aed-utilities) (4.4.2)\n",
            "Building wheels for collected packages: aed-utilities\n",
            "  Building wheel for aed-utilities (setup.py) ... \u001b[?25l\u001b[?25hdone\n",
            "  Created wheel for aed-utilities: filename=aed_utilities-0.5.4-py3-none-any.whl size=4517 sha256=3023a65db44ee60a4b27b1ee8af4f9fac2b91df1307930689532caf50c198031\n",
            "  Stored in directory: /root/.cache/pip/wheels/89/22/23/7a1d3417e414fecbd89e530645f6c9ca08cfdeac8ab0cfba62\n",
            "Successfully built aed-utilities\n",
            "Installing collected packages: validators, aed-utilities\n",
            "Successfully installed aed-utilities-0.5.4 validators-0.18.2\n"
          ]
        }
      ]
    },
    {
      "cell_type": "markdown",
      "metadata": {
        "id": "4ZkKYk6VSPdB"
      },
      "source": [
        "---\n",
        "# Descripción de un árbol cartesiano"
      ]
    },
    {
      "cell_type": "markdown",
      "metadata": {
        "id": "dyXAyyK6SzH-"
      },
      "source": [
        "Un *árbol cartesiano* es un árbol binario en que cada nodo interno contiene un par ordenado $(x,y)$, tal que:\n",
        "\n",
        "* Si se consideran las coordenadas $x$, el árbol es un ABB\n",
        "* Si se consideran las coordenadas $y$, el árbol es un árbol de prioridad\n",
        "\n",
        "La siguiente figura muestra a un árbol cartesiano en que la máxima prioridad corresponde al valor mínimo de $y$:\n",
        "\n",
        "![cartesian-tree](https://github.com/ivansipiran/AED-Apuntes/blob/main/recursos/cartesian-tree.png?raw=1)\n",
        "\n",
        "Intuitivamente, podemos imaginar que la prioridad $y$ corresponde a la hora en que la llave $x$ ingresó al árbol. Esto explica que la raíz tenga el valor mínimo de $y$, y que estos valores vayan creciendo a medida que descendemos en el árbol.\n",
        "\n",
        "Sin embargo, _no estamos obligados a insertar las llaves en orden cronológico_. En efecto, veremos que un nuevo par $(x,y)$ se puede insertar en cualquier momento, aunque su $y$ no sea mayor que los de los nodos que ya están en el árbol..\n",
        "\n",
        "Para insertar un nuevo par ordenado en un árbol cartesiano, primero efectuamos una inserción como si fuera un ABB, con lo cual el nuevo nodo cumple con las restricciones \"izquierda-derecha\" en su coordenada $x$, pero posiblemente no con las restricciones de prioridad \"arriba-abajo\" de la coordenada $y$. Para corregir esto último, a continuación, hacemos una serie de rotaciones para que el nuevo nodo vaya \"trepando\" hasta que cumpla con las restricciones de prioridad.\n",
        "\n",
        "También es posible eliminar un nodo dado de un árbol cartesiano. Para esto, una vez ubicado el nodo que contiene el $x$ que se va a eliminar, podemos imaginar que le cambiamos la prioridad a una prioridad pésima (\"$+\\infty$\") y luego lo \"hundimos\" haciendo una serie de rotaciones, rotando siempre con el hijo de mejor prioridad (menor valor de $y$), hasta llegar al fondo. Una vez ahí, es trivial eliminarlo, porque no tiene hijos."
      ]
    },
    {
      "cell_type": "markdown",
      "metadata": {
        "id": "0Y-mbNFvUWM_"
      },
      "source": [
        "# La Tarea\n",
        "\n",
        "\n",
        "\n",
        "En primer lugar, usted debe implementar las funciones `insert` y `delete` en las clases `Nodoi` y `Nodoe`. Puede crear todas las funciones auxiliares que requiera para implementar estos métodos. No está permitido usar ninguna función ya programada en módulos de Python. En caso de requerirla, puede utilizar la función predefinida `isinstance` de Python."
      ]
    },
    {
      "cell_type": "code",
      "metadata": {
        "id": "UprCPjX1VO_D"
      },
      "source": [
        "class Nodoi:\n",
        "    def __init__(self, izq, info, der):\n",
        "        self.izq=izq\n",
        "        self.info=info # el campo info contiene una tupla (x,y)\n",
        "        self.der=der\n",
        "    def right_rotation(self):\n",
        "        return(Nodoi(self.izq.izq,\n",
        "                     self.izq.info,\n",
        "                     Nodoi(self.izq.der,self.info,self.der)))\n",
        "    def left_rotation(self):\n",
        "        return(Nodoi(Nodoi(self.izq,self.info,self.der.izq),\n",
        "                     self.der.info,\n",
        "                     self.der.der))\n",
        "    def insert(self,xy): # insertar la tupla xy=(x,y) donde x es la llave e y es la prioridad\n",
        "        # Escriba aquí su implementación\n",
        "\n",
        "    def delete(self,x): # eliminar el nodo con llave x\n",
        "        # Escriba aquí su implementación\n",
        "\n",
        "class Nodoe:\n",
        "    def __init__(self):\n",
        "        pass\n",
        "\n",
        "    def insert(self,xy): # insertar la tupla xy=(x,y) donde x es la llave e y es la prioridad\n",
        "        # Escriba aquí su implementación\n",
        "\n",
        "    def delete(self,x): # eliminar el nodo con llave x\n",
        "        # Escriba aquí su implementación\n",
        "\n",
        "\n",
        "class ArbolCartesiano:\n",
        "    def __init__(self,raiz=Nodoe()):\n",
        "        self.raiz=raiz\n",
        "    def insert(self,xy):\n",
        "        self.raiz=self.raiz.insert(xy)\n",
        "    def delete(self,x):\n",
        "        self.raiz=self.raiz.delete(x)\n",
        "\n",
        "    def dibujar(self):\n",
        "      btd = aed.BinaryTreeDrawer(fieldData=\"info\", fieldLeft=\"izq\", fieldRight=\"der\", classNone=Nodoe, drawNull=True, shapeInternal='oval')\n",
        "      btd.draw_tree(self, \"raiz\")"
      ],
      "execution_count": null,
      "outputs": []
    },
    {
      "cell_type": "markdown",
      "metadata": {
        "id": "7vRc0MN-686N"
      },
      "source": [
        "Luego, pruebe su implementación con las siguientes operaciones (verifique con el dibujo de árbol que la operación se realizó correctamente)):"
      ]
    },
    {
      "cell_type": "code",
      "metadata": {
        "colab": {
          "base_uri": "https://localhost:8080/",
          "height": 50
        },
        "id": "9RlgDJNEWOTZ",
        "outputId": "b600a875-349f-423b-a1f2-6770db40d16e"
      },
      "source": [
        "a=ArbolCartesiano()\n",
        "a.dibujar()"
      ],
      "execution_count": null,
      "outputs": [
        {
          "output_type": "display_data",
          "data": {
            "text/plain": [
              "<IPython.core.display.SVG object>"
            ],
            "image/svg+xml": "<svg height=\"22pt\" viewBox=\"0.00 0.00 22.00 22.00\" width=\"22pt\" xmlns=\"http://www.w3.org/2000/svg\" xmlns:xlink=\"http://www.w3.org/1999/xlink\">\n<g class=\"graph\" id=\"graph0\" transform=\"scale(1 1) rotate(0) translate(4 18)\">\n<title>Arbol</title>\n<polygon fill=\"#ffffff\" points=\"-4,4 -4,-18 18,-18 18,4 -4,4\" stroke=\"transparent\"/>\n<!-- null0 -->\n<g class=\"node\" id=\"node1\">\n<title>null0</title>\n<polygon fill=\"none\" points=\"14,-14 0,-14 0,0 14,0 14,-14\" stroke=\"#000000\"/>\n</g>\n</g>\n</svg>"
          },
          "metadata": {}
        }
      ]
    },
    {
      "cell_type": "code",
      "metadata": {
        "colab": {
          "base_uri": "https://localhost:8080/",
          "height": 122
        },
        "id": "2gQgTw0CeT6u",
        "outputId": "2e5575dc-fb3f-40a2-a0b0-cc2c4134c49d"
      },
      "source": [
        "a.insert((82,0.30))\n",
        "a.dibujar()"
      ],
      "execution_count": null,
      "outputs": [
        {
          "output_type": "display_data",
          "data": {
            "text/plain": [
              "<IPython.core.display.SVG object>"
            ],
            "image/svg+xml": "<svg height=\"76pt\" viewBox=\"0.00 0.00 89.20 76.20\" width=\"89pt\" xmlns=\"http://www.w3.org/2000/svg\" xmlns:xlink=\"http://www.w3.org/1999/xlink\">\n<g class=\"graph\" id=\"graph0\" transform=\"scale(1 1) rotate(0) translate(4 72.2)\">\n<title>Arbol</title>\n<polygon fill=\"#ffffff\" points=\"-4,4 -4,-72.2 85.2,-72.2 85.2,4 -4,4\" stroke=\"transparent\"/>\n<!-- null0 -->\n<g class=\"node\" id=\"node1\">\n<title>null0</title>\n<polygon fill=\"none\" points=\"14,-14 0,-14 0,0 14,0 14,-14\" stroke=\"#000000\"/>\n</g>\n<!-- node0 -->\n<g class=\"node\" id=\"node2\">\n<title>node0</title>\n<ellipse cx=\"40.6\" cy=\"-50.2\" fill=\"none\" rx=\"28.102\" ry=\"18\" stroke=\"#000000\"/>\n<text fill=\"#000000\" font-family=\"Times,serif\" font-size=\"14.00\" text-anchor=\"middle\" x=\"40.6\" y=\"-46.5\">(82, 0.3)</text>\n</g>\n<!-- node0&#45;&#45;null0 -->\n<g class=\"edge\" id=\"edge1\">\n<title>node0--null0</title>\n<path d=\"M27.7055,-33.6213C22.5236,-26.9589 16.817,-19.6218 12.7093,-14.3405\" fill=\"none\" stroke=\"#000000\"/>\n</g>\n<!-- null1 -->\n<g class=\"node\" id=\"node3\">\n<title>null1</title>\n<polygon fill=\"none\" points=\"81.2,-14 67.2,-14 67.2,0 81.2,0 81.2,-14\" stroke=\"#000000\"/>\n</g>\n<!-- node0&#45;&#45;null1 -->\n<g class=\"edge\" id=\"edge2\">\n<title>node0--null1</title>\n<path d=\"M53.4945,-33.6213C58.6764,-26.9589 64.383,-19.6218 68.4907,-14.3405\" fill=\"none\" stroke=\"#000000\"/>\n</g>\n</g>\n</svg>"
          },
          "metadata": {}
        }
      ]
    },
    {
      "cell_type": "code",
      "metadata": {
        "colab": {
          "base_uri": "https://localhost:8080/",
          "height": 180
        },
        "id": "v_5zpTk6c6En",
        "outputId": "64d86b08-80e2-4b0c-92bb-94b5f62bb392"
      },
      "source": [
        "a.insert((15,0.61))\n",
        "a.dibujar()"
      ],
      "execution_count": null,
      "outputs": [
        {
          "output_type": "display_data",
          "data": {
            "text/plain": [
              "<IPython.core.display.SVG object>"
            ],
            "image/svg+xml": "<svg height=\"119pt\" viewBox=\"0.00 0.00 156.40 119.40\" width=\"156pt\" xmlns=\"http://www.w3.org/2000/svg\" xmlns:xlink=\"http://www.w3.org/1999/xlink\">\n<g class=\"graph\" id=\"graph0\" transform=\"scale(1 1) rotate(0) translate(4 115.4)\">\n<title>Arbol</title>\n<polygon fill=\"#ffffff\" points=\"-4,4 -4,-115.4 152.4,-115.4 152.4,4 -4,4\" stroke=\"transparent\"/>\n<!-- null0 -->\n<g class=\"node\" id=\"node1\">\n<title>null0</title>\n<polygon fill=\"none\" points=\"14,-14 0,-14 0,0 14,0 14,-14\" stroke=\"#000000\"/>\n</g>\n<!-- node0 -->\n<g class=\"node\" id=\"node2\">\n<title>node0</title>\n<ellipse cx=\"40.6\" cy=\"-50.2\" fill=\"none\" rx=\"31.8025\" ry=\"18\" stroke=\"#000000\"/>\n<text fill=\"#000000\" font-family=\"Times,serif\" font-size=\"14.00\" text-anchor=\"middle\" x=\"40.6\" y=\"-46.5\">(15, 0.61)</text>\n</g>\n<!-- node0&#45;&#45;null0 -->\n<g class=\"edge\" id=\"edge2\">\n<title>node0--null0</title>\n<path d=\"M27.7055,-33.6213C22.5236,-26.9589 16.817,-19.6218 12.7093,-14.3405\" fill=\"none\" stroke=\"#000000\"/>\n</g>\n<!-- null1 -->\n<g class=\"node\" id=\"node3\">\n<title>null1</title>\n<polygon fill=\"none\" points=\"81.2,-14 67.2,-14 67.2,0 81.2,0 81.2,-14\" stroke=\"#000000\"/>\n</g>\n<!-- node0&#45;&#45;null1 -->\n<g class=\"edge\" id=\"edge3\">\n<title>node0--null1</title>\n<path d=\"M53.4945,-33.6213C58.6764,-26.9589 64.383,-19.6218 68.4907,-14.3405\" fill=\"none\" stroke=\"#000000\"/>\n</g>\n<!-- node1 -->\n<g class=\"node\" id=\"node4\">\n<title>node1</title>\n<ellipse cx=\"107.8\" cy=\"-93.4\" fill=\"none\" rx=\"28.102\" ry=\"18\" stroke=\"#000000\"/>\n<text fill=\"#000000\" font-family=\"Times,serif\" font-size=\"14.00\" text-anchor=\"middle\" x=\"107.8\" y=\"-89.7\">(82, 0.3)</text>\n</g>\n<!-- node1&#45;&#45;node0 -->\n<g class=\"edge\" id=\"edge1\">\n<title>node1--node0</title>\n<path d=\"M87.6378,-80.4386C79.4418,-75.1697 69.9685,-69.0798 61.681,-63.7521\" fill=\"none\" stroke=\"#000000\"/>\n</g>\n<!-- null2 -->\n<g class=\"node\" id=\"node5\">\n<title>null2</title>\n<polygon fill=\"none\" points=\"148.4,-57.2 134.4,-57.2 134.4,-43.2 148.4,-43.2 148.4,-57.2\" stroke=\"#000000\"/>\n</g>\n<!-- node1&#45;&#45;null2 -->\n<g class=\"edge\" id=\"edge4\">\n<title>node1--null2</title>\n<path d=\"M120.6945,-76.8213C125.8764,-70.1589 131.583,-62.8218 135.6907,-57.5405\" fill=\"none\" stroke=\"#000000\"/>\n</g>\n</g>\n</svg>"
          },
          "metadata": {}
        }
      ]
    },
    {
      "cell_type": "code",
      "metadata": {
        "colab": {
          "base_uri": "https://localhost:8080/",
          "height": 180
        },
        "id": "0DVtYs2bd0JT",
        "outputId": "6b375bb7-1676-47c5-c100-90f92b0f0142"
      },
      "source": [
        "a.insert((64,0.12))\n",
        "a.dibujar()"
      ],
      "execution_count": null,
      "outputs": [
        {
          "output_type": "display_data",
          "data": {
            "text/plain": [
              "<IPython.core.display.SVG object>"
            ],
            "image/svg+xml": "<svg height=\"119pt\" viewBox=\"0.00 0.00 223.60 119.40\" width=\"224pt\" xmlns=\"http://www.w3.org/2000/svg\" xmlns:xlink=\"http://www.w3.org/1999/xlink\">\n<g class=\"graph\" id=\"graph0\" transform=\"scale(1 1) rotate(0) translate(4 115.4)\">\n<title>Arbol</title>\n<polygon fill=\"#ffffff\" points=\"-4,4 -4,-115.4 219.6,-115.4 219.6,4 -4,4\" stroke=\"transparent\"/>\n<!-- null0 -->\n<g class=\"node\" id=\"node1\">\n<title>null0</title>\n<polygon fill=\"none\" points=\"14,-14 0,-14 0,0 14,0 14,-14\" stroke=\"#000000\"/>\n</g>\n<!-- node0 -->\n<g class=\"node\" id=\"node2\">\n<title>node0</title>\n<ellipse cx=\"40.6\" cy=\"-50.2\" fill=\"none\" rx=\"31.8025\" ry=\"18\" stroke=\"#000000\"/>\n<text fill=\"#000000\" font-family=\"Times,serif\" font-size=\"14.00\" text-anchor=\"middle\" x=\"40.6\" y=\"-46.5\">(15, 0.61)</text>\n</g>\n<!-- node0&#45;&#45;null0 -->\n<g class=\"edge\" id=\"edge2\">\n<title>node0--null0</title>\n<path d=\"M27.7055,-33.6213C22.5236,-26.9589 16.817,-19.6218 12.7093,-14.3405\" fill=\"none\" stroke=\"#000000\"/>\n</g>\n<!-- null1 -->\n<g class=\"node\" id=\"node3\">\n<title>null1</title>\n<polygon fill=\"none\" points=\"81.2,-14 67.2,-14 67.2,0 81.2,0 81.2,-14\" stroke=\"#000000\"/>\n</g>\n<!-- node0&#45;&#45;null1 -->\n<g class=\"edge\" id=\"edge3\">\n<title>node0--null1</title>\n<path d=\"M53.4945,-33.6213C58.6764,-26.9589 64.383,-19.6218 68.4907,-14.3405\" fill=\"none\" stroke=\"#000000\"/>\n</g>\n<!-- node2 -->\n<g class=\"node\" id=\"node4\">\n<title>node2</title>\n<ellipse cx=\"107.8\" cy=\"-93.4\" fill=\"none\" rx=\"31.8025\" ry=\"18\" stroke=\"#000000\"/>\n<text fill=\"#000000\" font-family=\"Times,serif\" font-size=\"14.00\" text-anchor=\"middle\" x=\"107.8\" y=\"-89.7\">(64, 0.12)</text>\n</g>\n<!-- node2&#45;&#45;node0 -->\n<g class=\"edge\" id=\"edge1\">\n<title>node2--node0</title>\n<path d=\"M86.5375,-79.7313C78.6933,-74.6885 69.8072,-68.9761 61.9548,-63.9281\" fill=\"none\" stroke=\"#000000\"/>\n</g>\n<!-- node1 -->\n<g class=\"node\" id=\"node6\">\n<title>node1</title>\n<ellipse cx=\"175\" cy=\"-50.2\" fill=\"none\" rx=\"28.102\" ry=\"18\" stroke=\"#000000\"/>\n<text fill=\"#000000\" font-family=\"Times,serif\" font-size=\"14.00\" text-anchor=\"middle\" x=\"175\" y=\"-46.5\">(82, 0.3)</text>\n</g>\n<!-- node2&#45;&#45;node1 -->\n<g class=\"edge\" id=\"edge4\">\n<title>node2--node1</title>\n<path d=\"M129.0625,-79.7313C137.3682,-74.3919 146.8418,-68.3017 155.0197,-63.0445\" fill=\"none\" stroke=\"#000000\"/>\n</g>\n<!-- null2 -->\n<g class=\"node\" id=\"node5\">\n<title>null2</title>\n<polygon fill=\"none\" points=\"148.4,-14 134.4,-14 134.4,0 148.4,0 148.4,-14\" stroke=\"#000000\"/>\n</g>\n<!-- node1&#45;&#45;null2 -->\n<g class=\"edge\" id=\"edge5\">\n<title>node1--null2</title>\n<path d=\"M162.1055,-33.6213C156.9236,-26.9589 151.217,-19.6218 147.1093,-14.3405\" fill=\"none\" stroke=\"#000000\"/>\n</g>\n<!-- null3 -->\n<g class=\"node\" id=\"node7\">\n<title>null3</title>\n<polygon fill=\"none\" points=\"215.6,-14 201.6,-14 201.6,0 215.6,0 215.6,-14\" stroke=\"#000000\"/>\n</g>\n<!-- node1&#45;&#45;null3 -->\n<g class=\"edge\" id=\"edge6\">\n<title>node1--null3</title>\n<path d=\"M187.8945,-33.6213C193.0764,-26.9589 198.783,-19.6218 202.8907,-14.3405\" fill=\"none\" stroke=\"#000000\"/>\n</g>\n</g>\n</svg>"
          },
          "metadata": {}
        }
      ]
    },
    {
      "cell_type": "code",
      "metadata": {
        "colab": {
          "base_uri": "https://localhost:8080/",
          "height": 238
        },
        "id": "LppD37_WeDiN",
        "outputId": "d35cf852-ce27-4f77-8790-fa8b9bb98c35"
      },
      "source": [
        "a.insert((35,0.84))\n",
        "a.dibujar()"
      ],
      "execution_count": null,
      "outputs": [
        {
          "output_type": "display_data",
          "data": {
            "text/plain": [
              "<IPython.core.display.SVG object>"
            ],
            "image/svg+xml": "<svg height=\"163pt\" viewBox=\"0.00 0.00 290.80 162.60\" width=\"291pt\" xmlns=\"http://www.w3.org/2000/svg\" xmlns:xlink=\"http://www.w3.org/1999/xlink\">\n<g class=\"graph\" id=\"graph0\" transform=\"scale(1 1) rotate(0) translate(4 158.6)\">\n<title>Arbol</title>\n<polygon fill=\"#ffffff\" points=\"-4,4 -4,-158.6 286.8,-158.6 286.8,4 -4,4\" stroke=\"transparent\"/>\n<!-- null0 -->\n<g class=\"node\" id=\"node1\">\n<title>null0</title>\n<polygon fill=\"none\" points=\"14,-57.2 0,-57.2 0,-43.2 14,-43.2 14,-57.2\" stroke=\"#000000\"/>\n</g>\n<!-- node1 -->\n<g class=\"node\" id=\"node2\">\n<title>node1</title>\n<ellipse cx=\"40.6\" cy=\"-93.4\" fill=\"none\" rx=\"31.8025\" ry=\"18\" stroke=\"#000000\"/>\n<text fill=\"#000000\" font-family=\"Times,serif\" font-size=\"14.00\" text-anchor=\"middle\" x=\"40.6\" y=\"-89.7\">(15, 0.61)</text>\n</g>\n<!-- node1&#45;&#45;null0 -->\n<g class=\"edge\" id=\"edge2\">\n<title>node1--null0</title>\n<path d=\"M27.7055,-76.8213C22.5236,-70.1589 16.817,-62.8218 12.7093,-57.5405\" fill=\"none\" stroke=\"#000000\"/>\n</g>\n<!-- node0 -->\n<g class=\"node\" id=\"node4\">\n<title>node0</title>\n<ellipse cx=\"107.8\" cy=\"-50.2\" fill=\"none\" rx=\"31.8025\" ry=\"18\" stroke=\"#000000\"/>\n<text fill=\"#000000\" font-family=\"Times,serif\" font-size=\"14.00\" text-anchor=\"middle\" x=\"107.8\" y=\"-46.5\">(35, 0.84)</text>\n</g>\n<!-- node1&#45;&#45;node0 -->\n<g class=\"edge\" id=\"edge3\">\n<title>node1--node0</title>\n<path d=\"M61.8625,-79.7313C69.7067,-74.6885 78.5928,-68.9761 86.4452,-63.9281\" fill=\"none\" stroke=\"#000000\"/>\n</g>\n<!-- null1 -->\n<g class=\"node\" id=\"node3\">\n<title>null1</title>\n<polygon fill=\"none\" points=\"81.2,-14 67.2,-14 67.2,0 81.2,0 81.2,-14\" stroke=\"#000000\"/>\n</g>\n<!-- node0&#45;&#45;null1 -->\n<g class=\"edge\" id=\"edge4\">\n<title>node0--null1</title>\n<path d=\"M94.9055,-33.6213C89.7236,-26.9589 84.017,-19.6218 79.9093,-14.3405\" fill=\"none\" stroke=\"#000000\"/>\n</g>\n<!-- null2 -->\n<g class=\"node\" id=\"node5\">\n<title>null2</title>\n<polygon fill=\"none\" points=\"148.4,-14 134.4,-14 134.4,0 148.4,0 148.4,-14\" stroke=\"#000000\"/>\n</g>\n<!-- node0&#45;&#45;null2 -->\n<g class=\"edge\" id=\"edge5\">\n<title>node0--null2</title>\n<path d=\"M120.6945,-33.6213C125.8764,-26.9589 131.583,-19.6218 135.6907,-14.3405\" fill=\"none\" stroke=\"#000000\"/>\n</g>\n<!-- node3 -->\n<g class=\"node\" id=\"node6\">\n<title>node3</title>\n<ellipse cx=\"175\" cy=\"-136.6\" fill=\"none\" rx=\"31.8025\" ry=\"18\" stroke=\"#000000\"/>\n<text fill=\"#000000\" font-family=\"Times,serif\" font-size=\"14.00\" text-anchor=\"middle\" x=\"175\" y=\"-132.9\">(64, 0.12)</text>\n</g>\n<!-- node3&#45;&#45;node1 -->\n<g class=\"edge\" id=\"edge1\">\n<title>node3--node1</title>\n<path d=\"M147.1522,-127.6489C124.0859,-120.2347 91.4686,-109.7506 68.4121,-102.3396\" fill=\"none\" stroke=\"#000000\"/>\n</g>\n<!-- node2 -->\n<g class=\"node\" id=\"node8\">\n<title>node2</title>\n<ellipse cx=\"242.2\" cy=\"-93.4\" fill=\"none\" rx=\"28.102\" ry=\"18\" stroke=\"#000000\"/>\n<text fill=\"#000000\" font-family=\"Times,serif\" font-size=\"14.00\" text-anchor=\"middle\" x=\"242.2\" y=\"-89.7\">(82, 0.3)</text>\n</g>\n<!-- node3&#45;&#45;node2 -->\n<g class=\"edge\" id=\"edge6\">\n<title>node3--node2</title>\n<path d=\"M196.2625,-122.9313C204.5682,-117.5919 214.0418,-111.5017 222.2197,-106.2445\" fill=\"none\" stroke=\"#000000\"/>\n</g>\n<!-- null3 -->\n<g class=\"node\" id=\"node7\">\n<title>null3</title>\n<polygon fill=\"none\" points=\"215.6,-57.2 201.6,-57.2 201.6,-43.2 215.6,-43.2 215.6,-57.2\" stroke=\"#000000\"/>\n</g>\n<!-- node2&#45;&#45;null3 -->\n<g class=\"edge\" id=\"edge7\">\n<title>node2--null3</title>\n<path d=\"M229.3055,-76.8213C224.1236,-70.1589 218.417,-62.8218 214.3093,-57.5405\" fill=\"none\" stroke=\"#000000\"/>\n</g>\n<!-- null4 -->\n<g class=\"node\" id=\"node9\">\n<title>null4</title>\n<polygon fill=\"none\" points=\"282.8,-57.2 268.8,-57.2 268.8,-43.2 282.8,-43.2 282.8,-57.2\" stroke=\"#000000\"/>\n</g>\n<!-- node2&#45;&#45;null4 -->\n<g class=\"edge\" id=\"edge8\">\n<title>node2--null4</title>\n<path d=\"M255.0945,-76.8213C260.2764,-70.1589 265.983,-62.8218 270.0907,-57.5405\" fill=\"none\" stroke=\"#000000\"/>\n</g>\n</g>\n</svg>"
          },
          "metadata": {}
        }
      ]
    },
    {
      "cell_type": "code",
      "metadata": {
        "colab": {
          "base_uri": "https://localhost:8080/",
          "height": 238
        },
        "id": "S4iYLZgJPxnI",
        "outputId": "a301dcf6-d375-4d78-da09-22e74ae9b160"
      },
      "source": [
        "a.delete(64)\n",
        "a.dibujar()"
      ],
      "execution_count": null,
      "outputs": [
        {
          "output_type": "display_data",
          "data": {
            "text/plain": [
              "<IPython.core.display.SVG object>"
            ],
            "image/svg+xml": "<svg height=\"163pt\" viewBox=\"0.00 0.00 223.60 162.60\" width=\"224pt\" xmlns=\"http://www.w3.org/2000/svg\" xmlns:xlink=\"http://www.w3.org/1999/xlink\">\n<g class=\"graph\" id=\"graph0\" transform=\"scale(1 1) rotate(0) translate(4 158.6)\">\n<title>Arbol</title>\n<polygon fill=\"#ffffff\" points=\"-4,4 -4,-158.6 219.6,-158.6 219.6,4 -4,4\" stroke=\"transparent\"/>\n<!-- null0 -->\n<g class=\"node\" id=\"node1\">\n<title>null0</title>\n<polygon fill=\"none\" points=\"14,-57.2 0,-57.2 0,-43.2 14,-43.2 14,-57.2\" stroke=\"#000000\"/>\n</g>\n<!-- node1 -->\n<g class=\"node\" id=\"node2\">\n<title>node1</title>\n<ellipse cx=\"40.6\" cy=\"-93.4\" fill=\"none\" rx=\"31.8025\" ry=\"18\" stroke=\"#000000\"/>\n<text fill=\"#000000\" font-family=\"Times,serif\" font-size=\"14.00\" text-anchor=\"middle\" x=\"40.6\" y=\"-89.7\">(15, 0.61)</text>\n</g>\n<!-- node1&#45;&#45;null0 -->\n<g class=\"edge\" id=\"edge2\">\n<title>node1--null0</title>\n<path d=\"M27.7055,-76.8213C22.5236,-70.1589 16.817,-62.8218 12.7093,-57.5405\" fill=\"none\" stroke=\"#000000\"/>\n</g>\n<!-- node0 -->\n<g class=\"node\" id=\"node4\">\n<title>node0</title>\n<ellipse cx=\"107.8\" cy=\"-50.2\" fill=\"none\" rx=\"31.8025\" ry=\"18\" stroke=\"#000000\"/>\n<text fill=\"#000000\" font-family=\"Times,serif\" font-size=\"14.00\" text-anchor=\"middle\" x=\"107.8\" y=\"-46.5\">(35, 0.84)</text>\n</g>\n<!-- node1&#45;&#45;node0 -->\n<g class=\"edge\" id=\"edge3\">\n<title>node1--node0</title>\n<path d=\"M61.8625,-79.7313C69.7067,-74.6885 78.5928,-68.9761 86.4452,-63.9281\" fill=\"none\" stroke=\"#000000\"/>\n</g>\n<!-- null1 -->\n<g class=\"node\" id=\"node3\">\n<title>null1</title>\n<polygon fill=\"none\" points=\"81.2,-14 67.2,-14 67.2,0 81.2,0 81.2,-14\" stroke=\"#000000\"/>\n</g>\n<!-- node0&#45;&#45;null1 -->\n<g class=\"edge\" id=\"edge4\">\n<title>node0--null1</title>\n<path d=\"M94.9055,-33.6213C89.7236,-26.9589 84.017,-19.6218 79.9093,-14.3405\" fill=\"none\" stroke=\"#000000\"/>\n</g>\n<!-- null2 -->\n<g class=\"node\" id=\"node5\">\n<title>null2</title>\n<polygon fill=\"none\" points=\"148.4,-14 134.4,-14 134.4,0 148.4,0 148.4,-14\" stroke=\"#000000\"/>\n</g>\n<!-- node0&#45;&#45;null2 -->\n<g class=\"edge\" id=\"edge5\">\n<title>node0--null2</title>\n<path d=\"M120.6945,-33.6213C125.8764,-26.9589 131.583,-19.6218 135.6907,-14.3405\" fill=\"none\" stroke=\"#000000\"/>\n</g>\n<!-- node2 -->\n<g class=\"node\" id=\"node6\">\n<title>node2</title>\n<ellipse cx=\"175\" cy=\"-136.6\" fill=\"none\" rx=\"28.102\" ry=\"18\" stroke=\"#000000\"/>\n<text fill=\"#000000\" font-family=\"Times,serif\" font-size=\"14.00\" text-anchor=\"middle\" x=\"175\" y=\"-132.9\">(82, 0.3)</text>\n</g>\n<!-- node2&#45;&#45;node1 -->\n<g class=\"edge\" id=\"edge1\">\n<title>node2--node1</title>\n<path d=\"M149.7204,-128.4744C126.6043,-121.0442 92.4693,-110.0723 68.5498,-102.3839\" fill=\"none\" stroke=\"#000000\"/>\n</g>\n<!-- null3 -->\n<g class=\"node\" id=\"node7\">\n<title>null3</title>\n<polygon fill=\"none\" points=\"215.6,-100.4 201.6,-100.4 201.6,-86.4 215.6,-86.4 215.6,-100.4\" stroke=\"#000000\"/>\n</g>\n<!-- node2&#45;&#45;null3 -->\n<g class=\"edge\" id=\"edge6\">\n<title>node2--null3</title>\n<path d=\"M187.8945,-120.0213C193.0764,-113.3589 198.783,-106.0218 202.8907,-100.7405\" fill=\"none\" stroke=\"#000000\"/>\n</g>\n</g>\n</svg>"
          },
          "metadata": {}
        }
      ]
    },
    {
      "cell_type": "markdown",
      "metadata": {
        "id": "bRW8SkND7ONG"
      },
      "source": [
        "Por último, pruebe su código con el siguiente programa:"
      ]
    },
    {
      "cell_type": "code",
      "metadata": {
        "colab": {
          "base_uri": "https://localhost:8080/",
          "height": 649
        },
        "id": "3AMxKPZU7XIT",
        "outputId": "887ec76f-d43e-4d2c-b494-f9068ebaf0b0"
      },
      "source": [
        "a = ArbolCartesiano()\n",
        "a.insert((1,50))\n",
        "a.insert((2,10))\n",
        "a.insert((3,40))\n",
        "a.insert((4,20))\n",
        "a.insert((5,90))\n",
        "a.insert((6,80))\n",
        "a.insert((7,30))\n",
        "a.insert((8,70))\n",
        "a.insert((9,60))\n",
        "a.insert((10,0))\n",
        "\n",
        "a.dibujar()\n",
        "\n",
        "assert a.raiz.info == (10, 0)\n",
        "assert a.raiz.izq.info == (2, 10) and isinstance(a.raiz.der, Nodoe)\n",
        "assert a.raiz.izq.izq.info == (1, 50) and a.raiz.izq.der.info == (4, 20)\n",
        "assert isinstance(a.raiz.izq.izq.izq, Nodoe) and  isinstance(a.raiz.izq.izq.der, Nodoe) and a.raiz.izq.der.izq.info == (3, 40) and a.raiz.izq.der.der.info == (7, 30)\n",
        "assert isinstance(a.raiz.izq.der.izq.izq, Nodoe) and isinstance(a.raiz.izq.der.izq.der, Nodoe) and a.raiz.izq.der.der.izq.info == (6, 80) and a.raiz.izq.der.der.der.info == (9, 60)\n",
        "assert a.raiz.izq.der.der.izq.izq.info == (5, 90) and isinstance(a.raiz.izq.der.der.izq.der, Nodoe) and a.raiz.izq.der.der.der.izq.info == (8, 70) and isinstance(a.raiz.izq.der.der.der.der, Nodoe)\n",
        "assert isinstance(a.raiz.izq.der.der.izq.izq.izq, Nodoe) and isinstance(a.raiz.izq.der.der.izq.izq.der, Nodoe) and isinstance(a.raiz.izq.der.der.der.izq.izq, Nodoe) and isinstance(a.raiz.izq.der.der.der.izq.der, Nodoe)\n",
        "\n",
        "a.delete(2)\n",
        "a.delete(6)\n",
        "a.delete(10)\n",
        "a.delete(8)\n",
        "a.delete(4)\n",
        "\n",
        "a.dibujar()\n",
        "\n",
        "assert a.raiz.info == (7, 30)\n",
        "assert a.raiz.izq.info == (3, 40) and a.raiz.der.info == (9, 60)\n",
        "assert a.raiz.izq.izq.info == (1, 50) and a.raiz.izq.der.info == (5, 90) and isinstance(a.raiz.der.izq, Nodoe) and isinstance(a.raiz.der.der, Nodoe)\n",
        "assert isinstance(a.raiz.izq.izq.izq, Nodoe) and isinstance(a.raiz.izq.izq.der, Nodoe) and isinstance(a.raiz.izq.der.izq, Nodoe) and isinstance(a.raiz.izq.der.der, Nodoe)\n",
        "\n",
        "print(\"Su código pasó todos los tests, ¡felicitaciones!\")"
      ],
      "execution_count": null,
      "outputs": [
        {
          "output_type": "display_data",
          "data": {
            "text/plain": [
              "<IPython.core.display.SVG object>"
            ],
            "image/svg+xml": "<svg height=\"292pt\" viewBox=\"0.00 0.00 694.00 292.20\" width=\"694pt\" xmlns=\"http://www.w3.org/2000/svg\" xmlns:xlink=\"http://www.w3.org/1999/xlink\">\n<g class=\"graph\" id=\"graph0\" transform=\"scale(1 1) rotate(0) translate(4 288.2)\">\n<title>Arbol</title>\n<polygon fill=\"#ffffff\" points=\"-4,4 -4,-288.2 690,-288.2 690,4 -4,4\" stroke=\"transparent\"/>\n<!-- null0 -->\n<g class=\"node\" id=\"node1\">\n<title>null0</title>\n<polygon fill=\"none\" points=\"14,-143.6 0,-143.6 0,-129.6 14,-129.6 14,-143.6\" stroke=\"#000000\"/>\n</g>\n<!-- node0 -->\n<g class=\"node\" id=\"node2\">\n<title>node0</title>\n<ellipse cx=\"40.6\" cy=\"-179.8\" fill=\"none\" rx=\"27\" ry=\"18\" stroke=\"#000000\"/>\n<text fill=\"#000000\" font-family=\"Times,serif\" font-size=\"14.00\" text-anchor=\"middle\" x=\"40.6\" y=\"-176.1\">(1, 50)</text>\n</g>\n<!-- node0&#45;&#45;null0 -->\n<g class=\"edge\" id=\"edge3\">\n<title>node0--null0</title>\n<path d=\"M28.0886,-163.7139C22.7151,-156.8051 16.7142,-149.0897 12.492,-143.6611\" fill=\"none\" stroke=\"#000000\"/>\n</g>\n<!-- null1 -->\n<g class=\"node\" id=\"node3\">\n<title>null1</title>\n<polygon fill=\"none\" points=\"81.2,-143.6 67.2,-143.6 67.2,-129.6 81.2,-129.6 81.2,-143.6\" stroke=\"#000000\"/>\n</g>\n<!-- node0&#45;&#45;null1 -->\n<g class=\"edge\" id=\"edge4\">\n<title>node0--null1</title>\n<path d=\"M53.1114,-163.7139C58.4849,-156.8051 64.4858,-149.0897 68.708,-143.6611\" fill=\"none\" stroke=\"#000000\"/>\n</g>\n<!-- node8 -->\n<g class=\"node\" id=\"node4\">\n<title>node8</title>\n<ellipse cx=\"107.8\" cy=\"-223\" fill=\"none\" rx=\"27\" ry=\"18\" stroke=\"#000000\"/>\n<text fill=\"#000000\" font-family=\"Times,serif\" font-size=\"14.00\" text-anchor=\"middle\" x=\"107.8\" y=\"-219.3\">(2, 10)</text>\n</g>\n<!-- node8&#45;&#45;node0 -->\n<g class=\"edge\" id=\"edge2\">\n<title>node8--node0</title>\n<path d=\"M88.363,-210.5048C79.525,-204.8232 69.0868,-198.1129 60.2261,-192.4168\" fill=\"none\" stroke=\"#000000\"/>\n</g>\n<!-- node7 -->\n<g class=\"node\" id=\"node8\">\n<title>node7</title>\n<ellipse cx=\"242.2\" cy=\"-179.8\" fill=\"none\" rx=\"27\" ry=\"18\" stroke=\"#000000\"/>\n<text fill=\"#000000\" font-family=\"Times,serif\" font-size=\"14.00\" text-anchor=\"middle\" x=\"242.2\" y=\"-176.1\">(4, 20)</text>\n</g>\n<!-- node8&#45;&#45;node7 -->\n<g class=\"edge\" id=\"edge5\">\n<title>node8--node7</title>\n<path d=\"M132.1388,-215.1768C156.3453,-207.3962 193.2863,-195.5223 217.5881,-187.711\" fill=\"none\" stroke=\"#000000\"/>\n</g>\n<!-- null2 -->\n<g class=\"node\" id=\"node5\">\n<title>null2</title>\n<polygon fill=\"none\" points=\"148.4,-100.4 134.4,-100.4 134.4,-86.4 148.4,-86.4 148.4,-100.4\" stroke=\"#000000\"/>\n</g>\n<!-- node1 -->\n<g class=\"node\" id=\"node6\">\n<title>node1</title>\n<ellipse cx=\"175\" cy=\"-136.6\" fill=\"none\" rx=\"27\" ry=\"18\" stroke=\"#000000\"/>\n<text fill=\"#000000\" font-family=\"Times,serif\" font-size=\"14.00\" text-anchor=\"middle\" x=\"175\" y=\"-132.9\">(3, 40)</text>\n</g>\n<!-- node1&#45;&#45;null2 -->\n<g class=\"edge\" id=\"edge7\">\n<title>node1--null2</title>\n<path d=\"M162.4886,-120.5139C157.1151,-113.6051 151.1142,-105.8897 146.8919,-100.4611\" fill=\"none\" stroke=\"#000000\"/>\n</g>\n<!-- null3 -->\n<g class=\"node\" id=\"node7\">\n<title>null3</title>\n<polygon fill=\"none\" points=\"215.6,-100.4 201.6,-100.4 201.6,-86.4 215.6,-86.4 215.6,-100.4\" stroke=\"#000000\"/>\n</g>\n<!-- node1&#45;&#45;null3 -->\n<g class=\"edge\" id=\"edge8\">\n<title>node1--null3</title>\n<path d=\"M187.5114,-120.5139C192.8849,-113.6051 198.8858,-105.8897 203.108,-100.4611\" fill=\"none\" stroke=\"#000000\"/>\n</g>\n<!-- node7&#45;&#45;node1 -->\n<g class=\"edge\" id=\"edge6\">\n<title>node7--node1</title>\n<path d=\"M222.763,-167.3048C213.925,-161.6232 203.4868,-154.9129 194.6261,-149.2168\" fill=\"none\" stroke=\"#000000\"/>\n</g>\n<!-- node6 -->\n<g class=\"node\" id=\"node14\">\n<title>node6</title>\n<ellipse cx=\"443.8\" cy=\"-136.6\" fill=\"none\" rx=\"27\" ry=\"18\" stroke=\"#000000\"/>\n<text fill=\"#000000\" font-family=\"Times,serif\" font-size=\"14.00\" text-anchor=\"middle\" x=\"443.8\" y=\"-132.9\">(7, 30)</text>\n</g>\n<!-- node7&#45;&#45;node6 -->\n<g class=\"edge\" id=\"edge9\">\n<title>node7--node6</title>\n<path d=\"M268.1429,-174.2408C306.8527,-165.9458 379.3048,-150.4204 417.9566,-142.1379\" fill=\"none\" stroke=\"#000000\"/>\n</g>\n<!-- null4 -->\n<g class=\"node\" id=\"node9\">\n<title>null4</title>\n<polygon fill=\"none\" points=\"282.8,-14 268.8,-14 268.8,0 282.8,0 282.8,-14\" stroke=\"#000000\"/>\n</g>\n<!-- node2 -->\n<g class=\"node\" id=\"node10\">\n<title>node2</title>\n<ellipse cx=\"309.4\" cy=\"-50.2\" fill=\"none\" rx=\"27\" ry=\"18\" stroke=\"#000000\"/>\n<text fill=\"#000000\" font-family=\"Times,serif\" font-size=\"14.00\" text-anchor=\"middle\" x=\"309.4\" y=\"-46.5\">(5, 90)</text>\n</g>\n<!-- node2&#45;&#45;null4 -->\n<g class=\"edge\" id=\"edge12\">\n<title>node2--null4</title>\n<path d=\"M296.8886,-34.1139C291.5151,-27.2051 285.5142,-19.4897 281.2919,-14.0611\" fill=\"none\" stroke=\"#000000\"/>\n</g>\n<!-- null5 -->\n<g class=\"node\" id=\"node11\">\n<title>null5</title>\n<polygon fill=\"none\" points=\"350,-14 336,-14 336,0 350,0 350,-14\" stroke=\"#000000\"/>\n</g>\n<!-- node2&#45;&#45;null5 -->\n<g class=\"edge\" id=\"edge13\">\n<title>node2--null5</title>\n<path d=\"M321.9114,-34.1139C327.2849,-27.2051 333.2858,-19.4897 337.508,-14.0611\" fill=\"none\" stroke=\"#000000\"/>\n</g>\n<!-- node3 -->\n<g class=\"node\" id=\"node12\">\n<title>node3</title>\n<ellipse cx=\"376.6\" cy=\"-93.4\" fill=\"none\" rx=\"27\" ry=\"18\" stroke=\"#000000\"/>\n<text fill=\"#000000\" font-family=\"Times,serif\" font-size=\"14.00\" text-anchor=\"middle\" x=\"376.6\" y=\"-89.7\">(6, 80)</text>\n</g>\n<!-- node3&#45;&#45;node2 -->\n<g class=\"edge\" id=\"edge11\">\n<title>node3--node2</title>\n<path d=\"M357.163,-80.9048C348.325,-75.2232 337.8868,-68.5129 329.0261,-62.8168\" fill=\"none\" stroke=\"#000000\"/>\n</g>\n<!-- null6 -->\n<g class=\"node\" id=\"node13\">\n<title>null6</title>\n<polygon fill=\"none\" points=\"417.2,-57.2 403.2,-57.2 403.2,-43.2 417.2,-43.2 417.2,-57.2\" stroke=\"#000000\"/>\n</g>\n<!-- node3&#45;&#45;null6 -->\n<g class=\"edge\" id=\"edge14\">\n<title>node3--null6</title>\n<path d=\"M389.1114,-77.3139C394.4849,-70.4051 400.4858,-62.6897 404.708,-57.2611\" fill=\"none\" stroke=\"#000000\"/>\n</g>\n<!-- node6&#45;&#45;node3 -->\n<g class=\"edge\" id=\"edge10\">\n<title>node6--node3</title>\n<path d=\"M424.363,-124.1048C415.525,-118.4232 405.0868,-111.7129 396.2261,-106.0168\" fill=\"none\" stroke=\"#000000\"/>\n</g>\n<!-- node5 -->\n<g class=\"node\" id=\"node18\">\n<title>node5</title>\n<ellipse cx=\"578.2\" cy=\"-93.4\" fill=\"none\" rx=\"27\" ry=\"18\" stroke=\"#000000\"/>\n<text fill=\"#000000\" font-family=\"Times,serif\" font-size=\"14.00\" text-anchor=\"middle\" x=\"578.2\" y=\"-89.7\">(9, 60)</text>\n</g>\n<!-- node6&#45;&#45;node5 -->\n<g class=\"edge\" id=\"edge15\">\n<title>node6--node5</title>\n<path d=\"M468.1388,-128.7768C492.3453,-120.9962 529.2863,-109.1222 553.5881,-101.311\" fill=\"none\" stroke=\"#000000\"/>\n</g>\n<!-- null7 -->\n<g class=\"node\" id=\"node15\">\n<title>null7</title>\n<polygon fill=\"none\" points=\"484.4,-14 470.4,-14 470.4,0 484.4,0 484.4,-14\" stroke=\"#000000\"/>\n</g>\n<!-- node4 -->\n<g class=\"node\" id=\"node16\">\n<title>node4</title>\n<ellipse cx=\"511\" cy=\"-50.2\" fill=\"none\" rx=\"27\" ry=\"18\" stroke=\"#000000\"/>\n<text fill=\"#000000\" font-family=\"Times,serif\" font-size=\"14.00\" text-anchor=\"middle\" x=\"511\" y=\"-46.5\">(8, 70)</text>\n</g>\n<!-- node4&#45;&#45;null7 -->\n<g class=\"edge\" id=\"edge17\">\n<title>node4--null7</title>\n<path d=\"M498.4886,-34.1139C493.115,-27.2051 487.1142,-19.4897 482.8919,-14.0611\" fill=\"none\" stroke=\"#000000\"/>\n</g>\n<!-- null8 -->\n<g class=\"node\" id=\"node17\">\n<title>null8</title>\n<polygon fill=\"none\" points=\"551.6,-14 537.6,-14 537.6,0 551.6,0 551.6,-14\" stroke=\"#000000\"/>\n</g>\n<!-- node4&#45;&#45;null8 -->\n<g class=\"edge\" id=\"edge18\">\n<title>node4--null8</title>\n<path d=\"M523.5114,-34.1139C528.8849,-27.2051 534.8858,-19.4897 539.108,-14.0611\" fill=\"none\" stroke=\"#000000\"/>\n</g>\n<!-- node5&#45;&#45;node4 -->\n<g class=\"edge\" id=\"edge16\">\n<title>node5--node4</title>\n<path d=\"M558.763,-80.9048C549.925,-75.2232 539.4868,-68.5129 530.6261,-62.8168\" fill=\"none\" stroke=\"#000000\"/>\n</g>\n<!-- null9 -->\n<g class=\"node\" id=\"node19\">\n<title>null9</title>\n<polygon fill=\"none\" points=\"618.8,-57.2 604.8,-57.2 604.8,-43.2 618.8,-43.2 618.8,-57.2\" stroke=\"#000000\"/>\n</g>\n<!-- node5&#45;&#45;null9 -->\n<g class=\"edge\" id=\"edge19\">\n<title>node5--null9</title>\n<path d=\"M590.7114,-77.3139C596.0849,-70.4051 602.0858,-62.6897 606.308,-57.2611\" fill=\"none\" stroke=\"#000000\"/>\n</g>\n<!-- node9 -->\n<g class=\"node\" id=\"node20\">\n<title>node9</title>\n<ellipse cx=\"645.4\" cy=\"-266.2\" fill=\"none\" rx=\"27\" ry=\"18\" stroke=\"#000000\"/>\n<text fill=\"#000000\" font-family=\"Times,serif\" font-size=\"14.00\" text-anchor=\"middle\" x=\"645.4\" y=\"-262.5\">(10, 0)</text>\n</g>\n<!-- node9&#45;&#45;node8 -->\n<g class=\"edge\" id=\"edge1\">\n<title>node9--node8</title>\n<path d=\"M618.3719,-264.0281C526.496,-256.6452 226.8388,-232.5656 134.8819,-225.1762\" fill=\"none\" stroke=\"#000000\"/>\n</g>\n<!-- null10 -->\n<g class=\"node\" id=\"node21\">\n<title>null10</title>\n<polygon fill=\"none\" points=\"686,-230 672,-230 672,-216 686,-216 686,-230\" stroke=\"#000000\"/>\n</g>\n<!-- node9&#45;&#45;null10 -->\n<g class=\"edge\" id=\"edge20\">\n<title>node9--null10</title>\n<path d=\"M657.9114,-250.1139C663.2849,-243.2051 669.2858,-235.4897 673.508,-230.0611\" fill=\"none\" stroke=\"#000000\"/>\n</g>\n</g>\n</svg>"
          },
          "metadata": {}
        },
        {
          "output_type": "display_data",
          "data": {
            "text/plain": [
              "<IPython.core.display.SVG object>"
            ],
            "image/svg+xml": "<svg height=\"163pt\" viewBox=\"0.00 0.00 358.00 162.60\" width=\"358pt\" xmlns=\"http://www.w3.org/2000/svg\" xmlns:xlink=\"http://www.w3.org/1999/xlink\">\n<g class=\"graph\" id=\"graph0\" transform=\"scale(1 1) rotate(0) translate(4 158.6)\">\n<title>Arbol</title>\n<polygon fill=\"#ffffff\" points=\"-4,4 -4,-158.6 354,-158.6 354,4 -4,4\" stroke=\"transparent\"/>\n<!-- null0 -->\n<g class=\"node\" id=\"node1\">\n<title>null0</title>\n<polygon fill=\"none\" points=\"14,-14 0,-14 0,0 14,0 14,-14\" stroke=\"#000000\"/>\n</g>\n<!-- node0 -->\n<g class=\"node\" id=\"node2\">\n<title>node0</title>\n<ellipse cx=\"40.6\" cy=\"-50.2\" fill=\"none\" rx=\"27\" ry=\"18\" stroke=\"#000000\"/>\n<text fill=\"#000000\" font-family=\"Times,serif\" font-size=\"14.00\" text-anchor=\"middle\" x=\"40.6\" y=\"-46.5\">(1, 50)</text>\n</g>\n<!-- node0&#45;&#45;null0 -->\n<g class=\"edge\" id=\"edge3\">\n<title>node0--null0</title>\n<path d=\"M28.0886,-34.1139C22.7151,-27.2051 16.7142,-19.4897 12.492,-14.0611\" fill=\"none\" stroke=\"#000000\"/>\n</g>\n<!-- null1 -->\n<g class=\"node\" id=\"node3\">\n<title>null1</title>\n<polygon fill=\"none\" points=\"81.2,-14 67.2,-14 67.2,0 81.2,0 81.2,-14\" stroke=\"#000000\"/>\n</g>\n<!-- node0&#45;&#45;null1 -->\n<g class=\"edge\" id=\"edge4\">\n<title>node0--null1</title>\n<path d=\"M53.1114,-34.1139C58.4849,-27.2051 64.4858,-19.4897 68.708,-14.0611\" fill=\"none\" stroke=\"#000000\"/>\n</g>\n<!-- node2 -->\n<g class=\"node\" id=\"node4\">\n<title>node2</title>\n<ellipse cx=\"107.8\" cy=\"-93.4\" fill=\"none\" rx=\"27\" ry=\"18\" stroke=\"#000000\"/>\n<text fill=\"#000000\" font-family=\"Times,serif\" font-size=\"14.00\" text-anchor=\"middle\" x=\"107.8\" y=\"-89.7\">(3, 40)</text>\n</g>\n<!-- node2&#45;&#45;node0 -->\n<g class=\"edge\" id=\"edge2\">\n<title>node2--node0</title>\n<path d=\"M88.363,-80.9048C79.525,-75.2232 69.0868,-68.5129 60.2261,-62.8168\" fill=\"none\" stroke=\"#000000\"/>\n</g>\n<!-- node1 -->\n<g class=\"node\" id=\"node6\">\n<title>node1</title>\n<ellipse cx=\"175\" cy=\"-50.2\" fill=\"none\" rx=\"27\" ry=\"18\" stroke=\"#000000\"/>\n<text fill=\"#000000\" font-family=\"Times,serif\" font-size=\"14.00\" text-anchor=\"middle\" x=\"175\" y=\"-46.5\">(5, 90)</text>\n</g>\n<!-- node2&#45;&#45;node1 -->\n<g class=\"edge\" id=\"edge5\">\n<title>node2--node1</title>\n<path d=\"M127.237,-80.9048C136.075,-75.2232 146.5132,-68.5129 155.3738,-62.8168\" fill=\"none\" stroke=\"#000000\"/>\n</g>\n<!-- null2 -->\n<g class=\"node\" id=\"node5\">\n<title>null2</title>\n<polygon fill=\"none\" points=\"148.4,-14 134.4,-14 134.4,0 148.4,0 148.4,-14\" stroke=\"#000000\"/>\n</g>\n<!-- node1&#45;&#45;null2 -->\n<g class=\"edge\" id=\"edge6\">\n<title>node1--null2</title>\n<path d=\"M162.4886,-34.1139C157.1151,-27.2051 151.1142,-19.4897 146.8919,-14.0611\" fill=\"none\" stroke=\"#000000\"/>\n</g>\n<!-- null3 -->\n<g class=\"node\" id=\"node7\">\n<title>null3</title>\n<polygon fill=\"none\" points=\"215.6,-14 201.6,-14 201.6,0 215.6,0 215.6,-14\" stroke=\"#000000\"/>\n</g>\n<!-- node1&#45;&#45;null3 -->\n<g class=\"edge\" id=\"edge7\">\n<title>node1--null3</title>\n<path d=\"M187.5114,-34.1139C192.8849,-27.2051 198.8858,-19.4897 203.108,-14.0611\" fill=\"none\" stroke=\"#000000\"/>\n</g>\n<!-- node4 -->\n<g class=\"node\" id=\"node8\">\n<title>node4</title>\n<ellipse cx=\"242.2\" cy=\"-136.6\" fill=\"none\" rx=\"27\" ry=\"18\" stroke=\"#000000\"/>\n<text fill=\"#000000\" font-family=\"Times,serif\" font-size=\"14.00\" text-anchor=\"middle\" x=\"242.2\" y=\"-132.9\">(7, 30)</text>\n</g>\n<!-- node4&#45;&#45;node2 -->\n<g class=\"edge\" id=\"edge1\">\n<title>node4--node2</title>\n<path d=\"M217.8612,-128.7768C193.6547,-120.9962 156.7137,-109.1223 132.4119,-101.311\" fill=\"none\" stroke=\"#000000\"/>\n</g>\n<!-- node3 -->\n<g class=\"node\" id=\"node10\">\n<title>node3</title>\n<ellipse cx=\"309.4\" cy=\"-93.4\" fill=\"none\" rx=\"27\" ry=\"18\" stroke=\"#000000\"/>\n<text fill=\"#000000\" font-family=\"Times,serif\" font-size=\"14.00\" text-anchor=\"middle\" x=\"309.4\" y=\"-89.7\">(9, 60)</text>\n</g>\n<!-- node4&#45;&#45;node3 -->\n<g class=\"edge\" id=\"edge8\">\n<title>node4--node3</title>\n<path d=\"M261.637,-124.1048C270.475,-118.4232 280.9132,-111.7129 289.7738,-106.0168\" fill=\"none\" stroke=\"#000000\"/>\n</g>\n<!-- null4 -->\n<g class=\"node\" id=\"node9\">\n<title>null4</title>\n<polygon fill=\"none\" points=\"282.8,-57.2 268.8,-57.2 268.8,-43.2 282.8,-43.2 282.8,-57.2\" stroke=\"#000000\"/>\n</g>\n<!-- node3&#45;&#45;null4 -->\n<g class=\"edge\" id=\"edge9\">\n<title>node3--null4</title>\n<path d=\"M296.8886,-77.3139C291.5151,-70.4051 285.5142,-62.6897 281.2919,-57.2611\" fill=\"none\" stroke=\"#000000\"/>\n</g>\n<!-- null5 -->\n<g class=\"node\" id=\"node11\">\n<title>null5</title>\n<polygon fill=\"none\" points=\"350,-57.2 336,-57.2 336,-43.2 350,-43.2 350,-57.2\" stroke=\"#000000\"/>\n</g>\n<!-- node3&#45;&#45;null5 -->\n<g class=\"edge\" id=\"edge10\">\n<title>node3--null5</title>\n<path d=\"M321.9114,-77.3139C327.2849,-70.4051 333.2858,-62.6897 337.508,-57.2611\" fill=\"none\" stroke=\"#000000\"/>\n</g>\n</g>\n</svg>"
          },
          "metadata": {}
        },
        {
          "output_type": "stream",
          "name": "stdout",
          "text": [
            "Su código pasó todos los tests, ¡felicitaciones!\n"
          ]
        }
      ]
    },
    {
      "cell_type": "markdown",
      "metadata": {
        "id": "kKUGBRcPHxrD"
      },
      "source": [
        "En caso de que quiera ejecutar el notebook en forma local y no en Colab, debe instalar lo siguiente en su computador:\n",
        "\n",
        "- Instalar graphviz: https://graphviz.gitlab.io/_pages/Download/Download_windows.html\n",
        "(no olvidar agregar al PATH el directorio bin de esta aplicación, el mismo instalador da la opción de hacerlo automáticamente si se marca un checkbox).\n",
        "- Instalar el módulo de python graphviz (pip install graphviz)."
      ]
    }
  ]
}