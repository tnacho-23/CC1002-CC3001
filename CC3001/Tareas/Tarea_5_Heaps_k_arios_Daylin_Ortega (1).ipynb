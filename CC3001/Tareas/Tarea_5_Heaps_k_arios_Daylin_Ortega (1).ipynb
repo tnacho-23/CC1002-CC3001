{
  "nbformat": 4,
  "nbformat_minor": 0,
  "metadata": {
    "colab": {
      "provenance": []
    },
    "kernelspec": {
      "name": "python3",
      "display_name": "Python 3"
    },
    "language_info": {
      "name": "python"
    }
  },
  "cells": [
    {
      "cell_type": "markdown",
      "metadata": {
        "id": "TuBrFz2U_Hth"
      },
      "source": [
        "# CC3001 Otoño 2021 Tarea 5\n",
        "\n",
        "### Profesores\n",
        "Sección 1 Nelson Baloian/Patricio Poblete •\n",
        "Sección 2 Benjamín Bustos •\n",
        "Sección 3 Sebastián Ferrada\n",
        "\n",
        "### Alumna\n",
        "Daylin Ortega\n"
      ]
    },
    {
      "cell_type": "markdown",
      "metadata": {
        "id": "vJsSzP2uyk39"
      },
      "source": [
        "# Heaps $k$-arios\n",
        "\n",
        "Un heap  $k$-ario es una generalización de los heaps binarios que vimos en cátedra. La diferencia es que un heap  $k$-ario con  $n$  elementos usa un árbol  $k$-ario balanceado perfecto representado en las  $n$  primeras posiciones de un arreglo. El siguiente es un ejemplo de un heap ternario ($k=3$, $n=9$):\n",
        "\n",
        "![3-heap](https://dcc.uchile.cl/ppoblete/cc3001/2023-2/3-heap.png)\n",
        "\n",
        "Las operaciones que deben implementar para este TDA son insertar un nuevo valor (``insert``) y extraer el máximo (``extract_max``).\n",
        "\n",
        "El objetivo de esta tarea es implementar heaps $k$-arios en forma de una clase de Python y luego utilizarla para ordenar un arreglo de datos."
      ]
    },
    {
      "cell_type": "markdown",
      "metadata": {
        "id": "8kY2A2e9yt7V"
      },
      "source": [
        "## Relación entre padre e hijos en un heap $k$-ario\n",
        "\n",
        "Recordemos que en un heap binario se tiene que\n",
        "\n",
        "$$\n",
        "\\begin{align}\n",
        "\\text{hijos del nodo }i &= \\{2i+1,2i+2\\} \\\\\n",
        "\\text{padre del nodo }j &= \\left\\lfloor \\frac{j-1}{2} \\right\\rfloor\n",
        "\\end{align}\n",
        "$$\n",
        "\n",
        "Escriba a continuación la relación análoga para un heap $k$-ario:\n",
        "\n",
        "$$\n",
        "\\begin{align}\n",
        "\\text{hijos del nodo }i &=  \\{ki+1,ki+2, ki+3, ..., ki+k\\} \\\\\n",
        "\\text{padre del nodo }j &= \\left\\lfloor \\frac{j-1}{k} \\right\\rfloor\n",
        "\\end{align}\n",
        "$$"
      ]
    },
    {
      "cell_type": "markdown",
      "source": [
        "## Implementación de la clase Heap\n",
        "\n",
        "El siguiente código implementa un heap binario. Usted debe modificarlo para que sea un heap $k$-ario, agregando el parámetro $k$ en ``__init__`` y utilizándolo en donde sea necesario."
      ],
      "metadata": {
        "id": "byFvKwG5Q7fP"
      }
    },
    {
      "cell_type": "code",
      "source": [
        "import numpy as np\n",
        "\n",
        "class Heap:\n",
        "    def __init__(self, k, maxn=100):\n",
        "        self.a=np.zeros(maxn)\n",
        "        self.n=0\n",
        "        self.k = k\n",
        "\n",
        "    def trepar(self,j): # El elemento a[j] trepa hasta su nivel de prioridad\n",
        "        while j>=1:\n",
        "            padre = (j-1)//self.k # índice del padre\n",
        "\n",
        "            if self.a[j] <= self.a[padre]:\n",
        "                break # si es menor o igual al padre no trepa más\n",
        "            self.a[j], self.a[padre] = self.a[padre], self.a[j] # intercambia j con padre para subirlo\n",
        "            j = padre # actualiza j\n",
        "\n",
        "            #print(\"Dentro de trepar:\", self.a)\n",
        "\n",
        "\n",
        "    def hundir(self, j):\n",
        "        while True:\n",
        "            mayor = j\n",
        "            # itera sobre hijos de k\n",
        "            for i in range(1, self.k + 1):\n",
        "                hijo = j * self.k + i\n",
        "                if hijo < self.n and self.a[hijo] > self.a[mayor]:\n",
        "                    mayor = hijo\n",
        "\n",
        "            if mayor == j: # si es el mayor, no tiene que hundirse\n",
        "                break\n",
        "\n",
        "            self.a[j], self.a[mayor] = self.a[mayor], self.a[j] # intercambia j con mayor para bajarlo\n",
        "            j = mayor # actualiza j\n",
        "\n",
        "    def insert(self,x):\n",
        "        assert self.n<len(self.a)\n",
        "        self.a[self.n]=x\n",
        "        self.trepar(self.n)\n",
        "        self.n+=1\n",
        "\n",
        "    def extract_max(self):\n",
        "        assert self.n>0\n",
        "        x=self.a[0] # esta variable lleva el máximo, el casillero 0 queda vacante\n",
        "        self.n-=1   # achicamos el heap\n",
        "        self.a[0]=self.a[self.n] # movemos el elemento sobrante hacia el casillero vacante\n",
        "        self.hundir(0)\n",
        "        return x"
      ],
      "metadata": {
        "id": "6X2miSSfMEuq"
      },
      "execution_count": null,
      "outputs": []
    },
    {
      "cell_type": "markdown",
      "metadata": {
        "id": "-_xXYgvs_Htw"
      },
      "source": [
        "## Un algoritmo de ordenación basado en un heap $k$-ario\n",
        "\n",
        "El siguiente código (del apunte) ordena un arreglo dado usando un heap binario. Modifíquelo para que utilice un heap $k$-ario."
      ]
    },
    {
      "cell_type": "code",
      "source": [
        "def Heapsort(a,k): # se agrega k para personalizar el numerito\n",
        "    n=len(a)\n",
        "    h=Heap(k, n)\n",
        "    for i in range(0,n):\n",
        "        h.insert(a[i])\n",
        "\n",
        "    #print(\"Después de insertar:\", a)\n",
        "\n",
        "    for i in range(n-1,-1,-1):\n",
        "        a[i]=h.extract_max()\n",
        "    #print(\"Después de extraer:\", a)"
      ],
      "metadata": {
        "id": "U4ASHn-0RxtC"
      },
      "execution_count": null,
      "outputs": []
    },
    {
      "cell_type": "markdown",
      "source": [
        "# Probando el programa\n",
        "\n",
        "En primer lugar vamos a definir una función para chequear que un arreglo está ordenado:"
      ],
      "metadata": {
        "id": "s5-QiUcIpTWO"
      }
    },
    {
      "cell_type": "code",
      "source": [
        "def chequea_orden(a):\n",
        "    print(\"Arreglo de tamaño\",len(a),\":\",\"Ordenado\" if np.all(a[:-1]<=a[1:]) else \"Desordenado\")"
      ],
      "metadata": {
        "id": "y98sq9T_STH7"
      },
      "execution_count": null,
      "outputs": []
    },
    {
      "cell_type": "markdown",
      "source": [
        "A continuación probamos este algoritmo, primero con un arreglo pequeño, y luego con uno más grande. El código que aparece a continuación funciona para un heap binario. Modifíquelo para que opere con un heap ternario:"
      ],
      "metadata": {
        "id": "sPVexn3drgN1"
      }
    },
    {
      "cell_type": "code",
      "source": [
        "a = np.random.random(12)\n",
        "print(a)\n",
        "chequea_orden(a)\n",
        "Heapsort(a, 3)\n",
        "print(a)\n",
        "chequea_orden(a)\n",
        "\n",
        "a = np.random.random(1000)\n",
        "chequea_orden(a)\n",
        "Heapsort(a, 3)\n",
        "chequea_orden(a)"
      ],
      "metadata": {
        "id": "zcqR8NyESrvA",
        "colab": {
          "base_uri": "https://localhost:8080/"
        },
        "outputId": "6232095e-c415-4ff7-ef58-0af77ecc3407"
      },
      "execution_count": null,
      "outputs": [
        {
          "output_type": "stream",
          "name": "stdout",
          "text": [
            "[0.57056504 0.92942917 0.03865452 0.73488823 0.56970073 0.44396773\n",
            " 0.26212765 0.8713302  0.40668261 0.62150768 0.0011701  0.53776416]\n",
            "Arreglo de tamaño 12 : Desordenado\n",
            "[0.0011701  0.03865452 0.26212765 0.40668261 0.44396773 0.53776416\n",
            " 0.56970073 0.57056504 0.62150768 0.73488823 0.8713302  0.92942917]\n",
            "Arreglo de tamaño 12 : Ordenado\n",
            "Arreglo de tamaño 1000 : Desordenado\n",
            "Arreglo de tamaño 1000 : Ordenado\n"
          ]
        }
      ]
    },
    {
      "cell_type": "markdown",
      "source": [
        "A continuación ejecute las mismas pruebas usando un heap cuaternario:"
      ],
      "metadata": {
        "id": "KMubKFYXTPzw"
      }
    },
    {
      "cell_type": "code",
      "source": [
        "a = np.random.random(12)\n",
        "print(a)\n",
        "chequea_orden(a)\n",
        "Heapsort(a,k=4)\n",
        "print(a)\n",
        "chequea_orden(a)\n",
        "\n",
        "a = np.random.random(1000)\n",
        "chequea_orden(a)\n",
        "Heapsort(a,k=4)\n",
        "chequea_orden(a)"
      ],
      "metadata": {
        "id": "vo-YUbRXTc9v",
        "colab": {
          "base_uri": "https://localhost:8080/"
        },
        "outputId": "50be6886-3709-4caa-a1e9-f48fe094d8c8"
      },
      "execution_count": null,
      "outputs": [
        {
          "output_type": "stream",
          "name": "stdout",
          "text": [
            "[0.67835512 0.06020033 0.18868875 0.29538798 0.30544673 0.90107991\n",
            " 0.51388538 0.47271962 0.23009756 0.18323712 0.67549994 0.37720158]\n",
            "Arreglo de tamaño 12 : Desordenado\n",
            "[0.06020033 0.18323712 0.18868875 0.23009756 0.29538798 0.30544673\n",
            " 0.37720158 0.47271962 0.51388538 0.67549994 0.67835512 0.90107991]\n",
            "Arreglo de tamaño 12 : Ordenado\n",
            "Arreglo de tamaño 1000 : Desordenado\n",
            "Arreglo de tamaño 1000 : Ordenado\n"
          ]
        }
      ]
    },
    {
      "cell_type": "markdown",
      "metadata": {
        "id": "v_UwExwo_HuW"
      },
      "source": [
        "## ¿Qué hay que entregar?\n",
        "\n",
        "Usted debe entregar este mismo archivo, modificado de acuerdo a lo que se pide. Documentar adecuadamente su código. Cite todas las fuentes de información utilizadas. **No olvide poner su nombre en el encabezamiento**."
      ]
    }
  ]
}