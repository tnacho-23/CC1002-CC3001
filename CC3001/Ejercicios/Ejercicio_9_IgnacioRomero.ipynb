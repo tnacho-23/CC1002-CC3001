{
 "cells": [
  {
   "cell_type": "markdown",
   "metadata": {},
   "source": [
    "# CC3001 Algoritmos y Estructuras de Datos\n",
    "\n",
    "**Profesores: Nelson Baloian, Benjamín Bustos, Sebastian Ferrada, Patricio Poblete <br>\n",
    "Auxiliares: Sebastián Acuña, Valentina Aravena, Vicente Olivares, Ricardo Valdivia<br>\n",
    "Estudiante: Ignacio Romero <br>\n",
    "Fecha: 13/11/2023**</br>"
   ]
  },
  {
   "cell_type": "markdown",
   "metadata": {
    "id": "M4ftXKkuGCCD"
   },
   "source": [
    "### Ejercicio 6.5 (Inserciones en una tabla de hashing con Linear Probing)\n",
    "\n",
    "Suponga que se tiene una tabla de hashing con Linear Probing, de tamaño 10, inicialmente vacía, con la función de hashing $h(x) = x \\bmod 10$ (por ejemplo, $h(64)=4$). Muestre en la siguiente tabla el resultado de insertar (a mano) la siguiente secuencia de llaves:\n",
    "\n",
    "```\n",
    "34, 59, 45, 27, 14, 22, 75, 25\n",
    "```"
   ]
  },
  {
   "cell_type": "markdown",
   "metadata": {
    "id": "ueVeAx1eGCCD"
   },
   "source": [
    "![EjercicioLinearProbing](https://github.com/ivansipiran/AED-Apuntes/blob/main/recursos/EjercicioLinearProbing.png?raw=1)\n",
    "\n",
    "Utilizaremos la siguiente función para ver si su respuesta está correcta:"
   ]
  },
  {
   "cell_type": "code",
   "execution_count": 4,
   "metadata": {
    "collapsed": true,
    "id": "5j5Cf9IcGCCD"
   },
   "outputs": [],
   "source": [
    "def chequea_tabla(lista):\n",
    "    h=0\n",
    "    for x in lista:\n",
    "        h = (h*100+x) % 100000007\n",
    "    print(\"OK\" if h==60375958 else \"Error\")"
   ]
  },
  {
   "cell_type": "code",
   "execution_count": 19,
   "metadata": {},
   "outputs": [
    {
     "name": "stdout",
     "output_type": "stream",
     "text": [
      "5\n"
     ]
    }
   ],
   "source": [
    "x = 25\n",
    "my_h = hash(x)%10\n",
    "print(my_h)"
   ]
  },
  {
   "cell_type": "markdown",
   "metadata": {
    "id": "33hFJuZ8GCCD"
   },
   "source": [
    "En el siguiente recuadro reemplace la lista de ceros por la lista de los elementos resultantes en la tabla. Si un casillero queda vacío, escriba un cero."
   ]
  },
  {
   "cell_type": "code",
   "execution_count": 20,
   "metadata": {
    "collapsed": true,
    "id": "viKLxrR-GCCD"
   },
   "outputs": [
    {
     "name": "stdout",
     "output_type": "stream",
     "text": [
      "OK\n"
     ]
    }
   ],
   "source": [
    "chequea_tabla([25, 0, 22, 0, 34, 45, 14, 27, 75, 59])"
   ]
  }
 ],
 "metadata": {
  "colab": {
   "provenance": [],
   "toc_visible": true
  },
  "kernelspec": {
   "display_name": "Python 3 (ipykernel)",
   "language": "python",
   "name": "python3"
  },
  "language_info": {
   "codemirror_mode": {
    "name": "ipython",
    "version": 3
   },
   "file_extension": ".py",
   "mimetype": "text/x-python",
   "name": "python",
   "nbconvert_exporter": "python",
   "pygments_lexer": "ipython3",
   "version": "3.11.0"
  }
 },
 "nbformat": 4,
 "nbformat_minor": 1
}
