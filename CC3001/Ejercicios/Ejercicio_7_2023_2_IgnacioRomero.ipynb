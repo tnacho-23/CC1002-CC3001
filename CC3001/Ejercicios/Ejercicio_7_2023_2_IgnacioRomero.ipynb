{
  "cells": [
    {
      "cell_type": "markdown",
      "metadata": {
        "id": "MnMpE5zK9gKo"
      },
      "source": [
        "# CC3001 Algoritmos y Estructuras de Datos\n",
        "\n",
        "**Profesores: Nelson Baloian, Benjamín Bustos, Sebastian Ferrada, Patricio Poblete <br>\n",
        "Auxiliares: Sebastián Acuña, Valentina Aravena, Vicente Olivares, Ricardo Valdivia<br>\n",
        "Estudiante: Ignacio Romero Aravena** \n",
        "Fecha: 23/10/2023**</br>"
      ]
    },
    {
      "cell_type": "markdown",
      "metadata": {
        "id": "7-6I0A73879e"
      },
      "source": [
        "### Ejercicio 6.4 : Búsqueda en árboles 2-3"
      ]
    },
    {
      "cell_type": "markdown",
      "metadata": {
        "id": "c-OKdxpA879e"
      },
      "source": [
        "El objetivo de esta tarea es que usted implemente la búsqueda (\"search\") en árboles 2-3 (sólo la búsqueda, no la inserción).\n",
        "Para ello complete el código que implementa la función ``search`` en tres tipos de nodos:``Nodo2``, que almacena un nodo que tiene 2 hijos, ``Nodo3``, que tiene 3 y ``Nodoe`` que implementa un nodo externo. Además, la función ``search`` de la clase ``Arbol23`` está dada en el enunciado. En todos los casos, la función debe retornar un puntero al nodo que contiene la llave buscada en caso de ser exitosa, o ``None`` si es infructuosa. Usted puede decidir si usa un enfoque recursivo o no para implementarlo.\n",
        "\n",
        "En varias partes se ha rellenado con código provisorio, para que compile. Usted debe reemplazar y completar todo lo que sea necesario para que todo funcione.\n",
        "\n",
        "Para inspirarse puede ver operación de búsqueda ``search`` en un árbol binario en https://colab.research.google.com/github/ivansipiran/AED-Apuntes/blob/main/06_Diccionarios.ipynb#scrollTo=KTlzPSiLGRgy"
      ]
    },
    {
      "cell_type": "code",
      "execution_count": 4,
      "metadata": {
        "id": "62dCGHS3879f"
      },
      "outputs": [],
      "source": [
        "class Nodo2:\n",
        "    def __init__(self, izq, info, der):\n",
        "        self.izq = izq\n",
        "        self.info = info\n",
        "        self.der = der\n",
        "\n",
        "    def string(self):\n",
        "        return \"Nodo2(\" + str(self.info) + \")\"\n",
        "\n",
        "    def search(self, x):\n",
        "        if x == self.info:\n",
        "            return self\n",
        "        elif x < self.info:\n",
        "            return self.izq.search(x) if self.izq else None\n",
        "        else:\n",
        "            return self.der.search(x) if self.der else None\n",
        "\n",
        "\n",
        "class Nodo3:\n",
        "    def __init__(self, izq, info1, med, info2, der):\n",
        "        self.izq = izq\n",
        "        self.info1 = info1\n",
        "        self.med = med\n",
        "        self.info2 = info2\n",
        "        self.der = der\n",
        "\n",
        "    def string(self):\n",
        "        return \"Nodo3(\" + str(self.info1) + \",\" + str(self.info2) + \")\"\n",
        "\n",
        "    def search(self, x):\n",
        "        if x == self.info1 or x == self.info2:\n",
        "            return self\n",
        "        elif x < self.info1:\n",
        "            return self.izq.search(x) if self.izq else None\n",
        "        elif x < self.med.info:\n",
        "            return self.med.search(x) if self.med else None\n",
        "        else:\n",
        "            return self.der.search(x) if self.der else None\n",
        "\n",
        "\n",
        "class Nodoe:\n",
        "    def __init__(self):\n",
        "        pass\n",
        "\n",
        "    def search(self, x):\n",
        "        return None\n",
        "\n",
        "    def __str__(self):\n",
        "        return \"☐\"\n",
        "\n",
        "\n",
        "class Arbol23:\n",
        "    def __init__(self, raiz=Nodoe()):\n",
        "        self.raiz = raiz\n",
        "\n",
        "    def search(self, x):\n",
        "        return self.raiz.search(x)"
      ]
    },
    {
      "cell_type": "markdown",
      "metadata": {
        "id": "KBCZF5FC879g"
      },
      "source": [
        "Para probar este código, vamos a construir \"a mano\" el árbol 2-3 que aparece en el apunte, y luego hay que ejecutar las búsquedas que se indican, para probar que su solución esté correcta."
      ]
    },
    {
      "cell_type": "code",
      "execution_count": 2,
      "metadata": {
        "id": "wc-lErMJ879j"
      },
      "outputs": [],
      "source": [
        "a=Nodo3(Nodo2(Nodoe(),10,Nodoe()),25,Nodo3(Nodoe(),32,Nodoe(),48,Nodoe()),57,Nodo2(Nodoe(),74,Nodoe()))"
      ]
    },
    {
      "cell_type": "markdown",
      "metadata": {
        "id": "_k6NX7kN879m"
      },
      "source": [
        "### Búsqueda de valores en un Árbol 2-3"
      ]
    },
    {
      "cell_type": "code",
      "execution_count": 5,
      "metadata": {
        "id": "ggOoLdJN879m"
      },
      "outputs": [
        {
          "ename": "TypeError",
          "evalue": "'<' not supported between instances of 'int' and 'Nodo3'",
          "output_type": "error",
          "traceback": [
            "\u001b[1;31m---------------------------------------------------------------------------\u001b[0m",
            "\u001b[1;31mTypeError\u001b[0m                                 Traceback (most recent call last)",
            "\u001b[1;32md:\\Desktop\\Universidad\\CC1002-CC3001\\CC3001\\Ejercicios\\Ejercicio_7_2023_2_IgnacioRomero.ipynb Celda 8\u001b[0m line \u001b[0;36m4\n\u001b[0;32m      <a href='vscode-notebook-cell:/d%3A/Desktop/Universidad/CC1002-CC3001/CC3001/Ejercicios/Ejercicio_7_2023_2_IgnacioRomero.ipynb#X10sZmlsZQ%3D%3D?line=0'>1</a>\u001b[0m busqueda1\u001b[39m=\u001b[39ma\u001b[39m.\u001b[39msearch(\u001b[39m25\u001b[39m)\n\u001b[0;32m      <a href='vscode-notebook-cell:/d%3A/Desktop/Universidad/CC1002-CC3001/CC3001/Ejercicios/Ejercicio_7_2023_2_IgnacioRomero.ipynb#X10sZmlsZQ%3D%3D?line=1'>2</a>\u001b[0m \u001b[39massert\u001b[39;00m busqueda1\u001b[39m.\u001b[39mstring() \u001b[39m==\u001b[39m \u001b[39m\"\u001b[39m\u001b[39mNodo3(25,57)\u001b[39m\u001b[39m\"\u001b[39m\n\u001b[1;32m----> <a href='vscode-notebook-cell:/d%3A/Desktop/Universidad/CC1002-CC3001/CC3001/Ejercicios/Ejercicio_7_2023_2_IgnacioRomero.ipynb#X10sZmlsZQ%3D%3D?line=3'>4</a>\u001b[0m busqueda2\u001b[39m=\u001b[39ma\u001b[39m.\u001b[39;49msearch(\u001b[39m74\u001b[39;49m)\n\u001b[0;32m      <a href='vscode-notebook-cell:/d%3A/Desktop/Universidad/CC1002-CC3001/CC3001/Ejercicios/Ejercicio_7_2023_2_IgnacioRomero.ipynb#X10sZmlsZQ%3D%3D?line=4'>5</a>\u001b[0m \u001b[39massert\u001b[39;00m busqueda2\u001b[39m.\u001b[39mstring() \u001b[39m==\u001b[39m \u001b[39m\"\u001b[39m\u001b[39mNodo2(74)\u001b[39m\u001b[39m\"\u001b[39m\n\u001b[0;32m      <a href='vscode-notebook-cell:/d%3A/Desktop/Universidad/CC1002-CC3001/CC3001/Ejercicios/Ejercicio_7_2023_2_IgnacioRomero.ipynb#X10sZmlsZQ%3D%3D?line=7'>8</a>\u001b[0m busqueda3\u001b[39m=\u001b[39ma\u001b[39m.\u001b[39msearch(\u001b[39m7\u001b[39m)\n",
            "\u001b[1;32md:\\Desktop\\Universidad\\CC1002-CC3001\\CC3001\\Ejercicios\\Ejercicio_7_2023_2_IgnacioRomero.ipynb Celda 8\u001b[0m line \u001b[0;36m3\n\u001b[0;32m     <a href='vscode-notebook-cell:/d%3A/Desktop/Universidad/CC1002-CC3001/CC3001/Ejercicios/Ejercicio_7_2023_2_IgnacioRomero.ipynb#X10sZmlsZQ%3D%3D?line=32'>33</a>\u001b[0m \u001b[39melif\u001b[39;00m x \u001b[39m<\u001b[39m \u001b[39mself\u001b[39m\u001b[39m.\u001b[39minfo1:\n\u001b[0;32m     <a href='vscode-notebook-cell:/d%3A/Desktop/Universidad/CC1002-CC3001/CC3001/Ejercicios/Ejercicio_7_2023_2_IgnacioRomero.ipynb#X10sZmlsZQ%3D%3D?line=33'>34</a>\u001b[0m     \u001b[39mreturn\u001b[39;00m \u001b[39mself\u001b[39m\u001b[39m.\u001b[39mizq\u001b[39m.\u001b[39msearch(x) \u001b[39mif\u001b[39;00m \u001b[39mself\u001b[39m\u001b[39m.\u001b[39mizq \u001b[39melse\u001b[39;00m \u001b[39mNone\u001b[39;00m\n\u001b[1;32m---> <a href='vscode-notebook-cell:/d%3A/Desktop/Universidad/CC1002-CC3001/CC3001/Ejercicios/Ejercicio_7_2023_2_IgnacioRomero.ipynb#X10sZmlsZQ%3D%3D?line=34'>35</a>\u001b[0m \u001b[39melif\u001b[39;00m x \u001b[39m<\u001b[39;49m \u001b[39mself\u001b[39;49m\u001b[39m.\u001b[39;49mmed:\n\u001b[0;32m     <a href='vscode-notebook-cell:/d%3A/Desktop/Universidad/CC1002-CC3001/CC3001/Ejercicios/Ejercicio_7_2023_2_IgnacioRomero.ipynb#X10sZmlsZQ%3D%3D?line=35'>36</a>\u001b[0m     \u001b[39mreturn\u001b[39;00m \u001b[39mself\u001b[39m\u001b[39m.\u001b[39mmed\u001b[39m.\u001b[39msearch(x) \u001b[39mif\u001b[39;00m \u001b[39mself\u001b[39m\u001b[39m.\u001b[39mmed \u001b[39melse\u001b[39;00m \u001b[39mNone\u001b[39;00m\n\u001b[0;32m     <a href='vscode-notebook-cell:/d%3A/Desktop/Universidad/CC1002-CC3001/CC3001/Ejercicios/Ejercicio_7_2023_2_IgnacioRomero.ipynb#X10sZmlsZQ%3D%3D?line=36'>37</a>\u001b[0m \u001b[39melse\u001b[39;00m:\n",
            "\u001b[1;31mTypeError\u001b[0m: '<' not supported between instances of 'int' and 'Nodo3'"
          ]
        }
      ],
      "source": [
        "busqueda1=a.search(25)\n",
        "assert busqueda1.string() == \"Nodo3(25,57)\"\n",
        "\n",
        "busqueda2=a.search(74)\n",
        "assert busqueda2.string() == \"Nodo2(74)\"\n",
        "\n",
        "\n",
        "busqueda3=a.search(7)\n",
        "assert busqueda3 == None\n",
        "\n",
        "print(\"pasó los tests\")"
      ]
    }
  ],
  "metadata": {
    "colab": {
      "provenance": []
    },
    "kernelspec": {
      "display_name": "Python 3",
      "name": "python3"
    },
    "language_info": {
      "codemirror_mode": {
        "name": "ipython",
        "version": 3
      },
      "file_extension": ".py",
      "mimetype": "text/x-python",
      "name": "python",
      "nbconvert_exporter": "python",
      "pygments_lexer": "ipython3",
      "version": "3.11.0"
    }
  },
  "nbformat": 4,
  "nbformat_minor": 0
}
