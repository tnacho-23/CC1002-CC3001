{
  "cells": [
    {
      "cell_type": "markdown",
      "metadata": {
        "id": "xxn4EyXnGr38"
      },
      "source": [
        "# CC3001 Algoritmos y Estructuras de Datos\n",
        "\n",
        "**Profesores: Nelson Baloian, Benjamín Bustos, Sebastian Ferrada, Patricio Poblete <br>\n",
        "Auxiliares: Sebastián Acuña, Valentina Aravena, Vicente Olivares, Ricardo Valdivia<br>\n",
        "Estudiante: Ignacio Romero Aravena <br>\n",
        "Fecha: 28/08/2023**</br>"
      ]
    },
    {
      "cell_type": "markdown",
      "metadata": {
        "id": "IbYf7P5uGDvb"
      },
      "source": [
        "### Ejercicio 2.3\n",
        "\n",
        "El método del ordenación **Stooge Sort** es un método recursivo que puede describirse de la siguiente manera:\n",
        "\n",
        "* Si el primer elemento es mayor que el último, los intercambiamos\n",
        "* Si hay 3 o más elementos en la lista, entonces:\n",
        "    * Ordenar los primeros 2/3 de la lista recursivamente\n",
        "    * Ordenar los últimos 2/3 de la lista, recursivamente, y\n",
        "    * Ordenar (¡de nuevo!) los primeros 2/3 de la lista.\n",
        "\n",
        "Escriba una ecuación que modele el tiempo de ejecución de Stooge Sort y resuélvala usando el Teorema Maestro.\n",
        "\n"
      ]
    },
    {
      "cell_type": "markdown",
      "metadata": {},
      "source": [
        "El algoritmo divide el problema en $p=3$ partes, de tamaño $\\frac{n}{q}=\\frac{2}{3}$. Y para resolver el problema se requiere $Cn^r = O(1) = C \\Rightarrow C n^ 0 $ de trabajo adicional [[1]](https://www.tudorcodes.com/blog/stooge-sort/).\n",
        "\n",
        "Así, la ecuación queda planteada como:\n",
        "\n",
        "$$T(n) = 3T(\\frac{2n}{3})+Cn^r$$\n",
        "\n",
        "Con las constantes: \n",
        "\n",
        "$p =3$\n",
        "\n",
        "$q = 3/2$\n",
        "\n",
        "$C = \\text{const}$\n",
        "\n",
        "$r = 0$\n",
        "\n",
        "Así, por teorema maestro, se puede ver que $q^r = 1 < 3 = p$, por lo que estamos en el caso del teorema maestro donde:\n",
        "\n",
        "$$T(n) = \\Theta(n^{log_q p}) = \\Theta(n^{log_{1.5}3}) = \\Theta(n^{2.7095})$$"
      ]
    }
  ],
  "metadata": {
    "colab": {
      "provenance": []
    },
    "kernelspec": {
      "display_name": "Python 3",
      "name": "python3"
    },
    "language_info": {
      "name": "python"
    }
  },
  "nbformat": 4,
  "nbformat_minor": 0
}
