{
  "cells": [
    {
      "cell_type": "markdown",
      "metadata": {
        "id": "ej575r16Veu2"
      },
      "source": [
        "# CC3001 Algoritmos y Estructuras de Datos\n",
        "\n",
        "**Profesores: Nelson Baloian, Benjamín Bustos, Sebastian Ferrada, Patricio Poblete <br>\n",
        "Auxiliares: Sebastián Acuña, Valentina Aravena, Vicente Olivares, Ricardo Valdivia<br>\n",
        "Estudiante: Ignacio Romero Aravena <br>\n",
        "Fecha: 25/09/2023**</br>"
      ]
    },
    {
      "cell_type": "markdown",
      "metadata": {
        "id": "16_7OgtaVST1"
      },
      "source": [
        "### Ejercicio 4.4\n",
        "\n",
        "Suponga que por un accidente, o quizás por vandalismo, todos los punteros ``prev`` de una lista de doble enlace han sido destruidos. Afortunadamente, los punteros ``sgte`` están intactos. Usted debe escribir primero una función que pueda invocarse como ``L.destruye_prev()`` que remueva todos los punteros ``prev`` de los nodos. Para lograr esto hay que hacer que todos los punteros ``prev`` apunten a la cabecera. A continuación, debe escribir una función que pueda invocarse como ``L.repara_prev`` que reconstruya los punteros faltantes. A continuación se encuentra la definición de la clase ``Lista_doble_enlace`` incluyendo las cabeceras de las funciones ``destruye_prev`` y ``repara_prev`` que usted debe completar. También se entrega un caso de prueba para probar que sus funciones son correctas."
      ]
    },
    {
      "cell_type": "code",
      "execution_count": 1,
      "metadata": {
        "id": "GV8vxtL3VST2",
        "colab": {
          "base_uri": "https://localhost:8080/"
        },
        "outputId": "e7204c98-124c-40b2-a414-54c348c6de2b"
      },
      "outputs": [
        {
          "output_type": "stream",
          "name": "stdout",
          "text": [
            "Requirement already satisfied: aed_utilities in /usr/local/lib/python3.10/dist-packages (0.5.6)\n",
            "Requirement already satisfied: validators in /usr/local/lib/python3.10/dist-packages (from aed_utilities) (0.22.0)\n",
            "Requirement already satisfied: beautifulsoup4 in /usr/local/lib/python3.10/dist-packages (from aed_utilities) (4.11.2)\n",
            "Requirement already satisfied: soupsieve>1.2 in /usr/local/lib/python3.10/dist-packages (from beautifulsoup4->aed_utilities) (2.5)\n"
          ]
        }
      ],
      "source": [
        "!pip install aed_utilities\n",
        "\n",
        "import aed_utilities as aed\n",
        "\n",
        "class Nodo:\n",
        "    def __init__(self, prev, info, sgte):\n",
        "        self.prev=prev\n",
        "        self.info=info\n",
        "        self.sgte=sgte\n",
        "\n",
        "class Lista_doble_enlace:\n",
        "    def __init__(self):\n",
        "        self.cabecera=Nodo(None,0,None)\n",
        "        self.cabecera.prev=self.cabecera\n",
        "        self.cabecera.sgte=self.cabecera\n",
        "\n",
        "    def insertar_despues_de(self,p,info): # inserta después de nodo p\n",
        "        r=p.sgte\n",
        "        p.sgte=r.prev=Nodo(p,info,r)\n",
        "\n",
        "    def eliminar(self,p): # elimina el nodo p\n",
        "        assert p is not self.cabecera\n",
        "        (p.prev.sgte,p.sgte.prev)=(p.sgte,p.prev)\n",
        "\n",
        "    def k_esimo(self,k): # retorna k-esimo nodo, o None si fuera de rango\n",
        "        p=self.cabecera\n",
        "        j=0\n",
        "        while True:\n",
        "            if j==k:\n",
        "                return p\n",
        "            p=p.sgte\n",
        "            if p is self.cabecera:\n",
        "                return None\n",
        "            j+=1\n",
        "\n",
        "    def ascendente(self):\n",
        "        p=self.cabecera.sgte\n",
        "        while p is not self.cabecera:\n",
        "            yield p.info\n",
        "            p=p.sgte\n",
        "\n",
        "    def descendente(self):\n",
        "        p=self.cabecera.prev\n",
        "        while p is not self.cabecera:\n",
        "              yield p.info\n",
        "              p=p.prev\n",
        "\n",
        "    def destruye_prev(self):\n",
        "    #Define aquí la función para destruir los enlaces \"prev\"\n",
        "      p = self.cabecera.sgte\n",
        "      while p is not self.cabecera:\n",
        "            p.prev = p.sgte  #Apunta todos los enlaces previos al siguiente, \"destruyéndolos\"\n",
        "            p = p.sgte\n",
        "\n",
        "\n",
        "    def repara_prev(self):\n",
        "    #Define aquí la función para reparar los enlaces \"prev\"\n",
        "      p = self.cabecera\n",
        "      while p.sgte is not self.cabecera: #Partimos de self.cabecera.sgte\n",
        "            p.sgte.prev = p #Apuntamos al anterior\n",
        "            p = p.sgte\n",
        "\n",
        "\n",
        "    def dibujar(self):\n",
        "      lld=aed.LinkedListDrawer(fieldHeader=\"cabecera\", fieldData=\"info\", fieldLink=\"sgte\", fieldReverseLink=\"prev\")\n",
        "      lld.draw_double_linked_list(self)"
      ]
    },
    {
      "cell_type": "markdown",
      "metadata": {
        "id": "ciCmFnU2VSUG"
      },
      "source": [
        "Pruébela a continuación:"
      ]
    },
    {
      "cell_type": "code",
      "execution_count": 2,
      "metadata": {
        "id": "KqUzCGL5VSUH",
        "colab": {
          "base_uri": "https://localhost:8080/",
          "height": 235
        },
        "outputId": "1204e38f-b2f8-4871-9f55-50ab56b3f26f"
      },
      "outputs": [
        {
          "output_type": "stream",
          "name": "stdout",
          "text": [
            "[42, 65, 13, 44]\n"
          ]
        },
        {
          "output_type": "display_data",
          "data": {
            "text/plain": [
              "<IPython.core.display.SVG object>"
            ],
            "image/svg+xml": "<svg xmlns=\"http://www.w3.org/2000/svg\" xmlns:xlink=\"http://www.w3.org/1999/xlink\" width=\"272pt\" height=\"47pt\" viewBox=\"0.00 0.00 271.99 47.00\">\n<g id=\"graph0\" class=\"graph\" transform=\"scale(1 1) rotate(0) translate(4 43)\">\n<title>Lista</title>\n<polygon fill=\"white\" stroke=\"transparent\" points=\"-4,4 -4,-43 267.99,-43 267.99,4 -4,4\"/>\n<!-- 42 -->\n<g id=\"node1\" class=\"node\">\n<title>42</title>\n<ellipse fill=\"none\" stroke=\"black\" cx=\"19.5\" cy=\"-19.5\" rx=\"19.5\" ry=\"19.5\"/>\n<text text-anchor=\"middle\" x=\"19.5\" y=\"-15.8\" font-family=\"Times,serif\" font-size=\"14.00\">42</text>\n</g>\n<!-- 65 -->\n<g id=\"node2\" class=\"node\">\n<title>65</title>\n<ellipse fill=\"none\" stroke=\"black\" cx=\"94.49\" cy=\"-19.5\" rx=\"19.5\" ry=\"19.5\"/>\n<text text-anchor=\"middle\" x=\"94.49\" y=\"-15.8\" font-family=\"Times,serif\" font-size=\"14.00\">65</text>\n</g>\n<!-- 42&#45;&gt;65 -->\n<g id=\"edge1\" class=\"edge\">\n<title>42-&gt;65</title>\n<path fill=\"none\" stroke=\"black\" d=\"M38.17,-13.62C46.36,-12.79 56.29,-12.55 65.46,-12.91\"/>\n<polygon fill=\"black\" stroke=\"black\" points=\"65.52,-16.42 75.73,-13.61 65.99,-9.44 65.52,-16.42\"/>\n</g>\n<!-- 65&#45;&gt;42 -->\n<g id=\"edge6\" class=\"edge\">\n<title>65-&gt;42</title>\n<path fill=\"none\" stroke=\"black\" d=\"M75.73,-25.39C67.53,-26.21 57.6,-26.45 48.43,-26.08\"/>\n<polygon fill=\"black\" stroke=\"black\" points=\"48.38,-22.57 38.17,-25.38 47.91,-29.55 48.38,-22.57\"/>\n</g>\n<!-- 13 -->\n<g id=\"node3\" class=\"node\">\n<title>13</title>\n<ellipse fill=\"none\" stroke=\"black\" cx=\"169.49\" cy=\"-19.5\" rx=\"19.5\" ry=\"19.5\"/>\n<text text-anchor=\"middle\" x=\"169.49\" y=\"-15.8\" font-family=\"Times,serif\" font-size=\"14.00\">13</text>\n</g>\n<!-- 65&#45;&gt;13 -->\n<g id=\"edge2\" class=\"edge\">\n<title>65-&gt;13</title>\n<path fill=\"none\" stroke=\"black\" d=\"M113.17,-13.62C121.35,-12.79 131.28,-12.55 140.46,-12.91\"/>\n<polygon fill=\"black\" stroke=\"black\" points=\"140.52,-16.42 150.73,-13.61 140.99,-9.44 140.52,-16.42\"/>\n</g>\n<!-- 13&#45;&gt;65 -->\n<g id=\"edge5\" class=\"edge\">\n<title>13-&gt;65</title>\n<path fill=\"none\" stroke=\"black\" d=\"M150.73,-25.39C142.53,-26.21 132.6,-26.45 123.43,-26.08\"/>\n<polygon fill=\"black\" stroke=\"black\" points=\"123.38,-22.57 113.17,-25.38 122.9,-29.55 123.38,-22.57\"/>\n</g>\n<!-- 44 -->\n<g id=\"node4\" class=\"node\">\n<title>44</title>\n<ellipse fill=\"none\" stroke=\"black\" cx=\"244.49\" cy=\"-19.5\" rx=\"19.5\" ry=\"19.5\"/>\n<text text-anchor=\"middle\" x=\"244.49\" y=\"-15.8\" font-family=\"Times,serif\" font-size=\"14.00\">44</text>\n</g>\n<!-- 13&#45;&gt;44 -->\n<g id=\"edge3\" class=\"edge\">\n<title>13-&gt;44</title>\n<path fill=\"none\" stroke=\"black\" d=\"M188.16,-13.62C196.35,-12.79 206.28,-12.55 215.45,-12.91\"/>\n<polygon fill=\"black\" stroke=\"black\" points=\"215.51,-16.42 225.73,-13.61 215.99,-9.44 215.51,-16.42\"/>\n</g>\n<!-- 44&#45;&gt;13 -->\n<g id=\"edge4\" class=\"edge\">\n<title>44-&gt;13</title>\n<path fill=\"none\" stroke=\"black\" d=\"M225.73,-25.39C217.53,-26.21 207.59,-26.45 198.42,-26.08\"/>\n<polygon fill=\"black\" stroke=\"black\" points=\"198.38,-22.57 188.16,-25.38 197.9,-29.55 198.38,-22.57\"/>\n</g>\n</g>\n</svg>"
          },
          "metadata": {}
        },
        {
          "output_type": "display_data",
          "data": {
            "text/plain": [
              "<IPython.core.display.SVG object>"
            ],
            "image/svg+xml": "<svg xmlns=\"http://www.w3.org/2000/svg\" xmlns:xlink=\"http://www.w3.org/1999/xlink\" width=\"272pt\" height=\"47pt\" viewBox=\"0.00 0.00 271.99 47.00\">\n<g id=\"graph0\" class=\"graph\" transform=\"scale(1 1) rotate(0) translate(4 43)\">\n<title>Lista</title>\n<polygon fill=\"white\" stroke=\"transparent\" points=\"-4,4 -4,-43 267.99,-43 267.99,4 -4,4\"/>\n<!-- 42 -->\n<g id=\"node1\" class=\"node\">\n<title>42</title>\n<ellipse fill=\"none\" stroke=\"black\" cx=\"19.5\" cy=\"-19.5\" rx=\"19.5\" ry=\"19.5\"/>\n<text text-anchor=\"middle\" x=\"19.5\" y=\"-15.8\" font-family=\"Times,serif\" font-size=\"14.00\">42</text>\n</g>\n<!-- 65 -->\n<g id=\"node2\" class=\"node\">\n<title>65</title>\n<ellipse fill=\"none\" stroke=\"black\" cx=\"94.49\" cy=\"-19.5\" rx=\"19.5\" ry=\"19.5\"/>\n<text text-anchor=\"middle\" x=\"94.49\" y=\"-15.8\" font-family=\"Times,serif\" font-size=\"14.00\">65</text>\n</g>\n<!-- 42&#45;&gt;65 -->\n<g id=\"edge1\" class=\"edge\">\n<title>42-&gt;65</title>\n<path fill=\"none\" stroke=\"black\" d=\"M39.3,-19.5C47.04,-19.5 56.2,-19.5 64.75,-19.5\"/>\n<polygon fill=\"black\" stroke=\"black\" points=\"64.76,-23 74.76,-19.5 64.76,-16 64.76,-23\"/>\n</g>\n<!-- 13 -->\n<g id=\"node3\" class=\"node\">\n<title>13</title>\n<ellipse fill=\"none\" stroke=\"black\" cx=\"169.49\" cy=\"-19.5\" rx=\"19.5\" ry=\"19.5\"/>\n<text text-anchor=\"middle\" x=\"169.49\" y=\"-15.8\" font-family=\"Times,serif\" font-size=\"14.00\">13</text>\n</g>\n<!-- 65&#45;&gt;13 -->\n<g id=\"edge2\" class=\"edge\">\n<title>65-&gt;13</title>\n<path fill=\"none\" stroke=\"black\" d=\"M114.29,-19.5C122.04,-19.5 131.19,-19.5 139.75,-19.5\"/>\n<polygon fill=\"black\" stroke=\"black\" points=\"139.76,-23 149.76,-19.5 139.76,-16 139.76,-23\"/>\n</g>\n<!-- 44 -->\n<g id=\"node4\" class=\"node\">\n<title>44</title>\n<ellipse fill=\"none\" stroke=\"black\" cx=\"244.49\" cy=\"-19.5\" rx=\"19.5\" ry=\"19.5\"/>\n<text text-anchor=\"middle\" x=\"244.49\" y=\"-15.8\" font-family=\"Times,serif\" font-size=\"14.00\">44</text>\n</g>\n<!-- 13&#45;&gt;44 -->\n<g id=\"edge3\" class=\"edge\">\n<title>13-&gt;44</title>\n<path fill=\"none\" stroke=\"black\" d=\"M189.29,-19.5C197.04,-19.5 206.19,-19.5 214.75,-19.5\"/>\n<polygon fill=\"black\" stroke=\"black\" points=\"214.75,-23 224.75,-19.5 214.75,-16 214.75,-23\"/>\n</g>\n</g>\n</svg>"
          },
          "metadata": {}
        },
        {
          "output_type": "display_data",
          "data": {
            "text/plain": [
              "<IPython.core.display.SVG object>"
            ],
            "image/svg+xml": "<svg xmlns=\"http://www.w3.org/2000/svg\" xmlns:xlink=\"http://www.w3.org/1999/xlink\" width=\"272pt\" height=\"47pt\" viewBox=\"0.00 0.00 271.99 47.00\">\n<g id=\"graph0\" class=\"graph\" transform=\"scale(1 1) rotate(0) translate(4 43)\">\n<title>Lista</title>\n<polygon fill=\"white\" stroke=\"transparent\" points=\"-4,4 -4,-43 267.99,-43 267.99,4 -4,4\"/>\n<!-- 42 -->\n<g id=\"node1\" class=\"node\">\n<title>42</title>\n<ellipse fill=\"none\" stroke=\"black\" cx=\"19.5\" cy=\"-19.5\" rx=\"19.5\" ry=\"19.5\"/>\n<text text-anchor=\"middle\" x=\"19.5\" y=\"-15.8\" font-family=\"Times,serif\" font-size=\"14.00\">42</text>\n</g>\n<!-- 65 -->\n<g id=\"node2\" class=\"node\">\n<title>65</title>\n<ellipse fill=\"none\" stroke=\"black\" cx=\"94.49\" cy=\"-19.5\" rx=\"19.5\" ry=\"19.5\"/>\n<text text-anchor=\"middle\" x=\"94.49\" y=\"-15.8\" font-family=\"Times,serif\" font-size=\"14.00\">65</text>\n</g>\n<!-- 42&#45;&gt;65 -->\n<g id=\"edge1\" class=\"edge\">\n<title>42-&gt;65</title>\n<path fill=\"none\" stroke=\"black\" d=\"M38.17,-13.62C46.36,-12.79 56.29,-12.55 65.46,-12.91\"/>\n<polygon fill=\"black\" stroke=\"black\" points=\"65.52,-16.42 75.73,-13.61 65.99,-9.44 65.52,-16.42\"/>\n</g>\n<!-- 65&#45;&gt;42 -->\n<g id=\"edge6\" class=\"edge\">\n<title>65-&gt;42</title>\n<path fill=\"none\" stroke=\"black\" d=\"M75.73,-25.39C67.53,-26.21 57.6,-26.45 48.43,-26.08\"/>\n<polygon fill=\"black\" stroke=\"black\" points=\"48.38,-22.57 38.17,-25.38 47.91,-29.55 48.38,-22.57\"/>\n</g>\n<!-- 13 -->\n<g id=\"node3\" class=\"node\">\n<title>13</title>\n<ellipse fill=\"none\" stroke=\"black\" cx=\"169.49\" cy=\"-19.5\" rx=\"19.5\" ry=\"19.5\"/>\n<text text-anchor=\"middle\" x=\"169.49\" y=\"-15.8\" font-family=\"Times,serif\" font-size=\"14.00\">13</text>\n</g>\n<!-- 65&#45;&gt;13 -->\n<g id=\"edge2\" class=\"edge\">\n<title>65-&gt;13</title>\n<path fill=\"none\" stroke=\"black\" d=\"M113.17,-13.62C121.35,-12.79 131.28,-12.55 140.46,-12.91\"/>\n<polygon fill=\"black\" stroke=\"black\" points=\"140.52,-16.42 150.73,-13.61 140.99,-9.44 140.52,-16.42\"/>\n</g>\n<!-- 13&#45;&gt;65 -->\n<g id=\"edge5\" class=\"edge\">\n<title>13-&gt;65</title>\n<path fill=\"none\" stroke=\"black\" d=\"M150.73,-25.39C142.53,-26.21 132.6,-26.45 123.43,-26.08\"/>\n<polygon fill=\"black\" stroke=\"black\" points=\"123.38,-22.57 113.17,-25.38 122.9,-29.55 123.38,-22.57\"/>\n</g>\n<!-- 44 -->\n<g id=\"node4\" class=\"node\">\n<title>44</title>\n<ellipse fill=\"none\" stroke=\"black\" cx=\"244.49\" cy=\"-19.5\" rx=\"19.5\" ry=\"19.5\"/>\n<text text-anchor=\"middle\" x=\"244.49\" y=\"-15.8\" font-family=\"Times,serif\" font-size=\"14.00\">44</text>\n</g>\n<!-- 13&#45;&gt;44 -->\n<g id=\"edge3\" class=\"edge\">\n<title>13-&gt;44</title>\n<path fill=\"none\" stroke=\"black\" d=\"M188.16,-13.62C196.35,-12.79 206.28,-12.55 215.45,-12.91\"/>\n<polygon fill=\"black\" stroke=\"black\" points=\"215.51,-16.42 225.73,-13.61 215.99,-9.44 215.51,-16.42\"/>\n</g>\n<!-- 44&#45;&gt;13 -->\n<g id=\"edge4\" class=\"edge\">\n<title>44-&gt;13</title>\n<path fill=\"none\" stroke=\"black\" d=\"M225.73,-25.39C217.53,-26.21 207.59,-26.45 198.42,-26.08\"/>\n<polygon fill=\"black\" stroke=\"black\" points=\"198.38,-22.57 188.16,-25.38 197.9,-29.55 198.38,-22.57\"/>\n</g>\n</g>\n</svg>"
          },
          "metadata": {}
        }
      ],
      "source": [
        "L=Lista_doble_enlace()\n",
        "L.insertar_despues_de(L.k_esimo(0),42)\n",
        "L.insertar_despues_de(L.k_esimo(1),65)\n",
        "L.insertar_despues_de(L.k_esimo(2),13)\n",
        "L.insertar_despues_de(L.k_esimo(3),44)\n",
        "\n",
        "print([x for x in L.ascendente()]) #Printea la lista original\n",
        "\n",
        "L.dibujar() #Muestra la lista doblemente enlazada original\n",
        "\n",
        "\n",
        "L.destruye_prev()\n",
        "\n",
        "L.dibujar() #Muestra la lista como si fuera una lista enlazada simple (sin enlaces \"prev\")\n",
        "\n",
        "L.repara_prev()\n",
        "L.dibujar() #Muestra la lista con los enlaces \"prev\" reparados"
      ]
    }
  ],
  "metadata": {
    "colab": {
      "provenance": []
    },
    "kernelspec": {
      "display_name": "Python 3",
      "name": "python3"
    },
    "language_info": {
      "codemirror_mode": {
        "name": "ipython",
        "version": 3
      },
      "file_extension": ".py",
      "mimetype": "text/x-python",
      "name": "python",
      "nbconvert_exporter": "python",
      "pygments_lexer": "ipython3",
      "version": "3.11.0"
    }
  },
  "nbformat": 4,
  "nbformat_minor": 0
}