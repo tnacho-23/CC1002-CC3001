{
 "cells": [
  {
   "cell_type": "markdown",
   "metadata": {},
   "source": [
    "# CC3001 Algoritmos y Estructuras de Datos\n",
    "\n",
    "**Profesores: Nelson Baloian, Benjamín Bustos, Sebastian Ferrada, Patricio Poblete <br>\n",
    "Auxiliares: Sebastián Acuña, Valentina Aravena, Vicente Olivares, Ricardo Valdivia<br>\n",
    "Estudiante: Ignacio Romero <br>\n",
    "Fecha: 27/11/2023**</br>"
   ]
  },
  {
   "cell_type": "markdown",
   "metadata": {
    "id": "4I7SOOASXfM5"
   },
   "source": [
    "### Ejercicio 7.3 (Merge de listas con repeticiones)\n",
    "\n",
    "Suponga que se desea mezclar dos listas ordenadas de manera ascendente en las cuales puede haber elementos repetidos. Estas listas se representan en forma compacta como una secuencia de tuplas en que para cada elemento se indica su *multiplicidad*, es decir, el número de veces que se repite. Por ejemplo, la lista\n",
    "```\n",
    "[(12,2),(34,1),(56,3),(74,1),(81,1)]\n",
    "```\n",
    "es la representación compacta de la lista\n",
    "```\n",
    "[12,12,34,56,56,56,74,81]\n",
    "```\n",
    "Se pide escribir un método ``merge(a,b)`` que reciba como argumento dos listas compactas ``a`` y ``b`` y retorne el resultado de mezclarlas. El resultado debe estar también en formato compacto.\n",
    "\n",
    "Para esto, usted debe modificar el método ``merge`` del apunte, el que aparece a continuación:\n"
   ]
  },
  {
   "cell_type": "code",
   "execution_count": 1,
   "metadata": {},
   "outputs": [],
   "source": [
    "def merge(a, b):\n",
    "    # Método merge del apunte\n",
    "    def merge_apunte(a, b):\n",
    "        i = 0\n",
    "        j = 0\n",
    "        resultado_merge = []\n",
    "\n",
    "        while i < len(a) or j < len(b):\n",
    "            if j >= len(b) or (i < len(a) and a[i][0] <= b[j][0]):\n",
    "                resultado_merge.append(a[i])\n",
    "                i += 1\n",
    "            else:\n",
    "                resultado_merge.append(b[j])\n",
    "                j += 1\n",
    "\n",
    "        return resultado_merge\n",
    "\n",
    "    # Descompactar lista compacta\n",
    "    def descompactar(compacta):\n",
    "        descompactada = []\n",
    "\n",
    "        for elemento, multiplicidad in compacta:\n",
    "            descompactada.extend([elemento] * multiplicidad)\n",
    "\n",
    "        return descompactada\n",
    "\n",
    "    # Compactar lista (Generada con ChatGpt)\n",
    "    def compactar(lista):\n",
    "        if not lista:\n",
    "            return []\n",
    "\n",
    "        compacta = [(lista[0], 1)]\n",
    "\n",
    "        for i in range(1, len(lista)):\n",
    "            if lista[i] == compacta[-1][0]:\n",
    "                compacta[-1] = (compacta[-1][0], compacta[-1][1] + 1)\n",
    "            else:\n",
    "                compacta.append((lista[i], 1))\n",
    "\n",
    "        return compacta\n",
    "    \n",
    "    #La magia\n",
    "\n",
    "    # Mergear listas compactas\n",
    "    lista_mezclada = merge_apunte(a, b)\n",
    "\n",
    "    # Descompactar la lista mezclada\n",
    "    lista_descompactada = descompactar(lista_mezclada)\n",
    "\n",
    "    # Compactar la lista descompactada\n",
    "    lista_compactada = compactar(lista_descompactada)\n",
    "\n",
    "    return lista_compactada"
   ]
  },
  {
   "cell_type": "markdown",
   "metadata": {
    "id": "tfbj66JLZQOZ"
   },
   "source": [
    "y luego debe probarlo ejecutando el código siguiente:"
   ]
  },
  {
   "cell_type": "code",
   "execution_count": 2,
   "metadata": {
    "id": "IgSOo2f4ZZT_"
   },
   "outputs": [
    {
     "name": "stdout",
     "output_type": "stream",
     "text": [
      "[(10, 3), (12, 7), (34, 1), (56, 3), (65, 1), (74, 2), (81, 1), (90, 3)]\n"
     ]
    }
   ],
   "source": [
    "a=[(12,2),(34,1),(56,3),(74,1),(81,1)]\n",
    "b=[(10,3),(12,5),(65,1),(74,1),(90,3)]\n",
    "c=[x for x in merge(a,b)]\n",
    "print(c)\n",
    "\n"
   ]
  }
 ],
 "metadata": {
  "colab": {
   "provenance": []
  },
  "kernelspec": {
   "display_name": "Python 3 (ipykernel)",
   "language": "python",
   "name": "python3"
  },
  "language_info": {
   "codemirror_mode": {
    "name": "ipython",
    "version": 3
   },
   "file_extension": ".py",
   "mimetype": "text/x-python",
   "name": "python",
   "nbconvert_exporter": "python",
   "pygments_lexer": "ipython3",
   "version": "3.11.0"
  }
 },
 "nbformat": 4,
 "nbformat_minor": 1
}
