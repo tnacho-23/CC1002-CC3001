{
  "cells": [
    {
      "cell_type": "markdown",
      "metadata": {
        "id": "dEmX-bva-tqN"
      },
      "source": [
        "### Ejercicio 6.0 (Agregar método ``min`` a un ABB)\n",
        "\n",
        "**Profesores: Nelson Baloian, Benjamín Bustos, Sebastian Ferrada, Patricio Poblete <br>\n",
        "Auxiliares: Sebastián Acuña, Valentina Aravena, Vicente Olivares, Ricardo Valdivia<br>\n",
        "Estudiante: Ignacio Romero Aravena** </br>\n",
        "\n",
        "El objetivo de este ejercicio es que usted agregue un método ``min`` a un árbol de búsqueda binaria. Este método debe entregar un puntero al nodo interno que contiene el elemento mínimo en un ABB. Para simplificar, usted puede suponer que el árbol siempre contiene al menos una llave."
      ]
    },
    {
      "cell_type": "code",
      "execution_count": 1,
      "metadata": {
        "colab": {
          "base_uri": "https://localhost:8080/"
        },
        "id": "0ZxRqoieS-PE",
        "outputId": "536be1da-77b4-4642-cd8c-969137459048"
      },
      "outputs": [
        {
          "output_type": "stream",
          "name": "stdout",
          "text": [
            "Collecting aed-utilities\n",
            "  Downloading aed_utilities-0.5.6.tar.gz (4.3 kB)\n",
            "  Preparing metadata (setup.py) ... \u001b[?25l\u001b[?25hdone\n",
            "Collecting validators (from aed-utilities)\n",
            "  Downloading validators-0.22.0-py3-none-any.whl (26 kB)\n",
            "Requirement already satisfied: beautifulsoup4 in /usr/local/lib/python3.10/dist-packages (from aed-utilities) (4.11.2)\n",
            "Requirement already satisfied: soupsieve>1.2 in /usr/local/lib/python3.10/dist-packages (from beautifulsoup4->aed-utilities) (2.5)\n",
            "Building wheels for collected packages: aed-utilities\n",
            "  Building wheel for aed-utilities (setup.py) ... \u001b[?25l\u001b[?25hdone\n",
            "  Created wheel for aed-utilities: filename=aed_utilities-0.5.6-py3-none-any.whl size=4541 sha256=7fce0eddf65b47b87f25883f051338a89f338d4764c5566a64b8c9361a5228b4\n",
            "  Stored in directory: /root/.cache/pip/wheels/db/6d/39/cc766f956b1e504722228ad30c8154cd48f4470e7e24dcfd0e\n",
            "Successfully built aed-utilities\n",
            "Installing collected packages: validators, aed-utilities\n",
            "Successfully installed aed-utilities-0.5.6 validators-0.22.0\n"
          ]
        }
      ],
      "source": [
        "!pip install aed-utilities\n",
        "\n",
        "import aed_utilities as aed"
      ]
    },
    {
      "cell_type": "code",
      "execution_count": 2,
      "metadata": {
        "collapsed": true,
        "id": "omfS2oDt-tqP"
      },
      "outputs": [],
      "source": [
        "class Nodoi:\n",
        "    def __init__(self, izq, info, der):\n",
        "        self.izq=izq\n",
        "        self.info=info\n",
        "        self.der=der\n",
        "\n",
        "class Nodoe:\n",
        "    def __init__(self):\n",
        "        pass\n",
        "\n",
        "class Arbol:\n",
        "    def __init__(self,raiz=Nodoe()):\n",
        "        self.raiz=raiz\n",
        "\n",
        "    def min(self):\n",
        "        if isinstance(self.raiz, Nodoe):\n",
        "            return\n",
        "        p = self.raiz\n",
        "        while not isinstance(p.izq, Nodoe):\n",
        "            p = p.izq #Vamos bajando por la izquierda (en dirección a los mínimos por ser ABB) hasta que se acabe la info\n",
        "        return p\n",
        "\n",
        "\n",
        "    def insert(self,x):\n",
        "        if isinstance(self.raiz, Nodoe):\n",
        "            self.raiz=Nodoi(Nodoe(),x,Nodoe())\n",
        "            return\n",
        "        p=self.raiz\n",
        "        while True:\n",
        "            assert x!=p.info\n",
        "            if x<p.info:\n",
        "                if isinstance(p.izq, Nodoe):\n",
        "                    p.izq=Nodoi(Nodoe(),x,Nodoe())\n",
        "                    return\n",
        "                p=p.izq\n",
        "            else: # x>p.info\n",
        "                if isinstance(p.der, Nodoe):\n",
        "                    p.der=Nodoi(Nodoe(),x,Nodoe())\n",
        "                    return\n",
        "                p=p.der\n",
        "\n",
        "    def search(self,x):\n",
        "        p=self.raiz\n",
        "        while not isinstance(p, Nodoe):\n",
        "            if x==p.info:\n",
        "                return p\n",
        "            p=p.izq if x<p.info else p.der\n",
        "        return None\n",
        "\n",
        "    def dibujar(self):\n",
        "      btd = aed.BinaryTreeDrawer(fieldData=\"info\", fieldLeft=\"izq\", fieldRight=\"der\", classNone=Nodoe, drawNull=True)\n",
        "      btd.draw_tree(self, \"raiz\")"
      ]
    },
    {
      "cell_type": "markdown",
      "metadata": {
        "id": "jgR-dnal-tqQ"
      },
      "source": [
        "A continuación construimos un árbol para hacer pruebas y definimos una función para chequear que la respuesta esté correcta:"
      ]
    },
    {
      "cell_type": "code",
      "execution_count": 3,
      "metadata": {
        "collapsed": true,
        "id": "TftVkhRN-tqQ"
      },
      "outputs": [],
      "source": [
        "a=Arbol(\n",
        "    Nodoi(\n",
        "        Nodoi(\n",
        "            Nodoi(Nodoe(),15,Nodoe()),\n",
        "            20,\n",
        "            Nodoi(\n",
        "                Nodoi(Nodoe(),30,Nodoe()),\n",
        "                35,\n",
        "                Nodoe()\n",
        "            )\n",
        "        ),\n",
        "        42,\n",
        "        Nodoi(\n",
        "            Nodoi(\n",
        "                Nodoi(\n",
        "                    Nodoi(Nodoe(),65,Nodoe()),\n",
        "                    72,\n",
        "                    Nodoi(Nodoe(),81,Nodoe())\n",
        "                ),\n",
        "                90,\n",
        "                Nodoe()\n",
        "            ),\n",
        "            95,\n",
        "            Nodoe()\n",
        "        )\n",
        "       )\n",
        ")\n",
        "\n",
        "def chequear(x,x_correcta):\n",
        "  print(\"Respuesta:\",x,\"CORRECTA\" if x==x_correcta else \"ERROR\")"
      ]
    },
    {
      "cell_type": "markdown",
      "metadata": {
        "id": "QreFo6KbDzCK"
      },
      "source": [
        "A continuación ejecute las dos pruebas siguientes:"
      ]
    },
    {
      "cell_type": "code",
      "execution_count": 4,
      "metadata": {
        "colab": {
          "base_uri": "https://localhost:8080/",
          "height": 371
        },
        "id": "AcnVqlWKDmEb",
        "outputId": "f20f909a-b9ae-491f-d085-1e691e12f7b8"
      },
      "outputs": [
        {
          "output_type": "display_data",
          "data": {
            "text/plain": [
              "<IPython.core.display.SVG object>"
            ],
            "image/svg+xml": "<svg xmlns=\"http://www.w3.org/2000/svg\" xmlns:xlink=\"http://www.w3.org/1999/xlink\" width=\"694pt\" height=\"249pt\" viewBox=\"0.00 0.00 694.00 249.00\">\n<g id=\"graph0\" class=\"graph\" transform=\"scale(1 1) rotate(0) translate(4 245)\">\n<title>Arbol</title>\n<polygon fill=\"white\" stroke=\"transparent\" points=\"-4,4 -4,-245 690,-245 690,4 -4,4\"/>\n<!-- null0 -->\n<g id=\"node1\" class=\"node\">\n<title>null0</title>\n<polygon fill=\"none\" stroke=\"black\" points=\"14,-100.4 0,-100.4 0,-86.4 14,-86.4 14,-100.4\"/>\n</g>\n<!-- node0 -->\n<g id=\"node2\" class=\"node\">\n<title>node0</title>\n<ellipse fill=\"none\" stroke=\"black\" cx=\"40.6\" cy=\"-136.6\" rx=\"18\" ry=\"18\"/>\n<text text-anchor=\"middle\" x=\"40.6\" y=\"-132.9\" font-family=\"Times,serif\" font-size=\"14.00\">15</text>\n</g>\n<!-- node0&#45;&#45;null0 -->\n<g id=\"edge3\" class=\"edge\">\n<title>node0--null0</title>\n<path fill=\"none\" stroke=\"black\" d=\"M29.22,-121.97C23.59,-114.73 17.04,-106.31 12.52,-100.5\"/>\n</g>\n<!-- null1 -->\n<g id=\"node3\" class=\"node\">\n<title>null1</title>\n<polygon fill=\"none\" stroke=\"black\" points=\"81.2,-100.4 67.2,-100.4 67.2,-86.4 81.2,-86.4 81.2,-100.4\"/>\n</g>\n<!-- node0&#45;&#45;null1 -->\n<g id=\"edge4\" class=\"edge\">\n<title>node0--null1</title>\n<path fill=\"none\" stroke=\"black\" d=\"M51.98,-121.97C57.61,-114.73 64.16,-106.31 68.68,-100.5\"/>\n</g>\n<!-- node3 -->\n<g id=\"node4\" class=\"node\">\n<title>node3</title>\n<ellipse fill=\"none\" stroke=\"black\" cx=\"107.8\" cy=\"-179.8\" rx=\"18\" ry=\"18\"/>\n<text text-anchor=\"middle\" x=\"107.8\" y=\"-176.1\" font-family=\"Times,serif\" font-size=\"14.00\">20</text>\n</g>\n<!-- node3&#45;&#45;node0 -->\n<g id=\"edge2\" class=\"edge\">\n<title>node3--node0</title>\n<path fill=\"none\" stroke=\"black\" d=\"M92.55,-170C81.55,-162.93 66.77,-153.42 55.79,-146.36\"/>\n</g>\n<!-- node2 -->\n<g id=\"node8\" class=\"node\">\n<title>node2</title>\n<ellipse fill=\"none\" stroke=\"black\" cx=\"242.2\" cy=\"-136.6\" rx=\"18\" ry=\"18\"/>\n<text text-anchor=\"middle\" x=\"242.2\" y=\"-132.9\" font-family=\"Times,serif\" font-size=\"14.00\">35</text>\n</g>\n<!-- node3&#45;&#45;node2 -->\n<g id=\"edge5\" class=\"edge\">\n<title>node3--node2</title>\n<path fill=\"none\" stroke=\"black\" d=\"M125.1,-174.24C150.9,-165.95 199.2,-150.42 224.97,-142.14\"/>\n</g>\n<!-- null2 -->\n<g id=\"node5\" class=\"node\">\n<title>null2</title>\n<polygon fill=\"none\" stroke=\"black\" points=\"148.4,-57.2 134.4,-57.2 134.4,-43.2 148.4,-43.2 148.4,-57.2\"/>\n</g>\n<!-- node1 -->\n<g id=\"node6\" class=\"node\">\n<title>node1</title>\n<ellipse fill=\"none\" stroke=\"black\" cx=\"175\" cy=\"-93.4\" rx=\"18\" ry=\"18\"/>\n<text text-anchor=\"middle\" x=\"175\" y=\"-89.7\" font-family=\"Times,serif\" font-size=\"14.00\">30</text>\n</g>\n<!-- node1&#45;&#45;null2 -->\n<g id=\"edge7\" class=\"edge\">\n<title>node1--null2</title>\n<path fill=\"none\" stroke=\"black\" d=\"M163.62,-78.77C157.99,-71.53 151.44,-63.11 146.92,-57.3\"/>\n</g>\n<!-- null3 -->\n<g id=\"node7\" class=\"node\">\n<title>null3</title>\n<polygon fill=\"none\" stroke=\"black\" points=\"215.6,-57.2 201.6,-57.2 201.6,-43.2 215.6,-43.2 215.6,-57.2\"/>\n</g>\n<!-- node1&#45;&#45;null3 -->\n<g id=\"edge8\" class=\"edge\">\n<title>node1--null3</title>\n<path fill=\"none\" stroke=\"black\" d=\"M186.38,-78.77C192.01,-71.53 198.56,-63.11 203.08,-57.3\"/>\n</g>\n<!-- node2&#45;&#45;node1 -->\n<g id=\"edge6\" class=\"edge\">\n<title>node2--node1</title>\n<path fill=\"none\" stroke=\"black\" d=\"M226.95,-126.8C215.95,-119.73 201.17,-110.22 190.19,-103.16\"/>\n</g>\n<!-- null4 -->\n<g id=\"node9\" class=\"node\">\n<title>null4</title>\n<polygon fill=\"none\" stroke=\"black\" points=\"282.8,-100.4 268.8,-100.4 268.8,-86.4 282.8,-86.4 282.8,-100.4\"/>\n</g>\n<!-- node2&#45;&#45;null4 -->\n<g id=\"edge9\" class=\"edge\">\n<title>node2--null4</title>\n<path fill=\"none\" stroke=\"black\" d=\"M253.58,-121.97C259.21,-114.73 265.76,-106.31 270.28,-100.5\"/>\n</g>\n<!-- node9 -->\n<g id=\"node10\" class=\"node\">\n<title>node9</title>\n<ellipse fill=\"none\" stroke=\"black\" cx=\"309.4\" cy=\"-223\" rx=\"18\" ry=\"18\"/>\n<text text-anchor=\"middle\" x=\"309.4\" y=\"-219.3\" font-family=\"Times,serif\" font-size=\"14.00\">42</text>\n</g>\n<!-- node9&#45;&#45;node3 -->\n<g id=\"edge1\" class=\"edge\">\n<title>node9--node3</title>\n<path fill=\"none\" stroke=\"black\" d=\"M291.51,-219.17C253.25,-210.97 163.87,-191.82 125.65,-183.63\"/>\n</g>\n<!-- node8 -->\n<g id=\"node20\" class=\"node\">\n<title>node8</title>\n<ellipse fill=\"none\" stroke=\"black\" cx=\"645.4\" cy=\"-179.8\" rx=\"18\" ry=\"18\"/>\n<text text-anchor=\"middle\" x=\"645.4\" y=\"-176.1\" font-family=\"Times,serif\" font-size=\"14.00\">95</text>\n</g>\n<!-- node9&#45;&#45;node8 -->\n<g id=\"edge10\" class=\"edge\">\n<title>node9--node8</title>\n<path fill=\"none\" stroke=\"black\" d=\"M327.46,-220.68C385.81,-213.18 568.78,-189.65 627.25,-182.13\"/>\n</g>\n<!-- null5 -->\n<g id=\"node11\" class=\"node\">\n<title>null5</title>\n<polygon fill=\"none\" stroke=\"black\" points=\"350,-14 336,-14 336,0 350,0 350,-14\"/>\n</g>\n<!-- node4 -->\n<g id=\"node12\" class=\"node\">\n<title>node4</title>\n<ellipse fill=\"none\" stroke=\"black\" cx=\"376.6\" cy=\"-50.2\" rx=\"18\" ry=\"18\"/>\n<text text-anchor=\"middle\" x=\"376.6\" y=\"-46.5\" font-family=\"Times,serif\" font-size=\"14.00\">65</text>\n</g>\n<!-- node4&#45;&#45;null5 -->\n<g id=\"edge14\" class=\"edge\">\n<title>node4--null5</title>\n<path fill=\"none\" stroke=\"black\" d=\"M365.22,-35.57C359.59,-28.33 353.04,-19.91 348.52,-14.1\"/>\n</g>\n<!-- null6 -->\n<g id=\"node13\" class=\"node\">\n<title>null6</title>\n<polygon fill=\"none\" stroke=\"black\" points=\"417.2,-14 403.2,-14 403.2,0 417.2,0 417.2,-14\"/>\n</g>\n<!-- node4&#45;&#45;null6 -->\n<g id=\"edge15\" class=\"edge\">\n<title>node4--null6</title>\n<path fill=\"none\" stroke=\"black\" d=\"M387.98,-35.57C393.61,-28.33 400.16,-19.91 404.68,-14.1\"/>\n</g>\n<!-- node6 -->\n<g id=\"node14\" class=\"node\">\n<title>node6</title>\n<ellipse fill=\"none\" stroke=\"black\" cx=\"443.8\" cy=\"-93.4\" rx=\"18\" ry=\"18\"/>\n<text text-anchor=\"middle\" x=\"443.8\" y=\"-89.7\" font-family=\"Times,serif\" font-size=\"14.00\">72</text>\n</g>\n<!-- node6&#45;&#45;node4 -->\n<g id=\"edge13\" class=\"edge\">\n<title>node6--node4</title>\n<path fill=\"none\" stroke=\"black\" d=\"M428.55,-83.6C417.55,-76.53 402.77,-67.02 391.79,-59.96\"/>\n</g>\n<!-- node5 -->\n<g id=\"node16\" class=\"node\">\n<title>node5</title>\n<ellipse fill=\"none\" stroke=\"black\" cx=\"511\" cy=\"-50.2\" rx=\"18\" ry=\"18\"/>\n<text text-anchor=\"middle\" x=\"511\" y=\"-46.5\" font-family=\"Times,serif\" font-size=\"14.00\">81</text>\n</g>\n<!-- node6&#45;&#45;node5 -->\n<g id=\"edge16\" class=\"edge\">\n<title>node6--node5</title>\n<path fill=\"none\" stroke=\"black\" d=\"M459.05,-83.6C470.05,-76.53 484.83,-67.02 495.81,-59.96\"/>\n</g>\n<!-- null7 -->\n<g id=\"node15\" class=\"node\">\n<title>null7</title>\n<polygon fill=\"none\" stroke=\"black\" points=\"484.4,-14 470.4,-14 470.4,0 484.4,0 484.4,-14\"/>\n</g>\n<!-- node5&#45;&#45;null7 -->\n<g id=\"edge17\" class=\"edge\">\n<title>node5--null7</title>\n<path fill=\"none\" stroke=\"black\" d=\"M499.62,-35.57C493.99,-28.33 487.44,-19.91 482.92,-14.1\"/>\n</g>\n<!-- null8 -->\n<g id=\"node17\" class=\"node\">\n<title>null8</title>\n<polygon fill=\"none\" stroke=\"black\" points=\"551.6,-14 537.6,-14 537.6,0 551.6,0 551.6,-14\"/>\n</g>\n<!-- node5&#45;&#45;null8 -->\n<g id=\"edge18\" class=\"edge\">\n<title>node5--null8</title>\n<path fill=\"none\" stroke=\"black\" d=\"M522.38,-35.57C528.01,-28.33 534.56,-19.91 539.08,-14.1\"/>\n</g>\n<!-- node7 -->\n<g id=\"node18\" class=\"node\">\n<title>node7</title>\n<ellipse fill=\"none\" stroke=\"black\" cx=\"578.2\" cy=\"-136.6\" rx=\"18\" ry=\"18\"/>\n<text text-anchor=\"middle\" x=\"578.2\" y=\"-132.9\" font-family=\"Times,serif\" font-size=\"14.00\">90</text>\n</g>\n<!-- node7&#45;&#45;node6 -->\n<g id=\"edge12\" class=\"edge\">\n<title>node7--node6</title>\n<path fill=\"none\" stroke=\"black\" d=\"M560.9,-131.04C535.1,-122.75 486.8,-107.22 461.03,-98.94\"/>\n</g>\n<!-- null9 -->\n<g id=\"node19\" class=\"node\">\n<title>null9</title>\n<polygon fill=\"none\" stroke=\"black\" points=\"618.8,-100.4 604.8,-100.4 604.8,-86.4 618.8,-86.4 618.8,-100.4\"/>\n</g>\n<!-- node7&#45;&#45;null9 -->\n<g id=\"edge19\" class=\"edge\">\n<title>node7--null9</title>\n<path fill=\"none\" stroke=\"black\" d=\"M589.58,-121.97C595.21,-114.73 601.76,-106.31 606.28,-100.5\"/>\n</g>\n<!-- node8&#45;&#45;node7 -->\n<g id=\"edge11\" class=\"edge\">\n<title>node8--node7</title>\n<path fill=\"none\" stroke=\"black\" d=\"M630.15,-170C619.15,-162.93 604.37,-153.42 593.39,-146.36\"/>\n</g>\n<!-- null10 -->\n<g id=\"node21\" class=\"node\">\n<title>null10</title>\n<polygon fill=\"none\" stroke=\"black\" points=\"686,-143.6 672,-143.6 672,-129.6 686,-129.6 686,-143.6\"/>\n</g>\n<!-- node8&#45;&#45;null10 -->\n<g id=\"edge20\" class=\"edge\">\n<title>node8--null10</title>\n<path fill=\"none\" stroke=\"black\" d=\"M656.78,-165.17C662.41,-157.93 668.96,-149.51 673.48,-143.7\"/>\n</g>\n</g>\n</svg>"
          },
          "metadata": {}
        },
        {
          "output_type": "stream",
          "name": "stdout",
          "text": [
            "Respuesta: 15 CORRECTA\n"
          ]
        }
      ],
      "source": [
        "a.dibujar()\n",
        "chequear(a.min().info,15)\n"
      ]
    },
    {
      "cell_type": "code",
      "execution_count": 5,
      "metadata": {
        "colab": {
          "base_uri": "https://localhost:8080/",
          "height": 371
        },
        "id": "WDdXRVSLDpvm",
        "outputId": "fb41def9-d4c0-4e81-d788-8edb45ffc7d3"
      },
      "outputs": [
        {
          "output_type": "display_data",
          "data": {
            "text/plain": [
              "<IPython.core.display.SVG object>"
            ],
            "image/svg+xml": "<svg xmlns=\"http://www.w3.org/2000/svg\" xmlns:xlink=\"http://www.w3.org/1999/xlink\" width=\"761pt\" height=\"249pt\" viewBox=\"0.00 0.00 761.20 249.00\">\n<g id=\"graph0\" class=\"graph\" transform=\"scale(1 1) rotate(0) translate(4 245)\">\n<title>Arbol</title>\n<polygon fill=\"white\" stroke=\"transparent\" points=\"-4,4 -4,-245 757.2,-245 757.2,4 -4,4\"/>\n<!-- null0 -->\n<g id=\"node1\" class=\"node\">\n<title>null0</title>\n<polygon fill=\"none\" stroke=\"black\" points=\"14,-57.2 0,-57.2 0,-43.2 14,-43.2 14,-57.2\"/>\n</g>\n<!-- node0 -->\n<g id=\"node2\" class=\"node\">\n<title>node0</title>\n<ellipse fill=\"none\" stroke=\"black\" cx=\"40.6\" cy=\"-93.4\" rx=\"18\" ry=\"18\"/>\n<text text-anchor=\"middle\" x=\"40.6\" y=\"-89.7\" font-family=\"Times,serif\" font-size=\"14.00\">10</text>\n</g>\n<!-- node0&#45;&#45;null0 -->\n<g id=\"edge4\" class=\"edge\">\n<title>node0--null0</title>\n<path fill=\"none\" stroke=\"black\" d=\"M29.22,-78.77C23.59,-71.53 17.04,-63.11 12.52,-57.3\"/>\n</g>\n<!-- null1 -->\n<g id=\"node3\" class=\"node\">\n<title>null1</title>\n<polygon fill=\"none\" stroke=\"black\" points=\"81.2,-57.2 67.2,-57.2 67.2,-43.2 81.2,-43.2 81.2,-57.2\"/>\n</g>\n<!-- node0&#45;&#45;null1 -->\n<g id=\"edge5\" class=\"edge\">\n<title>node0--null1</title>\n<path fill=\"none\" stroke=\"black\" d=\"M51.98,-78.77C57.61,-71.53 64.16,-63.11 68.68,-57.3\"/>\n</g>\n<!-- node1 -->\n<g id=\"node4\" class=\"node\">\n<title>node1</title>\n<ellipse fill=\"none\" stroke=\"black\" cx=\"107.8\" cy=\"-136.6\" rx=\"18\" ry=\"18\"/>\n<text text-anchor=\"middle\" x=\"107.8\" y=\"-132.9\" font-family=\"Times,serif\" font-size=\"14.00\">15</text>\n</g>\n<!-- node1&#45;&#45;node0 -->\n<g id=\"edge3\" class=\"edge\">\n<title>node1--node0</title>\n<path fill=\"none\" stroke=\"black\" d=\"M92.55,-126.8C81.55,-119.73 66.77,-110.22 55.79,-103.16\"/>\n</g>\n<!-- null2 -->\n<g id=\"node5\" class=\"node\">\n<title>null2</title>\n<polygon fill=\"none\" stroke=\"black\" points=\"148.4,-100.4 134.4,-100.4 134.4,-86.4 148.4,-86.4 148.4,-100.4\"/>\n</g>\n<!-- node1&#45;&#45;null2 -->\n<g id=\"edge6\" class=\"edge\">\n<title>node1--null2</title>\n<path fill=\"none\" stroke=\"black\" d=\"M119.18,-121.97C124.81,-114.73 131.36,-106.31 135.88,-100.5\"/>\n</g>\n<!-- node4 -->\n<g id=\"node6\" class=\"node\">\n<title>node4</title>\n<ellipse fill=\"none\" stroke=\"black\" cx=\"175\" cy=\"-179.8\" rx=\"18\" ry=\"18\"/>\n<text text-anchor=\"middle\" x=\"175\" y=\"-176.1\" font-family=\"Times,serif\" font-size=\"14.00\">20</text>\n</g>\n<!-- node4&#45;&#45;node1 -->\n<g id=\"edge2\" class=\"edge\">\n<title>node4--node1</title>\n<path fill=\"none\" stroke=\"black\" d=\"M159.75,-170C148.75,-162.93 133.97,-153.42 122.99,-146.36\"/>\n</g>\n<!-- node3 -->\n<g id=\"node10\" class=\"node\">\n<title>node3</title>\n<ellipse fill=\"none\" stroke=\"black\" cx=\"309.4\" cy=\"-136.6\" rx=\"18\" ry=\"18\"/>\n<text text-anchor=\"middle\" x=\"309.4\" y=\"-132.9\" font-family=\"Times,serif\" font-size=\"14.00\">35</text>\n</g>\n<!-- node4&#45;&#45;node3 -->\n<g id=\"edge7\" class=\"edge\">\n<title>node4--node3</title>\n<path fill=\"none\" stroke=\"black\" d=\"M192.3,-174.24C218.1,-165.95 266.4,-150.42 292.17,-142.14\"/>\n</g>\n<!-- null3 -->\n<g id=\"node7\" class=\"node\">\n<title>null3</title>\n<polygon fill=\"none\" stroke=\"black\" points=\"215.6,-57.2 201.6,-57.2 201.6,-43.2 215.6,-43.2 215.6,-57.2\"/>\n</g>\n<!-- node2 -->\n<g id=\"node8\" class=\"node\">\n<title>node2</title>\n<ellipse fill=\"none\" stroke=\"black\" cx=\"242.2\" cy=\"-93.4\" rx=\"18\" ry=\"18\"/>\n<text text-anchor=\"middle\" x=\"242.2\" y=\"-89.7\" font-family=\"Times,serif\" font-size=\"14.00\">30</text>\n</g>\n<!-- node2&#45;&#45;null3 -->\n<g id=\"edge9\" class=\"edge\">\n<title>node2--null3</title>\n<path fill=\"none\" stroke=\"black\" d=\"M230.82,-78.77C225.19,-71.53 218.64,-63.11 214.12,-57.3\"/>\n</g>\n<!-- null4 -->\n<g id=\"node9\" class=\"node\">\n<title>null4</title>\n<polygon fill=\"none\" stroke=\"black\" points=\"282.8,-57.2 268.8,-57.2 268.8,-43.2 282.8,-43.2 282.8,-57.2\"/>\n</g>\n<!-- node2&#45;&#45;null4 -->\n<g id=\"edge10\" class=\"edge\">\n<title>node2--null4</title>\n<path fill=\"none\" stroke=\"black\" d=\"M253.58,-78.77C259.21,-71.53 265.76,-63.11 270.28,-57.3\"/>\n</g>\n<!-- node3&#45;&#45;node2 -->\n<g id=\"edge8\" class=\"edge\">\n<title>node3--node2</title>\n<path fill=\"none\" stroke=\"black\" d=\"M294.15,-126.8C283.15,-119.73 268.37,-110.22 257.39,-103.16\"/>\n</g>\n<!-- null5 -->\n<g id=\"node11\" class=\"node\">\n<title>null5</title>\n<polygon fill=\"none\" stroke=\"black\" points=\"350,-100.4 336,-100.4 336,-86.4 350,-86.4 350,-100.4\"/>\n</g>\n<!-- node3&#45;&#45;null5 -->\n<g id=\"edge11\" class=\"edge\">\n<title>node3--null5</title>\n<path fill=\"none\" stroke=\"black\" d=\"M320.78,-121.97C326.41,-114.73 332.96,-106.31 337.48,-100.5\"/>\n</g>\n<!-- node10 -->\n<g id=\"node12\" class=\"node\">\n<title>node10</title>\n<ellipse fill=\"none\" stroke=\"black\" cx=\"376.6\" cy=\"-223\" rx=\"18\" ry=\"18\"/>\n<text text-anchor=\"middle\" x=\"376.6\" y=\"-219.3\" font-family=\"Times,serif\" font-size=\"14.00\">42</text>\n</g>\n<!-- node10&#45;&#45;node4 -->\n<g id=\"edge1\" class=\"edge\">\n<title>node10--node4</title>\n<path fill=\"none\" stroke=\"black\" d=\"M358.71,-219.17C320.45,-210.97 231.07,-191.82 192.85,-183.63\"/>\n</g>\n<!-- node9 -->\n<g id=\"node22\" class=\"node\">\n<title>node9</title>\n<ellipse fill=\"none\" stroke=\"black\" cx=\"712.6\" cy=\"-179.8\" rx=\"18\" ry=\"18\"/>\n<text text-anchor=\"middle\" x=\"712.6\" y=\"-176.1\" font-family=\"Times,serif\" font-size=\"14.00\">95</text>\n</g>\n<!-- node10&#45;&#45;node9 -->\n<g id=\"edge12\" class=\"edge\">\n<title>node10--node9</title>\n<path fill=\"none\" stroke=\"black\" d=\"M394.66,-220.68C453.01,-213.18 635.98,-189.65 694.45,-182.13\"/>\n</g>\n<!-- null6 -->\n<g id=\"node13\" class=\"node\">\n<title>null6</title>\n<polygon fill=\"none\" stroke=\"black\" points=\"417.2,-14 403.2,-14 403.2,0 417.2,0 417.2,-14\"/>\n</g>\n<!-- node5 -->\n<g id=\"node14\" class=\"node\">\n<title>node5</title>\n<ellipse fill=\"none\" stroke=\"black\" cx=\"443.8\" cy=\"-50.2\" rx=\"18\" ry=\"18\"/>\n<text text-anchor=\"middle\" x=\"443.8\" y=\"-46.5\" font-family=\"Times,serif\" font-size=\"14.00\">65</text>\n</g>\n<!-- node5&#45;&#45;null6 -->\n<g id=\"edge16\" class=\"edge\">\n<title>node5--null6</title>\n<path fill=\"none\" stroke=\"black\" d=\"M432.42,-35.57C426.79,-28.33 420.24,-19.91 415.72,-14.1\"/>\n</g>\n<!-- null7 -->\n<g id=\"node15\" class=\"node\">\n<title>null7</title>\n<polygon fill=\"none\" stroke=\"black\" points=\"484.4,-14 470.4,-14 470.4,0 484.4,0 484.4,-14\"/>\n</g>\n<!-- node5&#45;&#45;null7 -->\n<g id=\"edge17\" class=\"edge\">\n<title>node5--null7</title>\n<path fill=\"none\" stroke=\"black\" d=\"M455.18,-35.57C460.81,-28.33 467.36,-19.91 471.88,-14.1\"/>\n</g>\n<!-- node7 -->\n<g id=\"node16\" class=\"node\">\n<title>node7</title>\n<ellipse fill=\"none\" stroke=\"black\" cx=\"511\" cy=\"-93.4\" rx=\"18\" ry=\"18\"/>\n<text text-anchor=\"middle\" x=\"511\" y=\"-89.7\" font-family=\"Times,serif\" font-size=\"14.00\">72</text>\n</g>\n<!-- node7&#45;&#45;node5 -->\n<g id=\"edge15\" class=\"edge\">\n<title>node7--node5</title>\n<path fill=\"none\" stroke=\"black\" d=\"M495.75,-83.6C484.75,-76.53 469.97,-67.02 458.99,-59.96\"/>\n</g>\n<!-- node6 -->\n<g id=\"node18\" class=\"node\">\n<title>node6</title>\n<ellipse fill=\"none\" stroke=\"black\" cx=\"578.2\" cy=\"-50.2\" rx=\"18\" ry=\"18\"/>\n<text text-anchor=\"middle\" x=\"578.2\" y=\"-46.5\" font-family=\"Times,serif\" font-size=\"14.00\">81</text>\n</g>\n<!-- node7&#45;&#45;node6 -->\n<g id=\"edge18\" class=\"edge\">\n<title>node7--node6</title>\n<path fill=\"none\" stroke=\"black\" d=\"M526.25,-83.6C537.25,-76.53 552.03,-67.02 563.01,-59.96\"/>\n</g>\n<!-- null8 -->\n<g id=\"node17\" class=\"node\">\n<title>null8</title>\n<polygon fill=\"none\" stroke=\"black\" points=\"551.6,-14 537.6,-14 537.6,0 551.6,0 551.6,-14\"/>\n</g>\n<!-- node6&#45;&#45;null8 -->\n<g id=\"edge19\" class=\"edge\">\n<title>node6--null8</title>\n<path fill=\"none\" stroke=\"black\" d=\"M566.82,-35.57C561.19,-28.33 554.64,-19.91 550.12,-14.1\"/>\n</g>\n<!-- null9 -->\n<g id=\"node19\" class=\"node\">\n<title>null9</title>\n<polygon fill=\"none\" stroke=\"black\" points=\"618.8,-14 604.8,-14 604.8,0 618.8,0 618.8,-14\"/>\n</g>\n<!-- node6&#45;&#45;null9 -->\n<g id=\"edge20\" class=\"edge\">\n<title>node6--null9</title>\n<path fill=\"none\" stroke=\"black\" d=\"M589.58,-35.57C595.21,-28.33 601.76,-19.91 606.28,-14.1\"/>\n</g>\n<!-- node8 -->\n<g id=\"node20\" class=\"node\">\n<title>node8</title>\n<ellipse fill=\"none\" stroke=\"black\" cx=\"645.4\" cy=\"-136.6\" rx=\"18\" ry=\"18\"/>\n<text text-anchor=\"middle\" x=\"645.4\" y=\"-132.9\" font-family=\"Times,serif\" font-size=\"14.00\">90</text>\n</g>\n<!-- node8&#45;&#45;node7 -->\n<g id=\"edge14\" class=\"edge\">\n<title>node8--node7</title>\n<path fill=\"none\" stroke=\"black\" d=\"M628.1,-131.04C602.3,-122.75 554,-107.22 528.23,-98.94\"/>\n</g>\n<!-- null10 -->\n<g id=\"node21\" class=\"node\">\n<title>null10</title>\n<polygon fill=\"none\" stroke=\"black\" points=\"686,-100.4 672,-100.4 672,-86.4 686,-86.4 686,-100.4\"/>\n</g>\n<!-- node8&#45;&#45;null10 -->\n<g id=\"edge21\" class=\"edge\">\n<title>node8--null10</title>\n<path fill=\"none\" stroke=\"black\" d=\"M656.78,-121.97C662.41,-114.73 668.96,-106.31 673.48,-100.5\"/>\n</g>\n<!-- node9&#45;&#45;node8 -->\n<g id=\"edge13\" class=\"edge\">\n<title>node9--node8</title>\n<path fill=\"none\" stroke=\"black\" d=\"M697.35,-170C686.35,-162.93 671.57,-153.42 660.59,-146.36\"/>\n</g>\n<!-- null11 -->\n<g id=\"node23\" class=\"node\">\n<title>null11</title>\n<polygon fill=\"none\" stroke=\"black\" points=\"753.2,-143.6 739.2,-143.6 739.2,-129.6 753.2,-129.6 753.2,-143.6\"/>\n</g>\n<!-- node9&#45;&#45;null11 -->\n<g id=\"edge22\" class=\"edge\">\n<title>node9--null11</title>\n<path fill=\"none\" stroke=\"black\" d=\"M723.98,-165.17C729.61,-157.93 736.16,-149.51 740.68,-143.7\"/>\n</g>\n</g>\n</svg>"
          },
          "metadata": {}
        },
        {
          "output_type": "stream",
          "name": "stdout",
          "text": [
            "Respuesta: 10 CORRECTA\n"
          ]
        }
      ],
      "source": [
        "a.insert(10)\n",
        "a.dibujar()\n",
        "chequear(a.min().info,10)"
      ]
    }
  ],
  "metadata": {
    "colab": {
      "provenance": []
    },
    "kernelspec": {
      "display_name": "Python 3",
      "language": "python",
      "name": "python3"
    },
    "language_info": {
      "codemirror_mode": {
        "name": "ipython",
        "version": 3
      },
      "file_extension": ".py",
      "mimetype": "text/x-python",
      "name": "python",
      "nbconvert_exporter": "python",
      "pygments_lexer": "ipython3",
      "version": "3.11.0"
    }
  },
  "nbformat": 4,
  "nbformat_minor": 0
}