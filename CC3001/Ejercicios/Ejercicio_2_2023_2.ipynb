{
  "cells": [
    {
      "cell_type": "markdown",
      "metadata": {
        "id": "ysWOm2pP-x-d"
      },
      "source": [
        "# CC3001 Algoritmos y Estructuras de Datos\n",
        "\n",
        "**Profesores: Nelson Baloian, Benjamín Bustos, Sebastian Ferrada, Patricio Poblete <br>\n",
        "Auxiliares: Sebastián Acuña, Valentina Aravena, Vicente Olivares, Ricardo Valdivia<br>\n",
        "Estudiante: Ignacio Romero Aravena <br>\n",
        "Fecha: 14/08/2023**</br>"
      ]
    },
    {
      "cell_type": "markdown",
      "metadata": {
        "id": "p80VDyiQ-boW"
      },
      "source": [
        "### Ejercicio 1.3\n",
        "\n",
        "Un polinomio se puede evaluar en tiempo lineal sin necesidad de una variable auxiliar si observamos que $P(x)$ se puede factorizar como:\n",
        "\n",
        "$$\n",
        "P(x) = a_0 +x(a_1+x(\\cdots+x(a_{n-1}+x(a_n))\\cdots))\n",
        "$$\n",
        "\n",
        "Por ejemplo,\n",
        "\n",
        "$$\n",
        "\\begin{align}\n",
        "P(x) &= 5+2x-3x^2+4x^3\\\\\n",
        " &=5+x(2+x(-3+x(4)))\n",
        "\\end{align}\n",
        "$$\n",
        "\n",
        "Programe un algoritmo iterativo que evalúe el polinomio utilizando esta idea. Comience desde el paréntesis más interno y vaya avanzando hacia la izquierda. Indique cuál es el invariante que utiliza. El algoritmo resultante se llama la **Regla de Horner**."
      ]
    },
    {
      "cell_type": "code",
      "execution_count": 2,
      "metadata": {
        "id": "eLplHbzE-boX"
      },
      "outputs": [],
      "source": [
        "def evalp(a,x):\n",
        "    \"\"\"Evalúa en el punto x el polinomio cuyos coeficientes son a[0], a[1],...\n",
        "    utilizando la Regla de Horner\n",
        "    Retorna el valor calculado\n",
        "\n",
        "    Invariante: El valor de la variable P, se actualiza en cada ciclo con el valor del polinomio\n",
        "                hasta ese punto, es decir, se puede verificar en todo momento que el valor corresponde\n",
        "                al índice del momento. Además de contar con la condición inicial del valor del primer \n",
        "                índice del polinomio y como condición de término el valor del polinomio evaluado en determinado punto.\n",
        "    \"\"\"\n",
        "    P = a[len(a)-1]\n",
        "    for i in range(len(a)-1):\n",
        "        P = a[len(a)-2-i]+x*P\n",
        "    return P"
      ]
    },
    {
      "cell_type": "code",
      "execution_count": 3,
      "metadata": {
        "id": "5M_SX68Y-boY"
      },
      "outputs": [],
      "source": [
        "assert(evalp([5,2,-3,4],2)==29)\n",
        "assert(evalp([5,2,-3,4],3)==92)\n",
        "assert(evalp([5,2,-3,4],0)==5)\n",
        "assert(evalp([5,2,-3,4],1)==8)\n",
        "assert(evalp([5,2,-3,4],5)== 440)\n",
        "assert(evalp([5,2,-3,4],32)== 128069)"
      ]
    }
  ],
  "metadata": {
    "colab": {
      "provenance": []
    },
    "kernelspec": {
      "display_name": "Python 3",
      "name": "python3"
    },
    "language_info": {
      "codemirror_mode": {
        "name": "ipython",
        "version": 3
      },
      "file_extension": ".py",
      "mimetype": "text/x-python",
      "name": "python",
      "nbconvert_exporter": "python",
      "pygments_lexer": "ipython3",
      "version": "3.11.0"
    }
  },
  "nbformat": 4,
  "nbformat_minor": 0
}
