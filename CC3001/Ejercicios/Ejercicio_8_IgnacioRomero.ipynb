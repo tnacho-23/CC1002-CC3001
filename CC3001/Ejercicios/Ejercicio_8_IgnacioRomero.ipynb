{
  "nbformat": 4,
  "nbformat_minor": 0,
  "metadata": {
    "colab": {
      "provenance": []
    },
    "kernelspec": {
      "name": "python3",
      "display_name": "Python 3"
    },
    "language_info": {
      "name": "python"
    }
  },
  "cells": [
    {
      "cell_type": "markdown",
      "source": [
        "# CC3001 Algoritmos y Estructuras de Datos\n",
        "\n",
        "**Profesores: Nelson Baloian, Benjamín Bustos, Sebastian Ferrada, Patricio Poblete <br>\n",
        "Auxiliares: Sebastián Acuña, Valentina Aravena, Vicente Olivares, Ricardo Valdivia<br>\n",
        "Fecha: 6/11/2023**</br>"
      ],
      "metadata": {
        "id": "4pEJ_bq8fY56"
      }
    },
    {
      "cell_type": "markdown",
      "metadata": {
        "id": "oYvEAOTCfSlD"
      },
      "source": [
        "### Ejercicio 6.6 (Operaciones en un *trie*)\n",
        "\n",
        "Consideremos el conjunto de llaves que aparece en el apunte\n",
        "\n",
        "```\n",
        "A = 00100\n",
        "B = 01000\n",
        "C = 01111\n",
        "D = 11000\n",
        "E = 11101\n",
        "```\n",
        "\n",
        "con las cuales se construye este *trie*:\n",
        "\n",
        "![trie](https://github.com/ivansipiran/AED-Apuntes/blob/main/recursos/trie.png?raw=1)\n",
        "\n",
        "A continuación ejecute (a mano) cada una de las operaciones que se indican, operando siempre sobre el árbol original, y dibuje en cada caso el árbol resultante:\n",
        "\n",
        "1. Inserte ``F = 10110``\n",
        "\n",
        "2. Inserte ``G = 00110``\n",
        "\n",
        "3. Elimine ``E = 11101``"
      ]
    }
  ]
}