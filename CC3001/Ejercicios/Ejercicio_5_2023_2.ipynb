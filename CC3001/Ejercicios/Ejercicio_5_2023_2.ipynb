{
 "cells": [
  {
   "cell_type": "markdown",
   "metadata": {
    "id": "aAw49ns2gqNL"
   },
   "source": [
    "# Ejercicio 5.2\n",
    "\n",
    "**Profesores: Nelson Baloian, Benjamín Bustos, Sebastian Ferrada, Patricio Poblete <br>\n",
    "Auxiliares: Sebastián Acuña, Valentina Aravena, Vicente Olivares, Ricardo Valdivia<br>\n",
    "Estudiante: Ignacio Romero Aravena** </br>\n",
    "\n",
    "Agregar a la clase Heap un método ``modificar(k,x)`` que al ser invocado, cambie la prioridad del elemento del casillero ``k``, dándole como nuevo valor ``x`` y asegurando que el heap siga cumpliendo las restricciones de orden. Esta operación debe funcionar en tiempo $O(\\log{n})$ en el peor caso. Escriba a continuación la definición del método ``modificar(k,x)``, y pruébela con las instrucciones que aparecen en el casillero siguiente."
   ]
  },
  {
   "cell_type": "code",
   "execution_count": 47,
   "metadata": {
    "id": "UbrfsXLUgqNL"
   },
   "outputs": [],
   "source": [
    "import numpy as np\n",
    "def trepar(a,j): # El elemento a[j] trepa hasta su nivel de prioridad\n",
    "    while j>=1 and a[j]>a[(j-1)//2]:\n",
    "        (a[j],a[(j-1)//2])=(a[(j-1)//2],a[j]) # intercambiamos con el padre\n",
    "        j=(j-1)//2 # subimos al lugar del padre\n",
    "\n",
    "def hundir(a,j,n): # El elemento a[j] se hunde hasta su nivel de prioridad\n",
    "    while 2*j+1<n: # mientras tenga al menos 1 hijo\n",
    "        k=2*j+1 # el hijo izquierdo\n",
    "        if k+1<n and a[k+1]>a[k]: # el hijo derecho existe y es mayor\n",
    "            k+=1\n",
    "        if a[j]>=a[k]: # tiene mejor prioridad que ambos hijos\n",
    "            break\n",
    "        (a[j],a[k])=(a[k],a[j]) # se intercambia con el mayor de los hijos\n",
    "        j=k # bajamos al lugar del mayor de los hijos\n",
    "\n",
    "class Heap:\n",
    "    def __init__(self,maxn=100):\n",
    "        self.a=np.zeros(maxn)\n",
    "        self.n=0\n",
    "    def insert(self,x):\n",
    "        assert self.n<len(self.a)\n",
    "        self.a[self.n]=x\n",
    "        trepar(self.a,self.n)\n",
    "        self.n+=1\n",
    "    def extract_max(self):\n",
    "        assert self.n>0\n",
    "        x=self.a[0] # esta variable lleva el máximo, el casillero 0 queda vacante\n",
    "        self.n-=1   # achicamos el heap\n",
    "        self.a[0]=self.a[self.n] # movemos el elemento sobrante hacia el casillero vacante\n",
    "        hundir(self.a,0,self.n)\n",
    "        return x\n",
    "    \n",
    "    def modificar(self, k, x):\n",
    "        self.a[k] = x # Cambiamos el valor de k, por nuestro x\n",
    "\n",
    "        hundir(self.a, k, self.n) #En caso de que necesite hundirse, se va a hundir hasta su cumplir con el orden Heap\n",
    "        trepar(self.a, k) #En caso de que necesite trepar, va a trepar hasta cumplir con el orden Heap\n",
    "        '''\n",
    "        En el peor de los casos, si y es la cantidad de veces que se hunde y x es la cantidad de veces que trepa, \n",
    "        en el peor de los casos se tendría que, entre trepar y hundirse, como la altura del árbol es log2(n)\n",
    "        y en cada nivel se hace un trabajo constante, el tiempo que demora esta operación en el peor caso es O(log(n)). Donde \n",
    "        podemos tener solamente operaciones de trepar, solamente operaciones de hundirse, o una combinación lineal de la cantidad \n",
    "        de estas dos operaciones.\n",
    "        '''\n",
    "\n",
    "    def imprimir(self):\n",
    "        print(self.a[0:self.n])"
   ]
  },
  {
   "cell_type": "code",
   "execution_count": 46,
   "metadata": {
    "id": "4v7d7HvAgqNL"
   },
   "outputs": [
    {
     "name": "stdout",
     "output_type": "stream",
     "text": [
      "[70. 62. 55. 24. 50. 10. 21. 12. 20. 36.]\n",
      "[70. 62. 55. 24. 65. 10. 21. 12. 20. 36.]\n",
      "[70. 62. 55. 20. 65. 10. 21. 12. 15. 36.]\n"
     ]
    }
   ],
   "source": [
    "a=Heap(20)\n",
    "#a.imprimir()\n",
    "a.insert(55)\n",
    "a.insert(50)\n",
    "a.insert(70)\n",
    "a.insert(12)\n",
    "a.insert(36)\n",
    "a.insert(10)\n",
    "a.insert(21)\n",
    "a.insert(24)\n",
    "a.insert(20)\n",
    "a.insert(62)\n",
    "a.imprimir()\n",
    "a.modificar(4,65)\n",
    "a.imprimir()\n",
    "a.modificar(3,15)\n",
    "a.imprimir()"
   ]
  }
 ],
 "metadata": {
  "colab": {
   "provenance": []
  },
  "kernelspec": {
   "display_name": "Python 3 (ipykernel)",
   "language": "python",
   "name": "python3"
  },
  "language_info": {
   "codemirror_mode": {
    "name": "ipython",
    "version": 3
   },
   "file_extension": ".py",
   "mimetype": "text/x-python",
   "name": "python",
   "nbconvert_exporter": "python",
   "pygments_lexer": "ipython3",
   "version": "3.11.0"
  }
 },
 "nbformat": 4,
 "nbformat_minor": 1
}
