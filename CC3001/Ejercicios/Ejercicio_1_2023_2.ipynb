{
  "cells": [
    {
      "cell_type": "markdown",
      "metadata": {
        "id": "5Q_allRIfExP"
      },
      "source": [
        "# CC3001 Algoritmos y Estructuras de Datos\n",
        "\n",
        "**Profesores: Nelson Baloian, Benjamín Bustos, Sebastian Ferrada, Patricio Poblete <br>\n",
        "Auxiliares: Sebastián Acuña, Valentina Aravena, Vicente Olivares, Ricardo Valdivia<br>\n",
        "Estudiante: Ignacio Romero Aravena </br>\n",
        "Fecha: 14/08/2023**</br>"
      ]
    },
    {
      "cell_type": "markdown",
      "metadata": {
        "id": "XVRbBe5gesuo"
      },
      "source": [
        "### Ejercicio 1.1\n",
        "\n",
        "La función ``maximo`` hace $n-1$ comparaciones de elementos para encontrar el máximo de un conjunto de tamaño $n$.\n"
      ]
    },
    {
      "cell_type": "code",
      "execution_count": 1,
      "metadata": {
        "id": "WmlyUZzYesuy",
        "outputId": "c2511f6e-e939-4510-a791-8a9f5d10be4a"
      },
      "outputs": [
        {
          "name": "stdout",
          "output_type": "stream",
          "text": [
            "132\n"
          ]
        }
      ],
      "source": [
        "# Encuentra el máximo de una lista a\n",
        "def maximo(a):\n",
        "    m=a[0]\n",
        "    # Al comenzar cada iteración, se cumple que m==max(a[0],...,a[k-1])\n",
        "    for k in range(1,len(a)):\n",
        "        if a[k]>m:\n",
        "            m=a[k]\n",
        "    return m\n",
        "\n",
        "print(maximo([25, 132, 93, 17, 54, 28]))"
      ]
    },
    {
      "cell_type": "markdown",
      "metadata": {
        "id": "Xzb1CQ9oesu2"
      },
      "source": [
        "Supongamos que se desea escribir una función ``minmax`` que al ser llamada con una lista de números, retorne un par ordenado (tupla) ``(min,max)``, con el mínimo y el máximo elemento del conjunto, respectivamente. Escriba a continuación esa función haciendo dos pasadas sobre los datos: una para encontrar el mínimo y otra para encontrar el máximo, y pruébela sobre una lista de ejemplo."
      ]
    },
    {
      "cell_type": "code",
      "execution_count": 2,
      "metadata": {
        "id": "HEHnUzLwesu3"
      },
      "outputs": [
        {
          "name": "stdout",
          "output_type": "stream",
          "text": [
            "Se realizaron un total de 14 comparaciones.\n",
            "(12, 89)\n"
          ]
        }
      ],
      "source": [
        "def minmax(a):\n",
        "    minimo = a[0]\n",
        "    maximo = a[0]\n",
        "    contar = 0\n",
        "\n",
        "    for k in range(1,len(a)):\n",
        "        contar +=1\n",
        "        if a[k]>maximo:\n",
        "            maximo=a[k]\n",
        "\n",
        "    for j in range(1, len(a)):\n",
        "        contar +=1\n",
        "        if a[j]<=minimo:\n",
        "            minimo=a[j] \n",
        "\n",
        "    print('Se realizaron un total de', contar, 'comparaciones.')\n",
        "    return(minimo,maximo)\n",
        "\n",
        "print(minmax([45,21,34,67,55,89,44,12]))"
      ]
    },
    {
      "cell_type": "markdown",
      "metadata": {
        "id": "fvlpbCaCesu4"
      },
      "source": [
        "La función anterior debería hacer $2n-2$ comparaciones de elementos ($2n-3$ si se evita comparar el elemento seleccionado en la primera pasada). ¿Será posible encontrar el mínimo y el máximo haciendo muchas menos comparaciones?\n",
        "\n",
        "¡La respuesta es que sí! Veámoslo con un ejemplo. Para simplificar, supongamos que la lista es de largo par:\n",
        "\n",
        "$$\n",
        "[45,21,34,67,55,89,44,12]\n",
        "$$\n",
        "\n",
        "Luego comparemos cada elemento que está en una posición par con su vecino de la derecha, e intercambiémoslos de modo que el par quede en orden ascendente (recuerde que las posiciones comienzan desde cero):\n",
        "\n",
        "$$\n",
        "[21,45,34,67,55,89,12,44]\n",
        "$$\n",
        "\n",
        "Luego hagamos una pasada solo sobre las posiciones pares para encontrar el mínimo ($12$), y otra pasada solo entre las posiciones impares para encontrar el máximo ($89$). ¡Listo!\n",
        "\n",
        "Programe este nuevo algoritmo, pruébelo y diga cuántas comparaciones hace en total:\n",
        "\n",
        "---"
      ]
    },
    {
      "cell_type": "code",
      "execution_count": 3,
      "metadata": {
        "id": "T7ymyANmesu5"
      },
      "outputs": [
        {
          "name": "stdout",
          "output_type": "stream",
          "text": [
            "Se realizaron un total de 9 comparaciones.\n",
            "(12, 89)\n"
          ]
        }
      ],
      "source": [
        "def minmax(a):\n",
        "    minimo = a[0]\n",
        "    maximo = a[1]\n",
        "    long = int(len(a)/2)\n",
        "    contar = 0\n",
        "    for j in range(0,long):\n",
        "        contar =+1\n",
        "        if a[2*j] > a[2*j + 1]:\n",
        "           par = a[2*j]\n",
        "           impar = a[2*j + 1]\n",
        "           a[2*j] = impar\n",
        "           a[2*j+1] = par\n",
        "    for k in range(0,long):\n",
        "        contar +=1\n",
        "        if a[2*k] < minimo:\n",
        "            minimo = a[2*k]\n",
        "\n",
        "    for m in range(0,long):\n",
        "        contar +=1\n",
        "        if a[2*m+1] > maximo:\n",
        "            maximo = a[2*m +1]\n",
        "            \n",
        "    print('Se realizaron un total de', contar, 'comparaciones.')\n",
        "    return(minimo,maximo)\n",
        "\n",
        "\n",
        "print(minmax([45,21,34,67,55,89,44,12]))"
      ]
    }
  ],
  "metadata": {
    "colab": {
      "provenance": []
    },
    "kernelspec": {
      "display_name": "Python 3",
      "name": "python3"
    },
    "language_info": {
      "codemirror_mode": {
        "name": "ipython",
        "version": 3
      },
      "file_extension": ".py",
      "mimetype": "text/x-python",
      "name": "python",
      "nbconvert_exporter": "python",
      "pygments_lexer": "ipython3",
      "version": "3.11.0"
    }
  },
  "nbformat": 4,
  "nbformat_minor": 0
}
