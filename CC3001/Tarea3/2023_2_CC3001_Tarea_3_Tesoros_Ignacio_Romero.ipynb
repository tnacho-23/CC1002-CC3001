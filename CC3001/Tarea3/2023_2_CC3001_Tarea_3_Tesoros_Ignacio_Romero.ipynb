{
  "nbformat": 4,
  "nbformat_minor": 0,
  "metadata": {
    "colab": {
      "provenance": []
    },
    "kernelspec": {
      "name": "python3",
      "display_name": "Python 3"
    },
    "language_info": {
      "name": "python"
    }
  },
  "cells": [
    {
      "cell_type": "markdown",
      "metadata": {
        "id": "TuBrFz2U_Hth"
      },
      "source": [
        "# CC3001 Primavera 2023 Tarea 3\n",
        "\n",
        "### Profesores\n",
        "Sección 1 Nelson Baloian / Patricio Poblete •\n",
        "Sección 2 Benjamín Bustos •\n",
        "Sección 3 Sebastián Ferrada\n"
      ]
    },
    {
      "cell_type": "markdown",
      "metadata": {
        "id": "vJsSzP2uyk39"
      },
      "source": [
        "# El Problema de la Mochila (*Knapsack*)\n",
        "\n",
        "El problema consiste en lo siguiente. Se tiene una mochila con capacidad para cargar un peso $T$, y un conjunto $M$ de $n$ objetos, tal que cada objeto tiene un peso y un valor: $M = \\{(p_1,v_1),(p_2,v_2),\\ldots, (p_n,v_n)\\}$. Todos los pesos son números naturales. El problema es encontrar el máximo valor que se puede cargar en la mochila usando objetos de $M$, sin sobrepasar el peso permitido $T$.\n",
        "\n",
        "Este problema se resuelve con programación dinámica teniendo en cuenta lo siguiente:\n",
        "\n",
        "*   Representamos con $C(i,j)$ el valor óptimo que se puede obtener con $i$ objetos y una mochila de capacidad $j$.\n",
        "*   El análisis para encontrar el valor óptimo $C(i,j)$ incluye dos posibles opciones:\n",
        "  *   Que el $i-$ésimo objeto sea parte del óptimo. En ese caso se esperaría que $C(i,j)$ incluya el valor $v_i$ y que la mochila sin el $i-$ésimo objeto también tenga un valor óptimo. O sea  $C(i,j) = v_i + C(i-1, j - p_i)$. Tener en cuenta que este razonamiento sólo funciona si la capacidad $j$ sobrepasa el peso $p_i$.\n",
        "  *   Que el $i$-ésimo objeto no sea parte del óptimo. En este caso el óptimo $C(i,j)$ es simplemente lo mismo que el óptimo de no considerar al objeto $i$. O sea $C(i,j) = C(i-1,j)$\n",
        "  \n",
        "  El máximo de estas dos opciones nos dará el óptimo para $C(i,j)$.\n",
        "\n",
        "Las condiciones básicas para resolver este problema son:\n",
        "\n",
        "\n",
        "*   $C(i,0) = 0, \\forall i$ (el óptimo con una mochila de capacidad 0, siempre es 0)\n",
        "*   $C(0,j) = 0, \\forall j$ (el óptimo de no tener ningún objeto es 0)\n",
        "\n",
        "Como puede observarse, este problema puede resolverse con el método de tabulación. Los pasos serían los siguientes:\n",
        "\n",
        "1.   Crear una tabla de tamaño $(n+1) \\times (T+1)$.\n",
        "2.   Llenar toda la primera fila y columna con ceros, para cumplir con las condiciones iniciales del problema.\n",
        "3.   Recorrer la matriz llenando sus valores con la regla:\n",
        "\n",
        "$$\n",
        "C(i,j) =\n",
        "\\begin{cases}\n",
        "max\\{C(i-1,j), v_i + C(i-1,j-p_i)\\} & \\text{ si } j - p_i \\geq 0 \\\\\n",
        "C(i-1,j) & \\text{ si } j - p_i < 0\n",
        "\\end{cases}\n",
        "$$\n",
        "\n",
        "4.   Retornar la solución del problema $C(n,T)$: el elemento almacenado en la posición de más a la derecha y abajo de la tabla."
      ]
    },
    {
      "cell_type": "markdown",
      "metadata": {
        "id": "8kY2A2e9yt7V"
      },
      "source": [
        "# Enunciado de la Tarea\n",
        "A John le gusta bucear y cazar tesoros. Para su buena suerte, él acaba de encontrar la ubicación de\n",
        "un barco pirata lleno de tesoros. El sofisticado sistema sonar a bordo de su barco le permite identificar\n",
        "la ubicación, profundidad y cantidad de oro en cada tesoro hundido. Desafortunadamente, John olvidó\n",
        "traer un dispositivo GPS y las posibilidades de encontrar esta ubicación de nuevo son muy escasas, por\n",
        "lo que tiene que apropiarse del oro ahora. Para empeorar la situación, John solo tiene un tanque de aire\n",
        "comprimido.\n",
        "\n",
        "John quiere bucear con el tanque de aire comprimido para recuperar tanto oro como sea posible del\n",
        "naufragio. Escriba un programa que John pueda usar para seleccionar cuáles tesoros debe recoger para\n",
        "maximizar la cantidad de oro recuperado. El problema tiene las siguientes restricciones:\n",
        "\n",
        "*   Existen $n$ tesoros $\\{(d_1, v_1), (d_2,v_2), \\ldots, (d_n, v_n)\\}$ representados por el par (profundidad, cantidad de oro). Existen como máximo 30 tesoros.\n",
        "*   El tanque de aire solo permite estar $T$ segundos bajo el agua. $T$ es como máximo 1000 segundos.\n",
        "*   En cada inmersión, John puede traer como máximo un tesoro a la vez.\n",
        "*   El tiempo para descender es $t_{di} = w*d_i$, donde $w$ es un número entero constante.\n",
        "*   El tiempo para ascender es $t_{ai} = 2w*d_i$, donde $w$ es el mismo número entero constante.\n",
        "*   Debido a limitaciones de los instrumentos, todos los parámetros son números enteros.\n",
        "\n",
        "### Ejemplos.\n",
        "1. Si $T=210$, $w=4$ y los tesoros tienen profundidades y valores $\\{(10,5),(10,1),(7,2)\\}$, la cantidad óptima de oro es 7 escogiendo los tesoros $\\{(10,5),(7,2)\\}$\n",
        "\n",
        "2. Si $T=210$, $w=4$ y los tesoros tienen profundidades y valores $\\{(4,2),(1, 2),(1,3),(5,7),(4,4),(12,100)\\}$, la cantidad óptima de oro es 107 escogiendo los tesoros $\\{(5,7),(12,100)\\}$"
      ]
    },
    {
      "cell_type": "markdown",
      "metadata": {
        "id": "-_xXYgvs_Htw"
      },
      "source": [
        "---\n",
        "# Lo que usted tiene que hacer:\n",
        "\n",
        "Implementar la función *tesoro_maximo* que recibe la lista de tesoros, la constante $w$ y la capacidad del tanque $T$, y devuelve el valor total del tesoro recuperado.\n",
        "\n",
        "La función *tesoro_maximo*, que se define a continuación puede ser usada como base para desarrollar el problema. Esta función hace algo no óptimo: simplemente escoge el primer objeto que puede ser rescatado (aquel cuyo tiempo de rescate es menor a $T$), y devuelve su valor.\n",
        "\n",
        "Modifique la función *tesoro_maximo* para solucionar el problema de John con programación dinámica. Use el problema de la mochila como referencia.\n",
        "\n",
        "Para programar la función solicitada, y cualquier función auxiliar, debe usar los array de numpy. Los únicos métodos de los objetos de tipo array que puede utilizar en su solución son los siguientes:\n",
        "\n",
        "- El método array para crear un arreglo.\n",
        "- Los métodos zeros, ones y full para inicializar un array.\n",
        "\n",
        "No se puede utilizar ningún otro método disponible en módulos de Python."
      ]
    },
    {
      "cell_type": "code",
      "metadata": {
        "id": "RxD0E8UB36S0"
      },
      "source": [
        "def tesoro_maximo(L, w, T):\n",
        "\n",
        "  maximo = 0\n",
        "\n",
        "  for tesoro in L:\n",
        "    (d, v) = tesoro\n",
        "    if (w*d + 2*w*d) < T: #el tiempo para bajar y subir es menor al tiempo de oxígeno en el tanque\n",
        "      maximo = v\n",
        "      break\n",
        "\n",
        "\n",
        "  return maximo\n"
      ],
      "execution_count": null,
      "outputs": []
    },
    {
      "cell_type": "markdown",
      "metadata": {
        "id": "fdB-QRjR7by3"
      },
      "source": [
        "Si ejecutamos la función con los datos del primer caso de ejemplo, el resultado es:"
      ]
    },
    {
      "cell_type": "code",
      "metadata": {
        "colab": {
          "base_uri": "https://localhost:8080/"
        },
        "id": "V93NdO2Q5Jhb",
        "outputId": "8de38433-ffc8-43ca-d4aa-d8bd91b44d0a"
      },
      "source": [
        "tesoros = [(10,5),(10,1),(7,2)]\n",
        "maximo = tesoro_maximo(tesoros, 4, 210)\n",
        "\n",
        "print('El máximo valor es:', maximo)\n"
      ],
      "execution_count": null,
      "outputs": [
        {
          "output_type": "stream",
          "text": [
            "El máximo valor es: 5\n"
          ],
          "name": "stdout"
        }
      ]
    },
    {
      "cell_type": "markdown",
      "metadata": {
        "id": "v_UwExwo_HuW"
      },
      "source": [
        "## ¿Qué hay que entregar?\n",
        "\n",
        "Usted debe entregar este mismo archivo, modificado de acuerdo a lo que se pide. Documentar adecuadamente su código. Cite todas las fuentes de información utilizadas. **No olvide poner su nombre en el encabezamiento**."
      ]
    }
  ]
}